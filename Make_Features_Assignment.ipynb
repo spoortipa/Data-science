{
 "cells": [
  {
   "cell_type": "markdown",
   "metadata": {
    "id": "_xQOCxG9TzAR"
   },
   "source": [
    "## Autograded Notebook (Canvas & CodeGrade)\n",
    "\n",
    "This notebook will be automatically graded. It is designed to test your answers and award points for the correct answers. Following the instructions for each Task carefully.\n",
    "\n",
    "### Instructions\n",
    "\n",
    "* **Download this notebook** as you would any other ipynb file\n",
    "* **Upload** to Google Colab or work locally (if you have that set-up)\n",
    "* **Delete `raise NotImplementedError()`**\n",
    "* Write your code in the `# YOUR CODE HERE` space\n",
    "* **Execute** the Test cells that contain `assert` statements - these help you check your work (others contain hidden tests that will be checked when you submit through Canvas)\n",
    "* **Save** your notebook when you are finished\n",
    "* **Download** as a `ipynb` file (if working in Colab)\n",
    "* **Upload** your complete notebook to Canvas (there will be additional instructions in Slack and/or Canvas)"
   ]
  },
  {
   "cell_type": "code",
   "execution_count": null,
   "metadata": {
    "id": "yZ5u35ZxmZ4v"
   },
   "outputs": [],
   "source": []
  },
  {
   "cell_type": "markdown",
   "metadata": {
    "id": "7fknoKxGz_jk"
   },
   "source": [
    "# Pixeltests School Data Science - Unit 1 Sprint 1 Module 2\n",
    "\n",
    "## Making Features\n",
    "\n",
    "### Module Learning Objectives\n",
    "\n",
    "- Understand the purpose of feature engineering\n",
    "- Work with strings in pandas\n",
    "- Work with dates and times in pandas\n",
    "- Modify or create columns of a dataframe using the `.apply()` function\n",
    "\n",
    "### Resources\n",
    "\n",
    "- Python Data Science Handbook\n",
    "  - [Chapter 3.10](https://jakevdp.github.io/PythonDataScienceHandbook/03.10-working-with-strings.html), Vectorized String Operations - eg. .strip(), .split(), .replace() and list comprehensions\n",
    "  - [Chapter 3.11](https://jakevdp.github.io/PythonDataScienceHandbook/03.11-working-with-time-series.html), Working with Time Series - lots more details about time using and not using Pandas\n",
    "- [Pixeltests Learning Method for DS - By Jayanth Rasamsetti](https://drive.google.com/file/d/1FOzTz7YtutH7M4WfS4bta-xkSqwG48Wn/view?usp=sharing)\n",
    "### Notebook points: 11"
   ]
  },
  {
   "cell_type": "markdown",
   "metadata": {
    "id": "LZSXUzBm3yvk"
   },
   "source": [
    "### Introduction\n",
    "\n",
    "This project is going to focus on learning how to create new features from exisiting data. There are many ways to create features in your datasets; we'll only focus on a few here. Let's get started!"
   ]
  },
  {
   "cell_type": "markdown",
   "metadata": {
    "id": "HEiZ9dpkcRsX"
   },
   "source": [
    "**Task 1** - Load the data set\n",
    "\n",
    "* Using the provided URL, load the Ames Housing Data into a DataFrame called `house`\n",
    "* View your DataFrame"
   ]
  },
  {
   "cell_type": "code",
   "execution_count": 59,
   "metadata": {
    "colab": {
     "base_uri": "https://localhost:8080/",
     "height": 243
    },
    "deletable": false,
    "id": "GHK1_AnhVsh8",
    "nbgrader": {
     "cell_type": "code",
     "checksum": "7a11bf856bacdf7efeb651411907719a",
     "grade": false,
     "grade_id": "cell-604a4cd13da263c1",
     "locked": false,
     "schema_version": 3,
     "solution": true,
     "task": false
    },
    "outputId": "b6135618-57b8-45ce-dc64-e0668c71a6af"
   },
   "outputs": [
    {
     "data": {
      "text/html": [
       "<div>\n",
       "<style scoped>\n",
       "    .dataframe tbody tr th:only-of-type {\n",
       "        vertical-align: middle;\n",
       "    }\n",
       "\n",
       "    .dataframe tbody tr th {\n",
       "        vertical-align: top;\n",
       "    }\n",
       "\n",
       "    .dataframe thead th {\n",
       "        text-align: right;\n",
       "    }\n",
       "</style>\n",
       "<table border=\"1\" class=\"dataframe\">\n",
       "  <thead>\n",
       "    <tr style=\"text-align: right;\">\n",
       "      <th></th>\n",
       "      <th>Id</th>\n",
       "      <th>MSSubClass</th>\n",
       "      <th>MSZoning</th>\n",
       "      <th>LotFrontage</th>\n",
       "      <th>LotArea</th>\n",
       "      <th>Street</th>\n",
       "      <th>Alley</th>\n",
       "      <th>LotShape</th>\n",
       "      <th>LandContour</th>\n",
       "      <th>Utilities</th>\n",
       "      <th>...</th>\n",
       "      <th>PoolArea</th>\n",
       "      <th>PoolQC</th>\n",
       "      <th>Fence</th>\n",
       "      <th>MiscFeature</th>\n",
       "      <th>MiscVal</th>\n",
       "      <th>MoSold</th>\n",
       "      <th>YrSold</th>\n",
       "      <th>SaleType</th>\n",
       "      <th>SaleCondition</th>\n",
       "      <th>SalePrice</th>\n",
       "    </tr>\n",
       "  </thead>\n",
       "  <tbody>\n",
       "    <tr>\n",
       "      <th>0</th>\n",
       "      <td>1</td>\n",
       "      <td>60</td>\n",
       "      <td>RL</td>\n",
       "      <td>65.0</td>\n",
       "      <td>8450</td>\n",
       "      <td>Pave</td>\n",
       "      <td>NaN</td>\n",
       "      <td>Reg</td>\n",
       "      <td>Lvl</td>\n",
       "      <td>AllPub</td>\n",
       "      <td>...</td>\n",
       "      <td>0</td>\n",
       "      <td>NaN</td>\n",
       "      <td>NaN</td>\n",
       "      <td>NaN</td>\n",
       "      <td>0</td>\n",
       "      <td>2</td>\n",
       "      <td>2008</td>\n",
       "      <td>WD</td>\n",
       "      <td>Normal</td>\n",
       "      <td>208500</td>\n",
       "    </tr>\n",
       "    <tr>\n",
       "      <th>1</th>\n",
       "      <td>2</td>\n",
       "      <td>20</td>\n",
       "      <td>RL</td>\n",
       "      <td>80.0</td>\n",
       "      <td>9600</td>\n",
       "      <td>Pave</td>\n",
       "      <td>NaN</td>\n",
       "      <td>Reg</td>\n",
       "      <td>Lvl</td>\n",
       "      <td>AllPub</td>\n",
       "      <td>...</td>\n",
       "      <td>0</td>\n",
       "      <td>NaN</td>\n",
       "      <td>NaN</td>\n",
       "      <td>NaN</td>\n",
       "      <td>0</td>\n",
       "      <td>5</td>\n",
       "      <td>2007</td>\n",
       "      <td>WD</td>\n",
       "      <td>Normal</td>\n",
       "      <td>181500</td>\n",
       "    </tr>\n",
       "    <tr>\n",
       "      <th>2</th>\n",
       "      <td>3</td>\n",
       "      <td>60</td>\n",
       "      <td>RL</td>\n",
       "      <td>68.0</td>\n",
       "      <td>11250</td>\n",
       "      <td>Pave</td>\n",
       "      <td>NaN</td>\n",
       "      <td>IR1</td>\n",
       "      <td>Lvl</td>\n",
       "      <td>AllPub</td>\n",
       "      <td>...</td>\n",
       "      <td>0</td>\n",
       "      <td>NaN</td>\n",
       "      <td>NaN</td>\n",
       "      <td>NaN</td>\n",
       "      <td>0</td>\n",
       "      <td>9</td>\n",
       "      <td>2008</td>\n",
       "      <td>WD</td>\n",
       "      <td>Normal</td>\n",
       "      <td>223500</td>\n",
       "    </tr>\n",
       "    <tr>\n",
       "      <th>3</th>\n",
       "      <td>4</td>\n",
       "      <td>70</td>\n",
       "      <td>RL</td>\n",
       "      <td>60.0</td>\n",
       "      <td>9550</td>\n",
       "      <td>Pave</td>\n",
       "      <td>NaN</td>\n",
       "      <td>IR1</td>\n",
       "      <td>Lvl</td>\n",
       "      <td>AllPub</td>\n",
       "      <td>...</td>\n",
       "      <td>0</td>\n",
       "      <td>NaN</td>\n",
       "      <td>NaN</td>\n",
       "      <td>NaN</td>\n",
       "      <td>0</td>\n",
       "      <td>2</td>\n",
       "      <td>2006</td>\n",
       "      <td>WD</td>\n",
       "      <td>Abnorml</td>\n",
       "      <td>140000</td>\n",
       "    </tr>\n",
       "    <tr>\n",
       "      <th>4</th>\n",
       "      <td>5</td>\n",
       "      <td>60</td>\n",
       "      <td>RL</td>\n",
       "      <td>84.0</td>\n",
       "      <td>14260</td>\n",
       "      <td>Pave</td>\n",
       "      <td>NaN</td>\n",
       "      <td>IR1</td>\n",
       "      <td>Lvl</td>\n",
       "      <td>AllPub</td>\n",
       "      <td>...</td>\n",
       "      <td>0</td>\n",
       "      <td>NaN</td>\n",
       "      <td>NaN</td>\n",
       "      <td>NaN</td>\n",
       "      <td>0</td>\n",
       "      <td>12</td>\n",
       "      <td>2008</td>\n",
       "      <td>WD</td>\n",
       "      <td>Normal</td>\n",
       "      <td>250000</td>\n",
       "    </tr>\n",
       "    <tr>\n",
       "      <th>...</th>\n",
       "      <td>...</td>\n",
       "      <td>...</td>\n",
       "      <td>...</td>\n",
       "      <td>...</td>\n",
       "      <td>...</td>\n",
       "      <td>...</td>\n",
       "      <td>...</td>\n",
       "      <td>...</td>\n",
       "      <td>...</td>\n",
       "      <td>...</td>\n",
       "      <td>...</td>\n",
       "      <td>...</td>\n",
       "      <td>...</td>\n",
       "      <td>...</td>\n",
       "      <td>...</td>\n",
       "      <td>...</td>\n",
       "      <td>...</td>\n",
       "      <td>...</td>\n",
       "      <td>...</td>\n",
       "      <td>...</td>\n",
       "      <td>...</td>\n",
       "    </tr>\n",
       "    <tr>\n",
       "      <th>1455</th>\n",
       "      <td>1456</td>\n",
       "      <td>60</td>\n",
       "      <td>RL</td>\n",
       "      <td>62.0</td>\n",
       "      <td>7917</td>\n",
       "      <td>Pave</td>\n",
       "      <td>NaN</td>\n",
       "      <td>Reg</td>\n",
       "      <td>Lvl</td>\n",
       "      <td>AllPub</td>\n",
       "      <td>...</td>\n",
       "      <td>0</td>\n",
       "      <td>NaN</td>\n",
       "      <td>NaN</td>\n",
       "      <td>NaN</td>\n",
       "      <td>0</td>\n",
       "      <td>8</td>\n",
       "      <td>2007</td>\n",
       "      <td>WD</td>\n",
       "      <td>Normal</td>\n",
       "      <td>175000</td>\n",
       "    </tr>\n",
       "    <tr>\n",
       "      <th>1456</th>\n",
       "      <td>1457</td>\n",
       "      <td>20</td>\n",
       "      <td>RL</td>\n",
       "      <td>85.0</td>\n",
       "      <td>13175</td>\n",
       "      <td>Pave</td>\n",
       "      <td>NaN</td>\n",
       "      <td>Reg</td>\n",
       "      <td>Lvl</td>\n",
       "      <td>AllPub</td>\n",
       "      <td>...</td>\n",
       "      <td>0</td>\n",
       "      <td>NaN</td>\n",
       "      <td>MnPrv</td>\n",
       "      <td>NaN</td>\n",
       "      <td>0</td>\n",
       "      <td>2</td>\n",
       "      <td>2010</td>\n",
       "      <td>WD</td>\n",
       "      <td>Normal</td>\n",
       "      <td>210000</td>\n",
       "    </tr>\n",
       "    <tr>\n",
       "      <th>1457</th>\n",
       "      <td>1458</td>\n",
       "      <td>70</td>\n",
       "      <td>RL</td>\n",
       "      <td>66.0</td>\n",
       "      <td>9042</td>\n",
       "      <td>Pave</td>\n",
       "      <td>NaN</td>\n",
       "      <td>Reg</td>\n",
       "      <td>Lvl</td>\n",
       "      <td>AllPub</td>\n",
       "      <td>...</td>\n",
       "      <td>0</td>\n",
       "      <td>NaN</td>\n",
       "      <td>GdPrv</td>\n",
       "      <td>Shed</td>\n",
       "      <td>2500</td>\n",
       "      <td>5</td>\n",
       "      <td>2010</td>\n",
       "      <td>WD</td>\n",
       "      <td>Normal</td>\n",
       "      <td>266500</td>\n",
       "    </tr>\n",
       "    <tr>\n",
       "      <th>1458</th>\n",
       "      <td>1459</td>\n",
       "      <td>20</td>\n",
       "      <td>RL</td>\n",
       "      <td>68.0</td>\n",
       "      <td>9717</td>\n",
       "      <td>Pave</td>\n",
       "      <td>NaN</td>\n",
       "      <td>Reg</td>\n",
       "      <td>Lvl</td>\n",
       "      <td>AllPub</td>\n",
       "      <td>...</td>\n",
       "      <td>0</td>\n",
       "      <td>NaN</td>\n",
       "      <td>NaN</td>\n",
       "      <td>NaN</td>\n",
       "      <td>0</td>\n",
       "      <td>4</td>\n",
       "      <td>2010</td>\n",
       "      <td>WD</td>\n",
       "      <td>Normal</td>\n",
       "      <td>142125</td>\n",
       "    </tr>\n",
       "    <tr>\n",
       "      <th>1459</th>\n",
       "      <td>1460</td>\n",
       "      <td>20</td>\n",
       "      <td>RL</td>\n",
       "      <td>75.0</td>\n",
       "      <td>9937</td>\n",
       "      <td>Pave</td>\n",
       "      <td>NaN</td>\n",
       "      <td>Reg</td>\n",
       "      <td>Lvl</td>\n",
       "      <td>AllPub</td>\n",
       "      <td>...</td>\n",
       "      <td>0</td>\n",
       "      <td>NaN</td>\n",
       "      <td>NaN</td>\n",
       "      <td>NaN</td>\n",
       "      <td>0</td>\n",
       "      <td>6</td>\n",
       "      <td>2008</td>\n",
       "      <td>WD</td>\n",
       "      <td>Normal</td>\n",
       "      <td>147500</td>\n",
       "    </tr>\n",
       "  </tbody>\n",
       "</table>\n",
       "<p>1460 rows × 81 columns</p>\n",
       "</div>"
      ],
      "text/plain": [
       "        Id  MSSubClass MSZoning  LotFrontage  LotArea Street Alley LotShape  \\\n",
       "0        1          60       RL         65.0     8450   Pave   NaN      Reg   \n",
       "1        2          20       RL         80.0     9600   Pave   NaN      Reg   \n",
       "2        3          60       RL         68.0    11250   Pave   NaN      IR1   \n",
       "3        4          70       RL         60.0     9550   Pave   NaN      IR1   \n",
       "4        5          60       RL         84.0    14260   Pave   NaN      IR1   \n",
       "...    ...         ...      ...          ...      ...    ...   ...      ...   \n",
       "1455  1456          60       RL         62.0     7917   Pave   NaN      Reg   \n",
       "1456  1457          20       RL         85.0    13175   Pave   NaN      Reg   \n",
       "1457  1458          70       RL         66.0     9042   Pave   NaN      Reg   \n",
       "1458  1459          20       RL         68.0     9717   Pave   NaN      Reg   \n",
       "1459  1460          20       RL         75.0     9937   Pave   NaN      Reg   \n",
       "\n",
       "     LandContour Utilities  ... PoolArea PoolQC  Fence MiscFeature MiscVal  \\\n",
       "0            Lvl    AllPub  ...        0    NaN    NaN         NaN       0   \n",
       "1            Lvl    AllPub  ...        0    NaN    NaN         NaN       0   \n",
       "2            Lvl    AllPub  ...        0    NaN    NaN         NaN       0   \n",
       "3            Lvl    AllPub  ...        0    NaN    NaN         NaN       0   \n",
       "4            Lvl    AllPub  ...        0    NaN    NaN         NaN       0   \n",
       "...          ...       ...  ...      ...    ...    ...         ...     ...   \n",
       "1455         Lvl    AllPub  ...        0    NaN    NaN         NaN       0   \n",
       "1456         Lvl    AllPub  ...        0    NaN  MnPrv         NaN       0   \n",
       "1457         Lvl    AllPub  ...        0    NaN  GdPrv        Shed    2500   \n",
       "1458         Lvl    AllPub  ...        0    NaN    NaN         NaN       0   \n",
       "1459         Lvl    AllPub  ...        0    NaN    NaN         NaN       0   \n",
       "\n",
       "     MoSold YrSold  SaleType  SaleCondition  SalePrice  \n",
       "0         2   2008        WD         Normal     208500  \n",
       "1         5   2007        WD         Normal     181500  \n",
       "2         9   2008        WD         Normal     223500  \n",
       "3         2   2006        WD        Abnorml     140000  \n",
       "4        12   2008        WD         Normal     250000  \n",
       "...     ...    ...       ...            ...        ...  \n",
       "1455      8   2007        WD         Normal     175000  \n",
       "1456      2   2010        WD         Normal     210000  \n",
       "1457      5   2010        WD         Normal     266500  \n",
       "1458      4   2010        WD         Normal     142125  \n",
       "1459      6   2008        WD         Normal     147500  \n",
       "\n",
       "[1460 rows x 81 columns]"
      ]
     },
     "execution_count": 59,
     "metadata": {},
     "output_type": "execute_result"
    }
   ],
   "source": [
    "# Task 1\n",
    "\n",
    "# Imports\n",
    "\n",
    "import pandas as pd\n",
    "\n",
    "# Dataset URL\n",
    "\n",
    "data_url = 'https://raw.githubusercontent.com/pixeltests/datasets/main/aimes_housing.csv'\n",
    "\n",
    "# YOUR CODE HERE\n",
    "house = pd.read_csv(data_url)\n",
    "\n",
    "# View your DataFrame\n",
    "house"
   ]
  },
  {
   "cell_type": "markdown",
   "metadata": {
    "id": "0foQpPZmcRsY"
   },
   "source": [
    "**Task 1 Test**"
   ]
  },
  {
   "cell_type": "code",
   "execution_count": 60,
   "metadata": {
    "deletable": false,
    "editable": false,
    "id": "rOnKHd9OcRsY",
    "nbgrader": {
     "cell_type": "code",
     "checksum": "862a67ed985b5fabe236e26724f65cae",
     "grade": true,
     "grade_id": "cell-4be6ce6f2ae0213b",
     "locked": true,
     "points": 1,
     "schema_version": 3,
     "solution": false,
     "task": false
    }
   },
   "outputs": [],
   "source": [
    "# Task 1 - Test\n",
    "\n",
    "# These tests are for you to check your work before submitting\n",
    "assert isinstance(house, pd.DataFrame), 'Have you created a DataFrame named house?'\n",
    "\n",
    "# Hidden tests - you'll see results when you submit to Canvas"
   ]
  },
  {
   "cell_type": "markdown",
   "metadata": {
    "id": "3MiNr26QcRsY"
   },
   "source": [
    "**Task 2** - Create a new feature\n",
    "\n",
    "Now that we have the data loaded, we're going to create a new feature. We can use the some of the existing features, in this case, the total number of bathrooms in one column.\n",
    "\n",
    "* Create a new variable called `Total_Bathrooms` that contains the total number of full and half bathrooms in the house.  \n",
    "\n",
    "*Hint: Identify all the columns with bath in the title and add their values together. There are four columns to add together.  Add one to the total for each full or half bathroom.*"
   ]
  },
  {
   "cell_type": "code",
   "execution_count": 61,
   "metadata": {
    "deletable": false,
    "id": "abW4ju7scRsZ",
    "nbgrader": {
     "cell_type": "code",
     "checksum": "4b44666800833a50fdd72ff9bfe83477",
     "grade": false,
     "grade_id": "cell-98808d8ac7de9a36",
     "locked": false,
     "schema_version": 3,
     "solution": true,
     "task": false
    }
   },
   "outputs": [],
   "source": [
    "# Task 2\n",
    "\n",
    "# YOUR CODE HERE\n",
    "#house.info()\n",
    "#subset = house[['BsmtFullBath','BsmtHalfBath','FullBath','HalfBath']].copy()\n",
    "\n",
    "#house['Total_Bathromms']\n",
    "house['Total_Bathrooms'] = house['BsmtFullBath'] + house['BsmtHalfBath'] + house['FullBath'] + house['HalfBath']\n",
    "# raise NotImplementedError()"
   ]
  },
  {
   "cell_type": "markdown",
   "metadata": {
    "id": "1OwdxrCpcRsZ"
   },
   "source": [
    "**Task 2 Test**"
   ]
  },
  {
   "cell_type": "code",
   "execution_count": 62,
   "metadata": {
    "colab": {
     "base_uri": "https://localhost:8080/",
     "height": 194
    },
    "deletable": false,
    "editable": false,
    "id": "N6jHujrScRsZ",
    "nbgrader": {
     "cell_type": "code",
     "checksum": "093af0e8e6677cdbd6f1239e2d394513",
     "grade": true,
     "grade_id": "cell-f9c97fbd0846aa11",
     "locked": true,
     "points": 1,
     "schema_version": 3,
     "solution": false,
     "task": false
    },
    "outputId": "fe2d31a2-0aff-4119-8c61-3c822f56a340"
   },
   "outputs": [
    {
     "data": {
      "text/html": [
       "<div>\n",
       "<style scoped>\n",
       "    .dataframe tbody tr th:only-of-type {\n",
       "        vertical-align: middle;\n",
       "    }\n",
       "\n",
       "    .dataframe tbody tr th {\n",
       "        vertical-align: top;\n",
       "    }\n",
       "\n",
       "    .dataframe thead th {\n",
       "        text-align: right;\n",
       "    }\n",
       "</style>\n",
       "<table border=\"1\" class=\"dataframe\">\n",
       "  <thead>\n",
       "    <tr style=\"text-align: right;\">\n",
       "      <th></th>\n",
       "      <th>Total_Bathrooms</th>\n",
       "      <th>BsmtFullBath</th>\n",
       "      <th>BsmtHalfBath</th>\n",
       "      <th>FullBath</th>\n",
       "      <th>HalfBath</th>\n",
       "    </tr>\n",
       "  </thead>\n",
       "  <tbody>\n",
       "    <tr>\n",
       "      <th>0</th>\n",
       "      <td>4</td>\n",
       "      <td>1</td>\n",
       "      <td>0</td>\n",
       "      <td>2</td>\n",
       "      <td>1</td>\n",
       "    </tr>\n",
       "    <tr>\n",
       "      <th>1</th>\n",
       "      <td>3</td>\n",
       "      <td>0</td>\n",
       "      <td>1</td>\n",
       "      <td>2</td>\n",
       "      <td>0</td>\n",
       "    </tr>\n",
       "    <tr>\n",
       "      <th>2</th>\n",
       "      <td>4</td>\n",
       "      <td>1</td>\n",
       "      <td>0</td>\n",
       "      <td>2</td>\n",
       "      <td>1</td>\n",
       "    </tr>\n",
       "    <tr>\n",
       "      <th>3</th>\n",
       "      <td>2</td>\n",
       "      <td>1</td>\n",
       "      <td>0</td>\n",
       "      <td>1</td>\n",
       "      <td>0</td>\n",
       "    </tr>\n",
       "    <tr>\n",
       "      <th>4</th>\n",
       "      <td>4</td>\n",
       "      <td>1</td>\n",
       "      <td>0</td>\n",
       "      <td>2</td>\n",
       "      <td>1</td>\n",
       "    </tr>\n",
       "  </tbody>\n",
       "</table>\n",
       "</div>"
      ],
      "text/plain": [
       "   Total_Bathrooms  BsmtFullBath  BsmtHalfBath  FullBath  HalfBath\n",
       "0                4             1             0         2         1\n",
       "1                3             0             1         2         0\n",
       "2                4             1             0         2         1\n",
       "3                2             1             0         1         0\n",
       "4                4             1             0         2         1"
      ]
     },
     "execution_count": 62,
     "metadata": {},
     "output_type": "execute_result"
    }
   ],
   "source": [
    "# Task 2 - Test\n",
    "\n",
    "assert 'Total_Bathrooms' in house.columns, 'Did you add the new column?'\n",
    "\n",
    "# Hidden tests - you'll see results when you submit to Canvas\n",
    "\n",
    "# View all the bathroom columns\n",
    "house[['Total_Bathrooms','BsmtFullBath','BsmtHalfBath','FullBath','HalfBath']].head()"
   ]
  },
  {
   "cell_type": "markdown",
   "metadata": {
    "id": "s1T9P_I0XJqa"
   },
   "source": [
    "**Task 3** - Create a new feature using encoding\n",
    "\n",
    "Next we're going to create another new column by \"encoding\" an exisitng column. Using the `LotArea` column, we'll assign values according the the area of the lot.\n",
    "\n",
    "* Create a new column called `Large_Lot` that takes on the following values:\n",
    "    * 0 when `LotArea` is **less** than 10,000\n",
    "    * 1 when `LotArea` is **greater than or equal** to 10,000"
   ]
  },
  {
   "cell_type": "code",
   "execution_count": 63,
   "metadata": {
    "colab": {
     "base_uri": "https://localhost:8080/",
     "height": 194
    },
    "deletable": false,
    "id": "ud09Dy0zreRB",
    "nbgrader": {
     "cell_type": "code",
     "checksum": "2169d6a1299d1df3b06f61755cf8c7fa",
     "grade": false,
     "grade_id": "cell-baf76e10fc75872a",
     "locked": false,
     "schema_version": 3,
     "solution": true,
     "task": false
    },
    "outputId": "a2515838-c9a9-41a8-d3c8-86ad88ac953b"
   },
   "outputs": [
    {
     "data": {
      "text/html": [
       "<div>\n",
       "<style scoped>\n",
       "    .dataframe tbody tr th:only-of-type {\n",
       "        vertical-align: middle;\n",
       "    }\n",
       "\n",
       "    .dataframe tbody tr th {\n",
       "        vertical-align: top;\n",
       "    }\n",
       "\n",
       "    .dataframe thead th {\n",
       "        text-align: right;\n",
       "    }\n",
       "</style>\n",
       "<table border=\"1\" class=\"dataframe\">\n",
       "  <thead>\n",
       "    <tr style=\"text-align: right;\">\n",
       "      <th></th>\n",
       "      <th>LotArea</th>\n",
       "      <th>Large_Lot</th>\n",
       "      <th>SalePrice</th>\n",
       "    </tr>\n",
       "  </thead>\n",
       "  <tbody>\n",
       "    <tr>\n",
       "      <th>0</th>\n",
       "      <td>8450</td>\n",
       "      <td>0.0</td>\n",
       "      <td>208500</td>\n",
       "    </tr>\n",
       "    <tr>\n",
       "      <th>1</th>\n",
       "      <td>9600</td>\n",
       "      <td>0.0</td>\n",
       "      <td>181500</td>\n",
       "    </tr>\n",
       "    <tr>\n",
       "      <th>2</th>\n",
       "      <td>11250</td>\n",
       "      <td>1.0</td>\n",
       "      <td>223500</td>\n",
       "    </tr>\n",
       "    <tr>\n",
       "      <th>3</th>\n",
       "      <td>9550</td>\n",
       "      <td>0.0</td>\n",
       "      <td>140000</td>\n",
       "    </tr>\n",
       "    <tr>\n",
       "      <th>4</th>\n",
       "      <td>14260</td>\n",
       "      <td>1.0</td>\n",
       "      <td>250000</td>\n",
       "    </tr>\n",
       "    <tr>\n",
       "      <th>5</th>\n",
       "      <td>14115</td>\n",
       "      <td>1.0</td>\n",
       "      <td>143000</td>\n",
       "    </tr>\n",
       "    <tr>\n",
       "      <th>6</th>\n",
       "      <td>10084</td>\n",
       "      <td>1.0</td>\n",
       "      <td>307000</td>\n",
       "    </tr>\n",
       "    <tr>\n",
       "      <th>7</th>\n",
       "      <td>10382</td>\n",
       "      <td>1.0</td>\n",
       "      <td>200000</td>\n",
       "    </tr>\n",
       "    <tr>\n",
       "      <th>8</th>\n",
       "      <td>6120</td>\n",
       "      <td>0.0</td>\n",
       "      <td>129900</td>\n",
       "    </tr>\n",
       "    <tr>\n",
       "      <th>9</th>\n",
       "      <td>7420</td>\n",
       "      <td>0.0</td>\n",
       "      <td>118000</td>\n",
       "    </tr>\n",
       "  </tbody>\n",
       "</table>\n",
       "</div>"
      ],
      "text/plain": [
       "   LotArea  Large_Lot  SalePrice\n",
       "0     8450        0.0     208500\n",
       "1     9600        0.0     181500\n",
       "2    11250        1.0     223500\n",
       "3     9550        0.0     140000\n",
       "4    14260        1.0     250000\n",
       "5    14115        1.0     143000\n",
       "6    10084        1.0     307000\n",
       "7    10382        1.0     200000\n",
       "8     6120        0.0     129900\n",
       "9     7420        0.0     118000"
      ]
     },
     "execution_count": 63,
     "metadata": {},
     "output_type": "execute_result"
    }
   ],
   "source": [
    "# Task 3\n",
    "\n",
    "# YOUR CODE HERE\n",
    "house.loc[house['LotArea'] < 10000, 'Large_Lot'] = 0\n",
    "house.loc[house['LotArea'] >= 10000, 'Large_Lot'] = 1 \n",
    "\n",
    "# raise NotImplementedError()\n",
    "\n",
    "# View the new column\n",
    "house [['LotArea', 'Large_Lot', 'SalePrice']].head(10)\n"
   ]
  },
  {
   "cell_type": "markdown",
   "metadata": {
    "id": "vwEhAoH1cRsa"
   },
   "source": [
    "**Task 3 Test**"
   ]
  },
  {
   "cell_type": "code",
   "execution_count": 64,
   "metadata": {
    "deletable": false,
    "editable": false,
    "id": "8NQ7oBzKcRsa",
    "nbgrader": {
     "cell_type": "code",
     "checksum": "f995a23669cfb8800b807917cea5c6d4",
     "grade": true,
     "grade_id": "cell-dc861d3d6dbf7bec",
     "locked": true,
     "points": 1,
     "schema_version": 3,
     "solution": false,
     "task": false
    }
   },
   "outputs": [],
   "source": [
    "# Task 3 - Test\n",
    "\n",
    "assert 'Large_Lot' in house.columns, 'Did you add the Large_Lot column?'\n",
    "\n",
    "# Hidden tests - you'll see results when you submit to Canvas"
   ]
  },
  {
   "cell_type": "markdown",
   "metadata": {
    "id": "bnh-uoqYN29Q"
   },
   "source": [
    "**Task 4** - Create another feature\n",
    "\n",
    "Let's continue with creating new features. This time, we'll focus on encoding for the sale month.\n",
    "\n",
    "* Create a new column called `Summer_Sale` that takes on the following values:\n",
    "    * 0 if the sale month was in September - May (`MoSold` = 1-5, 9-12)\n",
    "    * 1 if the sale month was in June, July or August (`MoSold` = 6, 7 or 8)"
   ]
  },
  {
   "cell_type": "code",
   "execution_count": 65,
   "metadata": {
    "colab": {
     "base_uri": "https://localhost:8080/",
     "height": 399
    },
    "deletable": false,
    "id": "3oHxB9JecRsb",
    "nbgrader": {
     "cell_type": "code",
     "checksum": "ea6c24c4077f091262db848c37ccf650",
     "grade": false,
     "grade_id": "cell-077200eae8a405e2",
     "locked": false,
     "schema_version": 3,
     "solution": true,
     "task": false
    },
    "outputId": "1a89f8f4-9e61-4652-b4ab-1a4c9ba831b7"
   },
   "outputs": [
    {
     "data": {
      "text/html": [
       "<div>\n",
       "<style scoped>\n",
       "    .dataframe tbody tr th:only-of-type {\n",
       "        vertical-align: middle;\n",
       "    }\n",
       "\n",
       "    .dataframe tbody tr th {\n",
       "        vertical-align: top;\n",
       "    }\n",
       "\n",
       "    .dataframe thead th {\n",
       "        text-align: right;\n",
       "    }\n",
       "</style>\n",
       "<table border=\"1\" class=\"dataframe\">\n",
       "  <thead>\n",
       "    <tr style=\"text-align: right;\">\n",
       "      <th></th>\n",
       "      <th>MoSold</th>\n",
       "      <th>Summer_Sale</th>\n",
       "    </tr>\n",
       "  </thead>\n",
       "  <tbody>\n",
       "    <tr>\n",
       "      <th>0</th>\n",
       "      <td>2</td>\n",
       "      <td>0.0</td>\n",
       "    </tr>\n",
       "    <tr>\n",
       "      <th>1</th>\n",
       "      <td>5</td>\n",
       "      <td>0.0</td>\n",
       "    </tr>\n",
       "    <tr>\n",
       "      <th>2</th>\n",
       "      <td>9</td>\n",
       "      <td>0.0</td>\n",
       "    </tr>\n",
       "    <tr>\n",
       "      <th>3</th>\n",
       "      <td>2</td>\n",
       "      <td>0.0</td>\n",
       "    </tr>\n",
       "    <tr>\n",
       "      <th>4</th>\n",
       "      <td>12</td>\n",
       "      <td>0.0</td>\n",
       "    </tr>\n",
       "    <tr>\n",
       "      <th>...</th>\n",
       "      <td>...</td>\n",
       "      <td>...</td>\n",
       "    </tr>\n",
       "    <tr>\n",
       "      <th>1455</th>\n",
       "      <td>8</td>\n",
       "      <td>1.0</td>\n",
       "    </tr>\n",
       "    <tr>\n",
       "      <th>1456</th>\n",
       "      <td>2</td>\n",
       "      <td>0.0</td>\n",
       "    </tr>\n",
       "    <tr>\n",
       "      <th>1457</th>\n",
       "      <td>5</td>\n",
       "      <td>0.0</td>\n",
       "    </tr>\n",
       "    <tr>\n",
       "      <th>1458</th>\n",
       "      <td>4</td>\n",
       "      <td>0.0</td>\n",
       "    </tr>\n",
       "    <tr>\n",
       "      <th>1459</th>\n",
       "      <td>6</td>\n",
       "      <td>1.0</td>\n",
       "    </tr>\n",
       "  </tbody>\n",
       "</table>\n",
       "<p>1460 rows × 2 columns</p>\n",
       "</div>"
      ],
      "text/plain": [
       "      MoSold  Summer_Sale\n",
       "0          2          0.0\n",
       "1          5          0.0\n",
       "2          9          0.0\n",
       "3          2          0.0\n",
       "4         12          0.0\n",
       "...      ...          ...\n",
       "1455       8          1.0\n",
       "1456       2          0.0\n",
       "1457       5          0.0\n",
       "1458       4          0.0\n",
       "1459       6          1.0\n",
       "\n",
       "[1460 rows x 2 columns]"
      ]
     },
     "execution_count": 65,
     "metadata": {},
     "output_type": "execute_result"
    }
   ],
   "source": [
    "# Task 4\n",
    "\n",
    "# YOUR CODE HERE\n",
    "\n",
    "house.loc[(house['MoSold'] < 6) & (house['MoSold'] >= 1), 'Summer_Sale'] = 0\n",
    "house.loc[(house['MoSold'] < 13) & (house['MoSold'] >= 9), 'Summer_Sale'] = 0\n",
    "house.loc[(house['MoSold'] == 6 ) | (house['MoSold'] == 7) | (house['MoSold'] == 8), 'Summer_Sale'] = 1\n",
    "\n",
    "#for i in house['MoSold']:\n",
    "#    if ((i >= 1) & (i < 6)):\n",
    "#        house['Summer_Sale'] = 0\n",
    "#    elif ((i >= 9) & (i < 13)):          Request you to please guide where i'm getting wrong with this code not getting the\n",
    "#        house['Summer_Sale'] = 2         required output hence tried above another way \n",
    "#    elif ((i >= 6) & (i < 9)):\n",
    "#        house['Summer_Sale'] = 1\n",
    "\n",
    "#raise NotImplementedError()\n",
    "#elif ((house['MoSold'] < 13) & (house['MoSold'] >= 9)):\n",
    "#        house['Summer_Sale'] = 2   \n",
    "\n",
    "# View the new column\n",
    "house[['MoSold', 'Summer_Sale']]"
   ]
  },
  {
   "cell_type": "markdown",
   "metadata": {
    "id": "-g9YtACzcRsb"
   },
   "source": [
    "**Task 4 Test**"
   ]
  },
  {
   "cell_type": "code",
   "execution_count": 66,
   "metadata": {
    "deletable": false,
    "editable": false,
    "id": "WvJbX9WJcRsb",
    "nbgrader": {
     "cell_type": "code",
     "checksum": "f376221e60d262c6ce30a843590c5d46",
     "grade": true,
     "grade_id": "cell-7df13700c084fe99",
     "locked": true,
     "points": 1,
     "schema_version": 3,
     "solution": false,
     "task": false
    }
   },
   "outputs": [],
   "source": [
    "# Task 4 - Test\n",
    "\n",
    "assert 'Summer_Sale' in house.columns, 'Did you add the Summer_Sale column?'\n",
    "\n",
    "# Hidden tests - you'll see results when you submit to Canvas"
   ]
  },
  {
   "cell_type": "markdown",
   "metadata": {
    "id": "B_9CTa2QYcpu"
   },
   "source": [
    "**Task 5**\n",
    "\n",
    "Now we'll revisit the LendingClub data. The statements to import the `loans` DataFrame have been provided for you.  Run the code block below without changing anything to load the `loans` data.\n",
    "\n",
    "* Load the data into a DataFrame called `loans`.\n",
    "* Make sure to view the `loans` DataFrame to see what data we're working with."
   ]
  },
  {
   "cell_type": "code",
   "execution_count": 67,
   "metadata": {
    "deletable": false,
    "id": "ZlXycTiAcRsc",
    "nbgrader": {
     "cell_type": "code",
     "checksum": "e0d44b4275613a840e87fd51c2afa266",
     "grade": false,
     "grade_id": "cell-a03fb13afedb44b5",
     "locked": false,
     "schema_version": 3,
     "solution": true,
     "task": false
    }
   },
   "outputs": [
    {
     "data": {
      "text/plain": [
       "(30000, 144)"
      ]
     },
     "execution_count": 67,
     "metadata": {},
     "output_type": "execute_result"
    }
   ],
   "source": [
    "# Task 5\n",
    "import pandas as pd\n",
    "\n",
    "# Dataset URL\n",
    "loans_data = 'https://raw.githubusercontent.com/pixeltests/datasets/main/LoanStats_2018Q4_sm.csv'\n",
    "\n",
    "# YOUR CODE HERE\n",
    "loans = pd.read_csv('https://raw.githubusercontent.com/pixeltests/datasets/main/LoanStats_2018Q4_sm.csv')\n",
    "\n",
    "# raise NotImplementedError()\n",
    "\n",
    "# View the dataset!\n",
    "loans.shape"
   ]
  },
  {
   "cell_type": "code",
   "execution_count": 68,
   "metadata": {
    "colab": {
     "base_uri": "https://localhost:8080/",
     "height": 328
    },
    "id": "mkdLHEHINiif",
    "outputId": "1fe8f32d-bd8f-4ba2-ac5e-a969a3615dbb"
   },
   "outputs": [
    {
     "name": "stdout",
     "output_type": "stream",
     "text": [
      "<class 'pandas.core.frame.DataFrame'>\n",
      "RangeIndex: 30000 entries, 0 to 29999\n",
      "Data columns (total 144 columns):\n",
      " #    Column                                      Dtype  \n",
      "---   ------                                      -----  \n",
      " 0    id                                          float64\n",
      " 1    member_id                                   float64\n",
      " 2    loan_amnt                                   int64  \n",
      " 3    funded_amnt                                 int64  \n",
      " 4    funded_amnt_inv                             float64\n",
      " 5    term                                        object \n",
      " 6    int_rate                                    object \n",
      " 7    installment                                 float64\n",
      " 8    grade                                       object \n",
      " 9    sub_grade                                   object \n",
      " 10   emp_title                                   object \n",
      " 11   emp_length                                  object \n",
      " 12   home_ownership                              object \n",
      " 13   annual_inc                                  float64\n",
      " 14   verification_status                         object \n",
      " 15   issue_d                                     object \n",
      " 16   loan_status                                 object \n",
      " 17   pymnt_plan                                  object \n",
      " 18   url                                         float64\n",
      " 19   desc                                        float64\n",
      " 20   purpose                                     object \n",
      " 21   title                                       object \n",
      " 22   zip_code                                    object \n",
      " 23   addr_state                                  object \n",
      " 24   dti                                         float64\n",
      " 25   delinq_2yrs                                 int64  \n",
      " 26   earliest_cr_line                            object \n",
      " 27   inq_last_6mths                              int64  \n",
      " 28   mths_since_last_delinq                      float64\n",
      " 29   mths_since_last_record                      float64\n",
      " 30   open_acc                                    int64  \n",
      " 31   pub_rec                                     int64  \n",
      " 32   revol_bal                                   int64  \n",
      " 33   revol_util                                  object \n",
      " 34   total_acc                                   int64  \n",
      " 35   initial_list_status                         object \n",
      " 36   out_prncp                                   float64\n",
      " 37   out_prncp_inv                               float64\n",
      " 38   total_pymnt                                 float64\n",
      " 39   total_pymnt_inv                             float64\n",
      " 40   total_rec_prncp                             float64\n",
      " 41   total_rec_int                               float64\n",
      " 42   total_rec_late_fee                          float64\n",
      " 43   recoveries                                  float64\n",
      " 44   collection_recovery_fee                     float64\n",
      " 45   last_pymnt_d                                object \n",
      " 46   last_pymnt_amnt                             float64\n",
      " 47   next_pymnt_d                                object \n",
      " 48   last_credit_pull_d                          object \n",
      " 49   collections_12_mths_ex_med                  int64  \n",
      " 50   mths_since_last_major_derog                 float64\n",
      " 51   policy_code                                 int64  \n",
      " 52   application_type                            object \n",
      " 53   annual_inc_joint                            float64\n",
      " 54   dti_joint                                   float64\n",
      " 55   verification_status_joint                   object \n",
      " 56   acc_now_delinq                              int64  \n",
      " 57   tot_coll_amt                                int64  \n",
      " 58   tot_cur_bal                                 int64  \n",
      " 59   open_acc_6m                                 int64  \n",
      " 60   open_act_il                                 int64  \n",
      " 61   open_il_12m                                 int64  \n",
      " 62   open_il_24m                                 int64  \n",
      " 63   mths_since_rcnt_il                          float64\n",
      " 64   total_bal_il                                int64  \n",
      " 65   il_util                                     float64\n",
      " 66   open_rv_12m                                 int64  \n",
      " 67   open_rv_24m                                 int64  \n",
      " 68   max_bal_bc                                  int64  \n",
      " 69   all_util                                    float64\n",
      " 70   total_rev_hi_lim                            int64  \n",
      " 71   inq_fi                                      int64  \n",
      " 72   total_cu_tl                                 int64  \n",
      " 73   inq_last_12m                                int64  \n",
      " 74   acc_open_past_24mths                        int64  \n",
      " 75   avg_cur_bal                                 float64\n",
      " 76   bc_open_to_buy                              float64\n",
      " 77   bc_util                                     float64\n",
      " 78   chargeoff_within_12_mths                    int64  \n",
      " 79   delinq_amnt                                 int64  \n",
      " 80   mo_sin_old_il_acct                          float64\n",
      " 81   mo_sin_old_rev_tl_op                        int64  \n",
      " 82   mo_sin_rcnt_rev_tl_op                       int64  \n",
      " 83   mo_sin_rcnt_tl                              int64  \n",
      " 84   mort_acc                                    int64  \n",
      " 85   mths_since_recent_bc                        float64\n",
      " 86   mths_since_recent_bc_dlq                    float64\n",
      " 87   mths_since_recent_inq                       float64\n",
      " 88   mths_since_recent_revol_delinq              float64\n",
      " 89   num_accts_ever_120_pd                       int64  \n",
      " 90   num_actv_bc_tl                              int64  \n",
      " 91   num_actv_rev_tl                             int64  \n",
      " 92   num_bc_sats                                 int64  \n",
      " 93   num_bc_tl                                   int64  \n",
      " 94   num_il_tl                                   int64  \n",
      " 95   num_op_rev_tl                               int64  \n",
      " 96   num_rev_accts                               int64  \n",
      " 97   num_rev_tl_bal_gt_0                         int64  \n",
      " 98   num_sats                                    int64  \n",
      " 99   num_tl_120dpd_2m                            float64\n",
      " 100  num_tl_30dpd                                int64  \n",
      " 101  num_tl_90g_dpd_24m                          int64  \n",
      " 102  num_tl_op_past_12m                          int64  \n",
      " 103  pct_tl_nvr_dlq                              float64\n",
      " 104  percent_bc_gt_75                            float64\n",
      " 105  pub_rec_bankruptcies                        int64  \n",
      " 106  tax_liens                                   int64  \n",
      " 107  tot_hi_cred_lim                             int64  \n",
      " 108  total_bal_ex_mort                           int64  \n",
      " 109  total_bc_limit                              int64  \n",
      " 110  total_il_high_credit_limit                  int64  \n",
      " 111  revol_bal_joint                             float64\n",
      " 112  sec_app_earliest_cr_line                    object \n",
      " 113  sec_app_inq_last_6mths                      float64\n",
      " 114  sec_app_mort_acc                            float64\n",
      " 115  sec_app_open_acc                            float64\n",
      " 116  sec_app_revol_util                          float64\n",
      " 117  sec_app_open_act_il                         float64\n",
      " 118  sec_app_num_rev_accts                       float64\n",
      " 119  sec_app_chargeoff_within_12_mths            float64\n",
      " 120  sec_app_collections_12_mths_ex_med          float64\n",
      " 121  sec_app_mths_since_last_major_derog         float64\n",
      " 122  hardship_flag                               object \n",
      " 123  hardship_type                               object \n",
      " 124  hardship_reason                             object \n",
      " 125  hardship_status                             object \n",
      " 126  deferral_term                               float64\n",
      " 127  hardship_amount                             float64\n",
      " 128  hardship_start_date                         object \n",
      " 129  hardship_end_date                           object \n",
      " 130  payment_plan_start_date                     object \n",
      " 131  hardship_length                             float64\n",
      " 132  hardship_dpd                                float64\n",
      " 133  hardship_loan_status                        object \n",
      " 134  orig_projected_additional_accrued_interest  float64\n",
      " 135  hardship_payoff_balance_amount              float64\n",
      " 136  hardship_last_payment_amount                float64\n",
      " 137  debt_settlement_flag                        object \n",
      " 138  debt_settlement_flag_date                   object \n",
      " 139  settlement_status                           object \n",
      " 140  settlement_date                             object \n",
      " 141  settlement_amount                           float64\n",
      " 142  settlement_percentage                       float64\n",
      " 143  settlement_term                             float64\n",
      "dtypes: float64(57), int64(51), object(36)\n",
      "memory usage: 33.0+ MB\n"
     ]
    }
   ],
   "source": [
    "loans.info(verbose=True)"
   ]
  },
  {
   "cell_type": "markdown",
   "metadata": {
    "id": "sQnzQAZrcRsc"
   },
   "source": [
    "**Tast 5 Test**"
   ]
  },
  {
   "cell_type": "code",
   "execution_count": 69,
   "metadata": {
    "deletable": false,
    "editable": false,
    "id": "kMyyAyAZcRsc",
    "nbgrader": {
     "cell_type": "code",
     "checksum": "8778b4b25a3faf54fc16085292c5f93f",
     "grade": true,
     "grade_id": "cell-365203eb4c6651fd",
     "locked": true,
     "points": 1,
     "schema_version": 3,
     "solution": false,
     "task": false
    }
   },
   "outputs": [],
   "source": [
    "# Task 5 - Test\n",
    "\n",
    "assert isinstance(loans, pd.DataFrame), 'Have you created a DataFrame named loans?'\n",
    "assert loans.shape == (30000, 144), 'Double check your DataFrame size.'\n",
    "\n",
    "# NO hidden tests for this task"
   ]
  },
  {
   "cell_type": "markdown",
   "metadata": {
    "id": "qnT_KD-MhLfg"
   },
   "source": [
    "**Introduction** - Approaching a problem two different ways.\n",
    "\n",
    "In the Guided Project, we learned how to find the earliest credit year using the built-in date-time format.  However, there is often more than one way to come up with the same solution.  \n",
    "\n",
    "In the following questions, we will work through the steps to create new variables called `Earliest_Credit_Year` and `issue_year` where we use the `.split()` function to split on the month and year in a string variable, and return just the year value. We can then use those variables to calculate the length of credit history in years.  \n",
    "\n",
    "If we do everything correctly, we should calculate *about* the same length of longest credit history that we did in class working with the date-time format.  The answers won't exactly match because we are making different assumptions about when in each month and year the loans were taken out, but it will give you a flavor for different ways of approaching the same problem."
   ]
  },
  {
   "cell_type": "markdown",
   "metadata": {
    "id": "Lx0kHSTFhoKj"
   },
   "source": [
    "**Task 6** - Create a simple test case\n",
    "\n",
    "The `credit` variable has been created for you with the value 'Jun-1979'\n",
    "\n",
    "* Use the `.split('-')` function to separate the month and year parts of the data.\n",
    "* Name the results of the .split('-') function `fields`: \n",
    "    * assign `fields[0]` to the variable `month`\n",
    "    * assign `fields[1]` to the variable `year`"
   ]
  },
  {
   "cell_type": "code",
   "execution_count": 70,
   "metadata": {
    "colab": {
     "base_uri": "https://localhost:8080/"
    },
    "deletable": false,
    "id": "y80jf99GaKsL",
    "nbgrader": {
     "cell_type": "code",
     "checksum": "f119acd233e67660a97cac257a43f19b",
     "grade": false,
     "grade_id": "cell-2e0e85d026ef0577",
     "locked": false,
     "schema_version": 3,
     "solution": true,
     "task": false
    },
    "outputId": "507a6b8a-71d8-4674-ad1d-6350c8d42a99"
   },
   "outputs": [
    {
     "name": "stdout",
     "output_type": "stream",
     "text": [
      "String:  1979\n",
      "Float:  1979.0\n"
     ]
    }
   ],
   "source": [
    "# Task 6\n",
    "\n",
    "# Don't change or delete\n",
    "credit = 'Jun-1979' \n",
    "\n",
    "# YOUR CODE HERE\n",
    "fields = credit.split('-')\n",
    "fields\n",
    "month = fields[0]\n",
    "year = fields[1]\n",
    "\n",
    "#raise NotImplementedError()\n",
    "\n",
    "# Look at the year variable both as a string and as a float\n",
    "print('String: ', year)\n",
    "print('Float: ', float(year))"
   ]
  },
  {
   "cell_type": "markdown",
   "metadata": {
    "id": "hScLOlxAcRse"
   },
   "source": [
    "**Task 6 Test**"
   ]
  },
  {
   "cell_type": "code",
   "execution_count": 71,
   "metadata": {
    "deletable": false,
    "editable": false,
    "id": "VkMqAQcCcRse",
    "nbgrader": {
     "cell_type": "code",
     "checksum": "5fbe2cfd02715641fbf21a4b319a9b16",
     "grade": true,
     "grade_id": "cell-95ad43446cc5faaa",
     "locked": true,
     "points": 1,
     "schema_version": 3,
     "solution": false,
     "task": false
    }
   },
   "outputs": [],
   "source": [
    "# Task 6 - Test\n",
    "\n",
    "# Hidden tests - you'll see results when you submit to Canvas"
   ]
  },
  {
   "cell_type": "markdown",
   "metadata": {
    "id": "TtC6exPui9y4"
   },
   "source": [
    "**Task 7** - Create a function\n",
    "\n",
    "Use your answer from **Task 6** to write a function called `credit_yr` that takes in the contents of a cell that is formatted as \"month-year\" and returns the year.\n",
    "\n",
    "* Complete the definition of the function `credit_yr` below:\n",
    "    * one argument `cell_contents` as input (provided for you)\n",
    "    * splits the `cell_content` on a `-` and calls the result `fields`\n",
    "    * creates the variable `year` which has the value `fields[1]`\n",
    "    * returns `year` as a float variable\n",
    "* Run your function using the simple test case in Task 6 (`credit='Jun-1979'`). Assign the output of the function to the variable `year_function`."
   ]
  },
  {
   "cell_type": "code",
   "execution_count": 72,
   "metadata": {
    "colab": {
     "base_uri": "https://localhost:8080/"
    },
    "deletable": false,
    "id": "dtF2-tjogC6J",
    "nbgrader": {
     "cell_type": "code",
     "checksum": "9d5cceb4eb91cd83d0eb1ad0310bdc0e",
     "grade": false,
     "grade_id": "cell-67705c48e95b83db",
     "locked": false,
     "schema_version": 3,
     "solution": true,
     "task": false
    },
    "outputId": "b922c638-2185-40ee-8800-32601183e733"
   },
   "outputs": [
    {
     "data": {
      "text/plain": [
       "1970.0"
      ]
     },
     "execution_count": 72,
     "metadata": {},
     "output_type": "execute_result"
    }
   ],
   "source": [
    "# Task 7\n",
    "\n",
    "# Complete the function definition\n",
    "def credit_yr(cell_contents):\n",
    "    fields = cell_contents.split('-')\n",
    "    year = fields[1]\n",
    "    return float(year)\n",
    "\n",
    "# YOUR CODE HERE\n",
    "# raise NotImplementedError()\n",
    "\n",
    "# Print your year_function variable\n",
    "year_function = credit_yr('Jun-1970')\n",
    "year_function"
   ]
  },
  {
   "cell_type": "markdown",
   "metadata": {
    "id": "-bQ0sYPVcRsf"
   },
   "source": [
    "**Task 7 Test**"
   ]
  },
  {
   "cell_type": "code",
   "execution_count": 73,
   "metadata": {
    "deletable": false,
    "editable": false,
    "id": "nea_V08lcRsf",
    "nbgrader": {
     "cell_type": "code",
     "checksum": "c0208e15b36760d1a1d0d0ea94bacda0",
     "grade": true,
     "grade_id": "cell-e850dcb0651cdf47",
     "locked": true,
     "points": 1,
     "schema_version": 3,
     "solution": false,
     "task": false
    }
   },
   "outputs": [],
   "source": [
    "# Task 7 - Test\n",
    "\n",
    "assert isinstance(year_function, float), 'Make sure your year variable is a float!'\n",
    "\n",
    "# Hidden tests - you'll see results when you submit to Canvas"
   ]
  },
  {
   "cell_type": "markdown",
   "metadata": {
    "id": "a1XVfTOIjfrW"
   },
   "source": [
    "**Task 8** - Apply our function\n",
    "\n",
    "Now we're going to use the function we created and apply it to a column in our `loans` DataFrame. \n",
    "\n",
    "* Use the `.apply()` function to apply the function to every cell in the `earliest_cr_line` column.\n",
    "* Assign the results to a new column called `Earliest_Credit_Year`.\n",
    "* View the top five rows of the `Earliest_Credit_Year` and `earliest_cr_line` columns to make sure the variables were created correctly (code provided for you)."
   ]
  },
  {
   "cell_type": "code",
   "execution_count": 74,
   "metadata": {
    "colab": {
     "base_uri": "https://localhost:8080/",
     "height": 194
    },
    "deletable": false,
    "id": "lZhlULhykCB_",
    "nbgrader": {
     "cell_type": "code",
     "checksum": "06a8503a192be83061e085a9462c9faf",
     "grade": false,
     "grade_id": "cell-190721b22d999b13",
     "locked": false,
     "schema_version": 3,
     "solution": true,
     "task": false
    },
    "outputId": "3b8a6772-9dba-4e83-a023-31211b0d8e6d"
   },
   "outputs": [
    {
     "data": {
      "text/html": [
       "<div>\n",
       "<style scoped>\n",
       "    .dataframe tbody tr th:only-of-type {\n",
       "        vertical-align: middle;\n",
       "    }\n",
       "\n",
       "    .dataframe tbody tr th {\n",
       "        vertical-align: top;\n",
       "    }\n",
       "\n",
       "    .dataframe thead th {\n",
       "        text-align: right;\n",
       "    }\n",
       "</style>\n",
       "<table border=\"1\" class=\"dataframe\">\n",
       "  <thead>\n",
       "    <tr style=\"text-align: right;\">\n",
       "      <th></th>\n",
       "      <th>Earliest_Credit_Year</th>\n",
       "      <th>earliest_cr_line</th>\n",
       "    </tr>\n",
       "  </thead>\n",
       "  <tbody>\n",
       "    <tr>\n",
       "      <th>0</th>\n",
       "      <td>1998.0</td>\n",
       "      <td>Oct-1998</td>\n",
       "    </tr>\n",
       "    <tr>\n",
       "      <th>1</th>\n",
       "      <td>2015.0</td>\n",
       "      <td>Sep-2015</td>\n",
       "    </tr>\n",
       "    <tr>\n",
       "      <th>2</th>\n",
       "      <td>2003.0</td>\n",
       "      <td>Jun-2003</td>\n",
       "    </tr>\n",
       "    <tr>\n",
       "      <th>3</th>\n",
       "      <td>2005.0</td>\n",
       "      <td>Feb-2005</td>\n",
       "    </tr>\n",
       "    <tr>\n",
       "      <th>4</th>\n",
       "      <td>2008.0</td>\n",
       "      <td>Feb-2008</td>\n",
       "    </tr>\n",
       "  </tbody>\n",
       "</table>\n",
       "</div>"
      ],
      "text/plain": [
       "   Earliest_Credit_Year earliest_cr_line\n",
       "0                1998.0         Oct-1998\n",
       "1                2015.0         Sep-2015\n",
       "2                2003.0         Jun-2003\n",
       "3                2005.0         Feb-2005\n",
       "4                2008.0         Feb-2008"
      ]
     },
     "execution_count": 74,
     "metadata": {},
     "output_type": "execute_result"
    }
   ],
   "source": [
    "# Task 8\n",
    "\n",
    "loans = loans.copy()\n",
    "# YOUR CODE HERE\n",
    "loans['Earliest_Credit_Year'] = loans['earliest_cr_line'].apply(credit_yr)\n",
    "\n",
    "#raise NotImplementedError()\n",
    "\n",
    "# Print your columns\n",
    "loans[['Earliest_Credit_Year', 'earliest_cr_line']].head()\n"
   ]
  },
  {
   "cell_type": "markdown",
   "metadata": {
    "id": "KW3dvjORcRsg"
   },
   "source": [
    "**Task 8 Test**"
   ]
  },
  {
   "cell_type": "code",
   "execution_count": 75,
   "metadata": {
    "deletable": false,
    "editable": false,
    "id": "sBJQDUJxcRsg",
    "nbgrader": {
     "cell_type": "code",
     "checksum": "5922454ea6c43cbed0d38b36295f006c",
     "grade": true,
     "grade_id": "cell-1c6181c54ca22ae6",
     "locked": true,
     "points": 1,
     "schema_version": 3,
     "solution": false,
     "task": false
    }
   },
   "outputs": [],
   "source": [
    "# Task 8 - Test\n",
    "\n",
    "assert 'Earliest_Credit_Year' in loans.columns, 'Did you add the \"Earliest_Credit_Year\" column?'\n",
    "assert loans.shape == (30000, 145), 'Double check your DataFrame size.'\n",
    "\n",
    "# Hidden tests - you'll see results when you submit to Canvas"
   ]
  },
  {
   "cell_type": "markdown",
   "metadata": {
    "id": "w5vb0vQjg3Sj"
   },
   "source": [
    "**Task 9** - Apply the function to a new column\n",
    "\n",
    "So next, we're going to use the `credit_yr` function to create a new variable called `Issue_Year` from the `issue_d` variable. Follow the sames steps as you did in Task 8.\n",
    "\n",
    "* Apply `credit_yr` to the `issue_d` column.\n",
    "* Name your new column `Issue_Year`.\n",
    "* View the `Issue_Year`,`issue_d` columns (code provided for you)."
   ]
  },
  {
   "cell_type": "code",
   "execution_count": 76,
   "metadata": {
    "colab": {
     "base_uri": "https://localhost:8080/",
     "height": 194
    },
    "deletable": false,
    "id": "5sIn85mbg1pw",
    "nbgrader": {
     "cell_type": "code",
     "checksum": "203c38c6d3020749d9460f27b3d73f2e",
     "grade": false,
     "grade_id": "cell-b31b3dfe0d069095",
     "locked": false,
     "schema_version": 3,
     "solution": true,
     "task": false
    },
    "outputId": "6a3e4dd1-a96b-4278-ce01-e650f63f36a7"
   },
   "outputs": [
    {
     "data": {
      "text/html": [
       "<div>\n",
       "<style scoped>\n",
       "    .dataframe tbody tr th:only-of-type {\n",
       "        vertical-align: middle;\n",
       "    }\n",
       "\n",
       "    .dataframe tbody tr th {\n",
       "        vertical-align: top;\n",
       "    }\n",
       "\n",
       "    .dataframe thead th {\n",
       "        text-align: right;\n",
       "    }\n",
       "</style>\n",
       "<table border=\"1\" class=\"dataframe\">\n",
       "  <thead>\n",
       "    <tr style=\"text-align: right;\">\n",
       "      <th></th>\n",
       "      <th>Issue_Year</th>\n",
       "      <th>issue_d</th>\n",
       "    </tr>\n",
       "  </thead>\n",
       "  <tbody>\n",
       "    <tr>\n",
       "      <th>0</th>\n",
       "      <td>2018.0</td>\n",
       "      <td>Dec-2018</td>\n",
       "    </tr>\n",
       "    <tr>\n",
       "      <th>1</th>\n",
       "      <td>2018.0</td>\n",
       "      <td>Oct-2018</td>\n",
       "    </tr>\n",
       "    <tr>\n",
       "      <th>2</th>\n",
       "      <td>2018.0</td>\n",
       "      <td>Oct-2018</td>\n",
       "    </tr>\n",
       "    <tr>\n",
       "      <th>3</th>\n",
       "      <td>2018.0</td>\n",
       "      <td>Nov-2018</td>\n",
       "    </tr>\n",
       "    <tr>\n",
       "      <th>4</th>\n",
       "      <td>2018.0</td>\n",
       "      <td>Dec-2018</td>\n",
       "    </tr>\n",
       "  </tbody>\n",
       "</table>\n",
       "</div>"
      ],
      "text/plain": [
       "   Issue_Year   issue_d\n",
       "0      2018.0  Dec-2018\n",
       "1      2018.0  Oct-2018\n",
       "2      2018.0  Oct-2018\n",
       "3      2018.0  Nov-2018\n",
       "4      2018.0  Dec-2018"
      ]
     },
     "execution_count": 76,
     "metadata": {},
     "output_type": "execute_result"
    }
   ],
   "source": [
    "# Task 9\n",
    "\n",
    "# YOUR CODE HERE\n",
    "loans['Issue_Year'] = loans['issue_d'].apply(credit_yr)\n",
    "\n",
    "# raise NotImplementedError()\n",
    "\n",
    "# Print your columns\n",
    "loans[['Issue_Year', 'issue_d']].head()"
   ]
  },
  {
   "cell_type": "markdown",
   "metadata": {
    "id": "Oa__5NeAcRsg"
   },
   "source": [
    "**Task 9**"
   ]
  },
  {
   "cell_type": "code",
   "execution_count": 77,
   "metadata": {
    "deletable": false,
    "editable": false,
    "id": "hLdmvYJqcRsh",
    "nbgrader": {
     "cell_type": "code",
     "checksum": "d4c482e283b26971356d81e800bb2198",
     "grade": true,
     "grade_id": "cell-1ae1a8aef5f84b70",
     "locked": true,
     "points": 1,
     "schema_version": 3,
     "solution": false,
     "task": false
    }
   },
   "outputs": [],
   "source": [
    "# Task 9 - Test\n",
    "\n",
    "assert 'Issue_Year' in loans.columns, 'Did you add the \"Issue_Year\" column?'\n",
    "assert loans.shape == (30000, 146), 'Double check your DataFrame size.'\n",
    "\n",
    "# Hidden tests - you'll see results when you submit to Canvas"
   ]
  },
  {
   "cell_type": "markdown",
   "metadata": {
    "id": "iZItgQjQiCh9"
   },
   "source": [
    "**Task 10** - Calculate length of time from your new columns\n",
    "\n",
    "Now we're going to use the two new columns you created to calculate the length of credit history in years and in days.\n",
    "\n",
    "* Create a new column called `Credit_History_Years` which is the difference between `Issue_Year` and `Earliest_Credit_Year`\n",
    "* Create another new column called `Credit_History_Days` which is the value in the column you created above expect multipled by 365.25 to convert years to days.\n",
    "* View the top five rows of the `loans` DataFrame (code has been provided).\n",
    "\n",
    "Hint: If you are getting an error message, make sure to check the data type of the `year` values output by your function."
   ]
  },
  {
   "cell_type": "code",
   "execution_count": null,
   "metadata": {
    "colab": {
     "base_uri": "https://localhost:8080/",
     "height": 588
    },
    "id": "nzXwzdn-RzCh",
    "outputId": "cf292399-657d-45b8-8cd2-5687c421ad4a"
   },
   "outputs": [],
   "source": []
  },
  {
   "cell_type": "code",
   "execution_count": 82,
   "metadata": {
    "colab": {
     "base_uri": "https://localhost:8080/",
     "height": 194
    },
    "deletable": false,
    "id": "0mT7pG9hiTf2",
    "nbgrader": {
     "cell_type": "code",
     "checksum": "024db84343a316dbc1c3ae0cb48307c3",
     "grade": false,
     "grade_id": "cell-2f411113665bb37a",
     "locked": false,
     "schema_version": 3,
     "solution": true,
     "task": false
    },
    "outputId": "7570b5a3-f7ac-416a-811f-b147f127dc16"
   },
   "outputs": [
    {
     "data": {
      "text/html": [
       "<div>\n",
       "<style scoped>\n",
       "    .dataframe tbody tr th:only-of-type {\n",
       "        vertical-align: middle;\n",
       "    }\n",
       "\n",
       "    .dataframe tbody tr th {\n",
       "        vertical-align: top;\n",
       "    }\n",
       "\n",
       "    .dataframe thead th {\n",
       "        text-align: right;\n",
       "    }\n",
       "</style>\n",
       "<table border=\"1\" class=\"dataframe\">\n",
       "  <thead>\n",
       "    <tr style=\"text-align: right;\">\n",
       "      <th></th>\n",
       "      <th>Issue_Year</th>\n",
       "      <th>Earliest_Credit_Year</th>\n",
       "      <th>Credit_History_Years</th>\n",
       "      <th>Credit_History_Days</th>\n",
       "    </tr>\n",
       "  </thead>\n",
       "  <tbody>\n",
       "    <tr>\n",
       "      <th>0</th>\n",
       "      <td>2018.0</td>\n",
       "      <td>1998.0</td>\n",
       "      <td>20.0</td>\n",
       "      <td>7305.00</td>\n",
       "    </tr>\n",
       "    <tr>\n",
       "      <th>1</th>\n",
       "      <td>2018.0</td>\n",
       "      <td>2015.0</td>\n",
       "      <td>3.0</td>\n",
       "      <td>1095.75</td>\n",
       "    </tr>\n",
       "    <tr>\n",
       "      <th>2</th>\n",
       "      <td>2018.0</td>\n",
       "      <td>2003.0</td>\n",
       "      <td>15.0</td>\n",
       "      <td>5478.75</td>\n",
       "    </tr>\n",
       "    <tr>\n",
       "      <th>3</th>\n",
       "      <td>2018.0</td>\n",
       "      <td>2005.0</td>\n",
       "      <td>13.0</td>\n",
       "      <td>4748.25</td>\n",
       "    </tr>\n",
       "    <tr>\n",
       "      <th>4</th>\n",
       "      <td>2018.0</td>\n",
       "      <td>2008.0</td>\n",
       "      <td>10.0</td>\n",
       "      <td>3652.50</td>\n",
       "    </tr>\n",
       "  </tbody>\n",
       "</table>\n",
       "</div>"
      ],
      "text/plain": [
       "   Issue_Year  Earliest_Credit_Year  Credit_History_Years  Credit_History_Days\n",
       "0      2018.0                1998.0                  20.0              7305.00\n",
       "1      2018.0                2015.0                   3.0              1095.75\n",
       "2      2018.0                2003.0                  15.0              5478.75\n",
       "3      2018.0                2005.0                  13.0              4748.25\n",
       "4      2018.0                2008.0                  10.0              3652.50"
      ]
     },
     "execution_count": 82,
     "metadata": {},
     "output_type": "execute_result"
    }
   ],
   "source": [
    "# Task 10\n",
    "\n",
    "# YOUR CODE HERE\n",
    "loans['Credit_History_Years'] = loans['Issue_Year'] - loans['Earliest_Credit_Year']\n",
    "#loans['Credit_History_Years'] = loans['Credit_History_Years'].astype(float)\n",
    "loans['Credit_History_Days'] = loans['Credit_History_Years'] * 365.25\n",
    "\n",
    "#raise NotImplementedError()\n",
    "\n",
    "loans[['Issue_Year','Earliest_Credit_Year','Credit_History_Years','Credit_History_Days']].head()"
   ]
  },
  {
   "cell_type": "markdown",
   "metadata": {
    "id": "RZ-9Qih6cRsh"
   },
   "source": [
    "**Task 10 Test**"
   ]
  },
  {
   "cell_type": "code",
   "execution_count": 155,
   "metadata": {
    "deletable": false,
    "editable": false,
    "id": "sd5cWJ7BcRsh",
    "nbgrader": {
     "cell_type": "code",
     "checksum": "7d1deccb8585b3635ebbcd6a50f887df",
     "grade": true,
     "grade_id": "cell-e3694613b297ae85",
     "locked": true,
     "points": 1,
     "schema_version": 3,
     "solution": false,
     "task": false
    }
   },
   "outputs": [],
   "source": [
    "# Task 10 - Test\n",
    "\n",
    "assert 'Credit_History_Years' in loans.columns, 'Did you add the correct column?'\n",
    "assert 'Credit_History_Days' in loans.columns, 'Did you add the correct column converted to days?'\n",
    "assert loans.shape == (30000, 148), 'Double check your DataFrame size.'\n",
    "\n",
    "# Hidden tests - you'll see results when you submit to Canvas"
   ]
  },
  {
   "cell_type": "markdown",
   "metadata": {
    "id": "PvcOSw9gjUzF"
   },
   "source": [
    "**Task 11** - Calculate the maximum credit length\n",
    "\n",
    "Finally, we're going to use results from the `Credit_History_Years` column and compare it to we got in the Guided Project.\n",
    "\n",
    "* Find the maximum values in the `Credit_History_Years` column and assign it to the variable `max_credit`. Make sure you have a float value defined out to one decimal place.\n",
    "* Compare the the value from the Guided Project (refer to your notebook from class).\n",
    "\n",
    "Note - it won't be *exactly* the same because both methods are working in different ways, but they will give you a \"pretty close\" answer."
   ]
  },
  {
   "cell_type": "code",
   "execution_count": 83,
   "metadata": {
    "colab": {
     "base_uri": "https://localhost:8080/"
    },
    "deletable": false,
    "id": "gmNFZzaQjdQi",
    "nbgrader": {
     "cell_type": "code",
     "checksum": "18f87705debb5f4d4c75be2159796925",
     "grade": false,
     "grade_id": "cell-421ef18e66bbaab0",
     "locked": false,
     "schema_version": 3,
     "solution": true,
     "task": false
    },
    "outputId": "599b895b-a00d-4bb7-d825-27a535469dad"
   },
   "outputs": [
    {
     "data": {
      "text/plain": [
       "68.0"
      ]
     },
     "execution_count": 83,
     "metadata": {},
     "output_type": "execute_result"
    }
   ],
   "source": [
    "# Task 11\n",
    "\n",
    "# YOUR CODE HERE\n",
    "loans['Credit_History_Years'] = loans['Credit_History_Years'].astype(float)\n",
    "max_credit = round(loans['Credit_History_Years'].max(), 1)\n",
    "type(max_credit)\n",
    "max_credit\n",
    "#raise NotImplementedError()"
   ]
  },
  {
   "cell_type": "markdown",
   "metadata": {
    "id": "8v7nvfJHcRsi"
   },
   "source": [
    "**Task 11 Test**"
   ]
  },
  {
   "cell_type": "code",
   "execution_count": 157,
   "metadata": {
    "deletable": false,
    "editable": false,
    "id": "HtINJWibcRsi",
    "nbgrader": {
     "cell_type": "code",
     "checksum": "6c136ce5c21a864d092273a0ae080725",
     "grade": true,
     "grade_id": "cell-b39de9ca5d93a343",
     "locked": true,
     "points": 1,
     "schema_version": 3,
     "solution": false,
     "task": false
    }
   },
   "outputs": [],
   "source": [
    "# Task 11 - Test\n",
    "\n",
    "# Hidden tests - you'll see results when you submit to Canvas\n"
   ]
  }
 ],
 "metadata": {
  "colab": {
   "collapsed_sections": [],
   "name": "PT_DS_112_Make_Features_Assignment_MG.ipynb",
   "provenance": []
  },
  "kernelspec": {
   "display_name": "Python 3 (ipykernel)",
   "language": "python",
   "name": "python3"
  },
  "language_info": {
   "codemirror_mode": {
    "name": "ipython",
    "version": 3
   },
   "file_extension": ".py",
   "mimetype": "text/x-python",
   "name": "python",
   "nbconvert_exporter": "python",
   "pygments_lexer": "ipython3",
   "version": "3.9.7"
  }
 },
 "nbformat": 4,
 "nbformat_minor": 1
}
