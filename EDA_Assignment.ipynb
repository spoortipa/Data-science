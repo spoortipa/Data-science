{
 "cells": [
  {
   "cell_type": "markdown",
   "metadata": {
    "id": "rtdmKDtRVauv"
   },
   "source": [
    "## Autograded Notebook (Canvas & CodeGrade)\n",
    "\n",
    "This notebook will be automatically graded. It is designed to test your answers and award points for the correct answers. Following the instructions for each Task carefully.\n",
    "\n",
    "### Instructions\n",
    "\n",
    "* **Download this notebook** as you would any other ipynb file\n",
    "* **Upload** to Google Colab or work locally (if you have that set-up)\n",
    "* **Delete `raise NotImplementedError()`**\n",
    "* Write your code in the `# YOUR CODE HERE` space\n",
    "* **Execute** the Test cells that contain `assert` statements - these help you check your work (others contain hidden tests that will be checked when you submit through Canvas)\n",
    "* **Save** your notebook when you are finished\n",
    "* **Download** as a `ipynb` file (if working in Colab)\n",
    "* **Upload** your complete notebook to Canvas (there will be additional instructions in Slack and/or Canvas)"
   ]
  },
  {
   "cell_type": "markdown",
   "metadata": {
    "id": "Ldr0HZ193GKb"
   },
   "source": [
    "# Pixeltests Data Science - Unit 1 Sprint 1 Module 1\n",
    "\n",
    "## Exploratory Data Analysis\n",
    "\n",
    "### Module Learning Objectives\n",
    "\n",
    "\n",
    "- Load a CSV dataset from a URL using `pandas.read_csv`\n",
    "- Load a CSV dataset from a local file using `pandas.read_csv\n",
    "- Use basic Pandas functions for Exploratory Data Analysis-EDA\n",
    "- Describe and discriminate between basic data types such as categorical, quantitative, continuous, discrete, ordinal, nominal and identifier\n",
    "\n",
    "### Notebook points: 12"
   ]
  },
  {
   "cell_type": "markdown",
   "metadata": {
    "id": "jFscSILVLZit"
   },
   "source": [
    "## Autograded Module Projects\n",
    "\n",
    "Welcome to the first Module Project of Unit 1! You will complete a project (sometimes also referred to as an assignment) after the Guided Project for each Module. There will be four Module Projects per Sprint and each project is designed to provide you with an opportunity to practice what you learned in the Canvas Warm-up material and the Guided Project with your Instructors.\n",
    "\n",
    "Throughout Unit 1, the Module Projects and the Sprint Challenges are *autograded*. You will complete your work in a Jupyter/Python notebook (the files that end with `.ipynb`) and then upload your completed notebook to Canvas and submit for grading. This autograding process will check your answers and provide more information about the errors in your notebook. You'll receive a score when the testing is complete.\n",
    "\n",
    "So, let's get started! If you are reading this notebook, then you have the correct autograded version."
   ]
  },
  {
   "cell_type": "markdown",
   "metadata": {
    "id": "2CkckTc6-txA"
   },
   "source": [
    "## Introduction\n",
    "\n",
    "For this module, we learned how to use some of the most common tools for exploring our data. We'll continue to practice our `pandas` skills with a new dataset. \n",
    "\n",
    "## Dataset Description\n",
    "\n",
    "Explore the University of California - Irvine Adult Dataset"
   ]
  },
  {
   "cell_type": "markdown",
   "metadata": {
    "id": "dd7NLO359fux"
   },
   "source": [
    "**Task 1** - Load a dataset via its URL\n",
    "\n",
    "* Create a Python list named `column_headers` with the following items: `'age', 'workclass', 'fnlwgt', 'education', 'education-num', 'marital-status', 'occupation', 'relationship', 'race', 'sex', 'capital-gain', 'capital-loss', 'hours-per-week','native-country', 'income'`.  Lists have the form `listname = ['element 1', 'element 2', element 3']`\n",
    "* Load the file from the URL provided below using the `column_headers` list you created to name your columns: set the `pd.read_csv()` to `column_headers` using `names =`.  \n",
    "* Name the DataFrame `adult`"
   ]
  },
  {
   "cell_type": "code",
   "execution_count": null,
   "metadata": {
    "colab": {
     "base_uri": "https://localhost:8080/",
     "height": 354
    },
    "deletable": false,
    "id": "0M6HGqld9Azy",
    "nbgrader": {
     "cell_type": "code",
     "checksum": "a3b944c912f2fd93474f840cad050d9c",
     "grade": false,
     "grade_id": "cell-8a338d1f29fadeee",
     "locked": false,
     "schema_version": 3,
     "solution": true,
     "task": false
    },
    "outputId": "8d828b98-a5da-4ccd-da05-423489757058"
   },
   "outputs": [
    {
     "data": {
      "text/html": [
       "\n",
       "  <div id=\"df-078bffbd-ba09-4679-bd1a-82942f2b7f74\">\n",
       "    <div class=\"colab-df-container\">\n",
       "      <div>\n",
       "<style scoped>\n",
       "    .dataframe tbody tr th:only-of-type {\n",
       "        vertical-align: middle;\n",
       "    }\n",
       "\n",
       "    .dataframe tbody tr th {\n",
       "        vertical-align: top;\n",
       "    }\n",
       "\n",
       "    .dataframe thead th {\n",
       "        text-align: right;\n",
       "    }\n",
       "</style>\n",
       "<table border=\"1\" class=\"dataframe\">\n",
       "  <thead>\n",
       "    <tr style=\"text-align: right;\">\n",
       "      <th></th>\n",
       "      <th>age</th>\n",
       "      <th>workclass</th>\n",
       "      <th>fnlwgt</th>\n",
       "      <th>education</th>\n",
       "      <th>education-num</th>\n",
       "      <th>marital-status</th>\n",
       "      <th>occupation</th>\n",
       "      <th>relationship</th>\n",
       "      <th>race</th>\n",
       "      <th>sex</th>\n",
       "      <th>capital-gain</th>\n",
       "      <th>capital-loss</th>\n",
       "      <th>hours-per-week</th>\n",
       "      <th>native-country</th>\n",
       "      <th>income</th>\n",
       "    </tr>\n",
       "  </thead>\n",
       "  <tbody>\n",
       "    <tr>\n",
       "      <th>0</th>\n",
       "      <td>39</td>\n",
       "      <td>State-gov</td>\n",
       "      <td>77516</td>\n",
       "      <td>Bachelors</td>\n",
       "      <td>13</td>\n",
       "      <td>Never-married</td>\n",
       "      <td>Adm-clerical</td>\n",
       "      <td>Not-in-family</td>\n",
       "      <td>White</td>\n",
       "      <td>Male</td>\n",
       "      <td>2174</td>\n",
       "      <td>0</td>\n",
       "      <td>40</td>\n",
       "      <td>United-States</td>\n",
       "      <td>&lt;=50K</td>\n",
       "    </tr>\n",
       "    <tr>\n",
       "      <th>1</th>\n",
       "      <td>50</td>\n",
       "      <td>Self-emp-not-inc</td>\n",
       "      <td>83311</td>\n",
       "      <td>Bachelors</td>\n",
       "      <td>13</td>\n",
       "      <td>Married-civ-spouse</td>\n",
       "      <td>Exec-managerial</td>\n",
       "      <td>Husband</td>\n",
       "      <td>White</td>\n",
       "      <td>Male</td>\n",
       "      <td>0</td>\n",
       "      <td>0</td>\n",
       "      <td>13</td>\n",
       "      <td>United-States</td>\n",
       "      <td>&lt;=50K</td>\n",
       "    </tr>\n",
       "    <tr>\n",
       "      <th>2</th>\n",
       "      <td>38</td>\n",
       "      <td>Private</td>\n",
       "      <td>215646</td>\n",
       "      <td>HS-grad</td>\n",
       "      <td>9</td>\n",
       "      <td>Divorced</td>\n",
       "      <td>Handlers-cleaners</td>\n",
       "      <td>Not-in-family</td>\n",
       "      <td>White</td>\n",
       "      <td>Male</td>\n",
       "      <td>0</td>\n",
       "      <td>0</td>\n",
       "      <td>40</td>\n",
       "      <td>United-States</td>\n",
       "      <td>&lt;=50K</td>\n",
       "    </tr>\n",
       "    <tr>\n",
       "      <th>3</th>\n",
       "      <td>53</td>\n",
       "      <td>Private</td>\n",
       "      <td>234721</td>\n",
       "      <td>11th</td>\n",
       "      <td>7</td>\n",
       "      <td>Married-civ-spouse</td>\n",
       "      <td>Handlers-cleaners</td>\n",
       "      <td>Husband</td>\n",
       "      <td>Black</td>\n",
       "      <td>Male</td>\n",
       "      <td>0</td>\n",
       "      <td>0</td>\n",
       "      <td>40</td>\n",
       "      <td>United-States</td>\n",
       "      <td>&lt;=50K</td>\n",
       "    </tr>\n",
       "    <tr>\n",
       "      <th>4</th>\n",
       "      <td>28</td>\n",
       "      <td>Private</td>\n",
       "      <td>338409</td>\n",
       "      <td>Bachelors</td>\n",
       "      <td>13</td>\n",
       "      <td>Married-civ-spouse</td>\n",
       "      <td>Prof-specialty</td>\n",
       "      <td>Wife</td>\n",
       "      <td>Black</td>\n",
       "      <td>Female</td>\n",
       "      <td>0</td>\n",
       "      <td>0</td>\n",
       "      <td>40</td>\n",
       "      <td>Cuba</td>\n",
       "      <td>&lt;=50K</td>\n",
       "    </tr>\n",
       "  </tbody>\n",
       "</table>\n",
       "</div>\n",
       "      <button class=\"colab-df-convert\" onclick=\"convertToInteractive('df-078bffbd-ba09-4679-bd1a-82942f2b7f74')\"\n",
       "              title=\"Convert this dataframe to an interactive table.\"\n",
       "              style=\"display:none;\">\n",
       "        \n",
       "  <svg xmlns=\"http://www.w3.org/2000/svg\" height=\"24px\"viewBox=\"0 0 24 24\"\n",
       "       width=\"24px\">\n",
       "    <path d=\"M0 0h24v24H0V0z\" fill=\"none\"/>\n",
       "    <path d=\"M18.56 5.44l.94 2.06.94-2.06 2.06-.94-2.06-.94-.94-2.06-.94 2.06-2.06.94zm-11 1L8.5 8.5l.94-2.06 2.06-.94-2.06-.94L8.5 2.5l-.94 2.06-2.06.94zm10 10l.94 2.06.94-2.06 2.06-.94-2.06-.94-.94-2.06-.94 2.06-2.06.94z\"/><path d=\"M17.41 7.96l-1.37-1.37c-.4-.4-.92-.59-1.43-.59-.52 0-1.04.2-1.43.59L10.3 9.45l-7.72 7.72c-.78.78-.78 2.05 0 2.83L4 21.41c.39.39.9.59 1.41.59.51 0 1.02-.2 1.41-.59l7.78-7.78 2.81-2.81c.8-.78.8-2.07 0-2.86zM5.41 20L4 18.59l7.72-7.72 1.47 1.35L5.41 20z\"/>\n",
       "  </svg>\n",
       "      </button>\n",
       "      \n",
       "  <style>\n",
       "    .colab-df-container {\n",
       "      display:flex;\n",
       "      flex-wrap:wrap;\n",
       "      gap: 12px;\n",
       "    }\n",
       "\n",
       "    .colab-df-convert {\n",
       "      background-color: #E8F0FE;\n",
       "      border: none;\n",
       "      border-radius: 50%;\n",
       "      cursor: pointer;\n",
       "      display: none;\n",
       "      fill: #1967D2;\n",
       "      height: 32px;\n",
       "      padding: 0 0 0 0;\n",
       "      width: 32px;\n",
       "    }\n",
       "\n",
       "    .colab-df-convert:hover {\n",
       "      background-color: #E2EBFA;\n",
       "      box-shadow: 0px 1px 2px rgba(60, 64, 67, 0.3), 0px 1px 3px 1px rgba(60, 64, 67, 0.15);\n",
       "      fill: #174EA6;\n",
       "    }\n",
       "\n",
       "    [theme=dark] .colab-df-convert {\n",
       "      background-color: #3B4455;\n",
       "      fill: #D2E3FC;\n",
       "    }\n",
       "\n",
       "    [theme=dark] .colab-df-convert:hover {\n",
       "      background-color: #434B5C;\n",
       "      box-shadow: 0px 1px 3px 1px rgba(0, 0, 0, 0.15);\n",
       "      filter: drop-shadow(0px 1px 2px rgba(0, 0, 0, 0.3));\n",
       "      fill: #FFFFFF;\n",
       "    }\n",
       "  </style>\n",
       "\n",
       "      <script>\n",
       "        const buttonEl =\n",
       "          document.querySelector('#df-078bffbd-ba09-4679-bd1a-82942f2b7f74 button.colab-df-convert');\n",
       "        buttonEl.style.display =\n",
       "          google.colab.kernel.accessAllowed ? 'block' : 'none';\n",
       "\n",
       "        async function convertToInteractive(key) {\n",
       "          const element = document.querySelector('#df-078bffbd-ba09-4679-bd1a-82942f2b7f74');\n",
       "          const dataTable =\n",
       "            await google.colab.kernel.invokeFunction('convertToInteractive',\n",
       "                                                     [key], {});\n",
       "          if (!dataTable) return;\n",
       "\n",
       "          const docLinkHtml = 'Like what you see? Visit the ' +\n",
       "            '<a target=\"_blank\" href=https://colab.research.google.com/notebooks/data_table.ipynb>data table notebook</a>'\n",
       "            + ' to learn more about interactive tables.';\n",
       "          element.innerHTML = '';\n",
       "          dataTable['output_type'] = 'display_data';\n",
       "          await google.colab.output.renderOutput(dataTable, element);\n",
       "          const docLink = document.createElement('div');\n",
       "          docLink.innerHTML = docLinkHtml;\n",
       "          element.appendChild(docLink);\n",
       "        }\n",
       "      </script>\n",
       "    </div>\n",
       "  </div>\n",
       "  "
      ],
      "text/plain": [
       "   age          workclass  fnlwgt  ... hours-per-week  native-country  income\n",
       "0   39          State-gov   77516  ...             40   United-States   <=50K\n",
       "1   50   Self-emp-not-inc   83311  ...             13   United-States   <=50K\n",
       "2   38            Private  215646  ...             40   United-States   <=50K\n",
       "3   53            Private  234721  ...             40   United-States   <=50K\n",
       "4   28            Private  338409  ...             40            Cuba   <=50K\n",
       "\n",
       "[5 rows x 15 columns]"
      ]
     },
     "execution_count": 1,
     "metadata": {},
     "output_type": "execute_result"
    }
   ],
   "source": [
    "# Task 1\n",
    "import pandas as pd\n",
    "import numpy as np\n",
    "\n",
    "# URL for the dataset\n",
    "data_url = 'https://archive.ics.uci.edu/ml/machine-learning-databases/adult/adult.data'\n",
    "\n",
    "# YOUR CODE HERE\n",
    "column_headers = ['age', 'workclass', 'fnlwgt', 'education', 'education-num', 'marital-status', 'occupation', 'relationship',\n",
    "                 'race', 'sex', 'capital-gain', 'capital-loss', 'hours-per-week', 'native-country', 'income']\n",
    "\n",
    "adult = pd.read_csv('https://archive.ics.uci.edu/ml/machine-learning-databases/adult/adult.data',\n",
    "                            names = column_headers)\n",
    "\n",
    "# Print out your DataFrame\n",
    "adult.head()\n"
   ]
  },
  {
   "cell_type": "markdown",
   "metadata": {
    "id": "ft9Q-xAzLZiw"
   },
   "source": [
    "**Task 1 Test**"
   ]
  },
  {
   "cell_type": "code",
   "execution_count": null,
   "metadata": {
    "deletable": false,
    "editable": false,
    "id": "Sc50B74_LZiw",
    "nbgrader": {
     "cell_type": "code",
     "checksum": "28ac2e9f1ad52f4fc6a7ca6e281297ad",
     "grade": true,
     "grade_id": "cell-6593303164ade3dd",
     "locked": true,
     "points": 1,
     "schema_version": 3,
     "solution": false,
     "task": false
    }
   },
   "outputs": [],
   "source": [
    "# Task 1 - Test\n",
    "\n",
    "# These tests are for you to check your work before submitting\n",
    "assert isinstance(column_headers, list), 'Have you created a list of header names?'\n",
    "assert len(column_headers) == 15, 'Did you include the correct number of items in the column_headers list?'\n",
    "assert isinstance(adult, pd.DataFrame), 'Have you created a DataFrame named adult?'\n",
    "\n",
    "# These tests will be completed when you submit your notebook for autograding"
   ]
  },
  {
   "cell_type": "markdown",
   "metadata": {
    "id": "HSsStMHQ5x3B"
   },
   "source": [
    "**Task 2** - Look at the first and last rows of the DataFrame\n",
    "\n",
    "* Assign the first **ten (10)** rows of the `adult` DataFrame to `adult_head`\n",
    "* Assign the last **ten (10)** rows of the `adult` DataFrame to `adult_tail`"
   ]
  },
  {
   "cell_type": "code",
   "execution_count": null,
   "metadata": {
    "colab": {
     "base_uri": "https://localhost:8080/"
    },
    "deletable": false,
    "id": "MRxFDeCAXyTI",
    "nbgrader": {
     "cell_type": "code",
     "checksum": "630f5267044f54fe20c15b50b0259932",
     "grade": false,
     "grade_id": "cell-a9fb33ec1c6025a8",
     "locked": false,
     "schema_version": 3,
     "solution": true,
     "task": false
    },
    "outputId": "b7217ae6-b40b-4c77-a96e-2cfd5b70c685",
    "scrolled": true
   },
   "outputs": [
    {
     "data": {
      "text/plain": [
       "(   age          workclass  fnlwgt  ... hours-per-week  native-country  income\n",
       " 0   39          State-gov   77516  ...             40   United-States   <=50K\n",
       " 1   50   Self-emp-not-inc   83311  ...             13   United-States   <=50K\n",
       " 2   38            Private  215646  ...             40   United-States   <=50K\n",
       " 3   53            Private  234721  ...             40   United-States   <=50K\n",
       " 4   28            Private  338409  ...             40            Cuba   <=50K\n",
       " 5   37            Private  284582  ...             40   United-States   <=50K\n",
       " 6   49            Private  160187  ...             16         Jamaica   <=50K\n",
       " 7   52   Self-emp-not-inc  209642  ...             45   United-States    >50K\n",
       " 8   31            Private   45781  ...             50   United-States    >50K\n",
       " 9   42            Private  159449  ...             40   United-States    >50K\n",
       " \n",
       " [10 rows x 15 columns],\n",
       "        age      workclass  fnlwgt  ... hours-per-week  native-country  income\n",
       " 32551   32        Private   34066  ...             40   United-States   <=50K\n",
       " 32552   43        Private   84661  ...             45   United-States   <=50K\n",
       " 32553   32        Private  116138  ...             11          Taiwan   <=50K\n",
       " 32554   53        Private  321865  ...             40   United-States    >50K\n",
       " 32555   22        Private  310152  ...             40   United-States   <=50K\n",
       " 32556   27        Private  257302  ...             38   United-States   <=50K\n",
       " 32557   40        Private  154374  ...             40   United-States    >50K\n",
       " 32558   58        Private  151910  ...             40   United-States   <=50K\n",
       " 32559   22        Private  201490  ...             20   United-States   <=50K\n",
       " 32560   52   Self-emp-inc  287927  ...             40   United-States    >50K\n",
       " \n",
       " [10 rows x 15 columns])"
      ]
     },
     "execution_count": 2,
     "metadata": {},
     "output_type": "execute_result"
    }
   ],
   "source": [
    "# Task 2\n",
    "\n",
    "# YOUR CODE HERE\n",
    "adult_head = adult.head(10)\n",
    "\n",
    "adult_tail = adult.tail(10)\n",
    "adult_head, adult_tail\n",
    "\n",
    "# Optional: print out adult_head and adult_tail"
   ]
  },
  {
   "cell_type": "markdown",
   "metadata": {
    "id": "EZbOaV38LZix"
   },
   "source": [
    "**Task 2 Test**"
   ]
  },
  {
   "cell_type": "code",
   "execution_count": null,
   "metadata": {
    "deletable": false,
    "editable": false,
    "id": "dXGrhWAcLZix",
    "nbgrader": {
     "cell_type": "code",
     "checksum": "853ce4176ae6cde6d695718dc81cbc33",
     "grade": true,
     "grade_id": "cell-db111c4de2805de2",
     "locked": true,
     "points": 1,
     "schema_version": 3,
     "solution": false,
     "task": false
    }
   },
   "outputs": [],
   "source": [
    "# Task 2 - Test\n",
    "\n",
    "# These tests are for you to check your work before submitting\n",
    "assert isinstance(adult_head, pd.DataFrame), 'Have you created a DataFrame named adult_head?'\n",
    "assert isinstance(adult_tail, pd.DataFrame), 'Have you created a DataFrame named adult_tail?'\n",
    "\n",
    "# These tests will be completed when you submit your notebook for autograding"
   ]
  },
  {
   "cell_type": "markdown",
   "metadata": {
    "id": "oMYl6Og4baK-"
   },
   "source": [
    "**Task 3** - Variable data types\n",
    "\n",
    "For your `adult` DataFrame, determine the data types for the variables.\n",
    "\n",
    "* Count the number of `int64` variable types and assign to `number_int64` (your value should be an integer)\n",
    "* Count the number of `object` variable types and assign to `number_object` (your value should be an integer)\n",
    "\n",
    "There are different ways to find the data types of the columns in a DataFrame. All you need to do for this task is to count the number of each data type and assign to the corresponding variable."
   ]
  },
  {
   "cell_type": "code",
   "execution_count": null,
   "metadata": {
    "colab": {
     "base_uri": "https://localhost:8080/"
    },
    "deletable": false,
    "id": "0awSPnZ6bc2L",
    "nbgrader": {
     "cell_type": "code",
     "checksum": "11a54a43888fa697e08bce22de67bed1",
     "grade": false,
     "grade_id": "cell-340508752abebcbf",
     "locked": false,
     "schema_version": 3,
     "solution": true,
     "task": false
    },
    "outputId": "572074f5-3341-4293-d7f4-6c527f805f48"
   },
   "outputs": [
    {
     "name": "stdout",
     "output_type": "stream",
     "text": [
      "int64: 6 , object: 9\n"
     ]
    }
   ],
   "source": [
    "# Task 3\n",
    "\n",
    "# YOUR CODE HERe\n",
    "\n",
    "sss = adult.dtypes\n",
    "sss\n",
    "number_int64 = 0\n",
    "number_object = 0\n",
    "for dtype in sss:\n",
    "  if (dtype == 'int64'):\n",
    "    number_int64 = number_int64 + 1\n",
    "  else:\n",
    "    number_object+=1\n",
    "\n",
    "print (f'int64: {number_int64} , object: {number_object}')"
   ]
  },
  {
   "cell_type": "markdown",
   "metadata": {
    "id": "sUgvOtBELZiy"
   },
   "source": [
    "**Task 3 Test**"
   ]
  },
  {
   "cell_type": "code",
   "execution_count": null,
   "metadata": {
    "deletable": false,
    "editable": false,
    "id": "vabkw4HtLZiy",
    "nbgrader": {
     "cell_type": "code",
     "checksum": "7a7b195b66ad8a22d3681aa4b2ceccb2",
     "grade": true,
     "grade_id": "cell-05ba0ce5673511d6",
     "locked": true,
     "points": 1,
     "schema_version": 3,
     "solution": false,
     "task": false
    }
   },
   "outputs": [],
   "source": [
    "# Task 3 - Test\n",
    "\n",
    "# Hidden tests - you will see the results when you submit to Canvas"
   ]
  },
  {
   "cell_type": "markdown",
   "metadata": {
    "id": "H58VKvI8bjS1"
   },
   "source": [
    "**Task 4** - DataFrame dimensions\n",
    "\n",
    "* Find the dimensions of your DataFrame and assign result to the variable `adult_dimension`. Your variable should be a *tuple* and the row dimension should be listed first.\n",
    "\n",
    "Hint: A tuple looks like this: (1, 2) - a tuple is a collection which is ordered and unchangeable. You can use the function `type(your_variable)` to print the variable type.\n",
    "\n",
    "Hint 2: The `shape` method returns a tuple - convenient!"
   ]
  },
  {
   "cell_type": "code",
   "execution_count": null,
   "metadata": {
    "colab": {
     "base_uri": "https://localhost:8080/"
    },
    "deletable": false,
    "id": "ket3F7EAbt75",
    "nbgrader": {
     "cell_type": "code",
     "checksum": "9d93962a691a70cbac5f46a4f974bcd7",
     "grade": false,
     "grade_id": "cell-d70ccb5657fd3d7b",
     "locked": false,
     "schema_version": 3,
     "solution": true,
     "task": false
    },
    "outputId": "14ec87c7-b3bb-41f5-de97-43de4868a897"
   },
   "outputs": [
    {
     "name": "stdout",
     "output_type": "stream",
     "text": [
      "(32561, 15)\n"
     ]
    }
   ],
   "source": [
    "# Task 4\n",
    "\n",
    "# YOUR CODE HERE\n",
    "adult_dimension = adult.shape\n",
    "\n",
    "# Print out the shape\n",
    "print(adult_dimension)"
   ]
  },
  {
   "cell_type": "markdown",
   "metadata": {
    "id": "y4loyfwyLZiz"
   },
   "source": [
    "**Task 4 Test**"
   ]
  },
  {
   "cell_type": "code",
   "execution_count": null,
   "metadata": {
    "deletable": false,
    "editable": false,
    "id": "W6XASDsmLZiz",
    "nbgrader": {
     "cell_type": "code",
     "checksum": "f3efac82e36e9c6bf916132239c75cd2",
     "grade": true,
     "grade_id": "cell-6826bc35a7f56e9d",
     "locked": true,
     "points": 1,
     "schema_version": 3,
     "solution": false,
     "task": false
    }
   },
   "outputs": [],
   "source": [
    "# Task 4 - Test\n",
    "\n",
    "assert isinstance(adult_dimension, tuple), 'Have you created a tuple named adult_dimension?'\n",
    "\n",
    "# Hidden tests - you will see the results when you submit to Canvas"
   ]
  },
  {
   "cell_type": "markdown",
   "metadata": {
    "id": "myXXrct79tMI"
   },
   "source": [
    "**Task 5** - Missing values\n",
    "\n",
    "Are there any missing values in the dataset? Let's check!\n",
    "\n",
    "* Check for missing values using `.isnull().sum()`\n",
    "* Count the number of missing values and assign the value to the variable `adult_missing`. Your variable should be an integer."
   ]
  },
  {
   "cell_type": "code",
   "execution_count": null,
   "metadata": {
    "colab": {
     "base_uri": "https://localhost:8080/"
    },
    "deletable": false,
    "id": "fBCiVy7r-WlX",
    "nbgrader": {
     "cell_type": "code",
     "checksum": "17aaa9ca4205aa42e35066d21dc5d1f6",
     "grade": false,
     "grade_id": "cell-061626ea17d6ee51",
     "locked": false,
     "schema_version": 3,
     "solution": true,
     "task": false
    },
    "outputId": "fc484809-d880-46d1-fabe-a67c87f2ee11"
   },
   "outputs": [
    {
     "data": {
      "text/plain": [
       "0"
      ]
     },
     "execution_count": 5,
     "metadata": {},
     "output_type": "execute_result"
    }
   ],
   "source": [
    "# Task 5\n",
    "\n",
    "# YOUR CODE HERE\n",
    "adult.isnull().sum()\n",
    "adult_missing = adult.isnull().sum().sum()\n",
    "adult_missing"
   ]
  },
  {
   "cell_type": "markdown",
   "metadata": {
    "id": "p7tnZZ69LZi0"
   },
   "source": [
    "**Task 5 Test**"
   ]
  },
  {
   "cell_type": "code",
   "execution_count": null,
   "metadata": {
    "deletable": false,
    "editable": false,
    "id": "E5OILknTLZi0",
    "nbgrader": {
     "cell_type": "code",
     "checksum": "5620fd488a79367dcab9c416a257e340",
     "grade": true,
     "grade_id": "cell-fa29b69831f8efb7",
     "locked": true,
     "points": 1,
     "schema_version": 3,
     "solution": false,
     "task": false
    }
   },
   "outputs": [],
   "source": [
    "# Task 5 - Test\n",
    "\n",
    "# Hidden tests - you will see the results when you submit to Canvas"
   ]
  },
  {
   "cell_type": "markdown",
   "metadata": {
    "id": "1LCvfKCaCuf_"
   },
   "source": [
    "**Task 6** - Viewing DataFrame statistics\n",
    "\n",
    "Let's look at some of the *summary statistics* of our dataset. We can use the .describe() function in order to see the summary statistics of the numeric columns.\n",
    "\n",
    "Look at the statistics for the `adult` DataFrame and then complete the following two tasks:\n",
    "\n",
    "* Find the value for the mean `age` and assign it to the variable `mean_age` (your value should be a float and defined to two decimal places)\n",
    "* Find the standard deviation (std) for the `hours-per-week` variable and assign it to `std_hpw` (your value should be a float and defined to two decimal places)\n",
    "\n",
    "Are there any values shown that might be a code for missing data?  We'll learn how to change the values in a DataFrame in the next module."
   ]
  },
  {
   "cell_type": "code",
   "execution_count": null,
   "metadata": {
    "colab": {
     "base_uri": "https://localhost:8080/",
     "height": 300
    },
    "deletable": false,
    "id": "V_9FGaBLBAu5",
    "nbgrader": {
     "cell_type": "code",
     "checksum": "c144574a7792a82c7b358d2c587ae554",
     "grade": false,
     "grade_id": "cell-379c9d6a1454cb65",
     "locked": false,
     "schema_version": 3,
     "solution": true,
     "task": false
    },
    "outputId": "dae52a68-67a3-4478-df74-b958bb9d0056"
   },
   "outputs": [
    {
     "data": {
      "text/html": [
       "\n",
       "  <div id=\"df-7ff9d4e8-729a-48f4-b261-4604f02c0122\">\n",
       "    <div class=\"colab-df-container\">\n",
       "      <div>\n",
       "<style scoped>\n",
       "    .dataframe tbody tr th:only-of-type {\n",
       "        vertical-align: middle;\n",
       "    }\n",
       "\n",
       "    .dataframe tbody tr th {\n",
       "        vertical-align: top;\n",
       "    }\n",
       "\n",
       "    .dataframe thead th {\n",
       "        text-align: right;\n",
       "    }\n",
       "</style>\n",
       "<table border=\"1\" class=\"dataframe\">\n",
       "  <thead>\n",
       "    <tr style=\"text-align: right;\">\n",
       "      <th></th>\n",
       "      <th>age</th>\n",
       "      <th>fnlwgt</th>\n",
       "      <th>education-num</th>\n",
       "      <th>capital-gain</th>\n",
       "      <th>capital-loss</th>\n",
       "      <th>hours-per-week</th>\n",
       "    </tr>\n",
       "  </thead>\n",
       "  <tbody>\n",
       "    <tr>\n",
       "      <th>count</th>\n",
       "      <td>32561.000000</td>\n",
       "      <td>3.256100e+04</td>\n",
       "      <td>32561.000000</td>\n",
       "      <td>32561.000000</td>\n",
       "      <td>32561.000000</td>\n",
       "      <td>32561.000000</td>\n",
       "    </tr>\n",
       "    <tr>\n",
       "      <th>mean</th>\n",
       "      <td>38.581647</td>\n",
       "      <td>1.897784e+05</td>\n",
       "      <td>10.080679</td>\n",
       "      <td>1077.648844</td>\n",
       "      <td>87.303830</td>\n",
       "      <td>40.437456</td>\n",
       "    </tr>\n",
       "    <tr>\n",
       "      <th>std</th>\n",
       "      <td>13.640433</td>\n",
       "      <td>1.055500e+05</td>\n",
       "      <td>2.572720</td>\n",
       "      <td>7385.292085</td>\n",
       "      <td>402.960219</td>\n",
       "      <td>12.347429</td>\n",
       "    </tr>\n",
       "    <tr>\n",
       "      <th>min</th>\n",
       "      <td>17.000000</td>\n",
       "      <td>1.228500e+04</td>\n",
       "      <td>1.000000</td>\n",
       "      <td>0.000000</td>\n",
       "      <td>0.000000</td>\n",
       "      <td>1.000000</td>\n",
       "    </tr>\n",
       "    <tr>\n",
       "      <th>25%</th>\n",
       "      <td>28.000000</td>\n",
       "      <td>1.178270e+05</td>\n",
       "      <td>9.000000</td>\n",
       "      <td>0.000000</td>\n",
       "      <td>0.000000</td>\n",
       "      <td>40.000000</td>\n",
       "    </tr>\n",
       "    <tr>\n",
       "      <th>50%</th>\n",
       "      <td>37.000000</td>\n",
       "      <td>1.783560e+05</td>\n",
       "      <td>10.000000</td>\n",
       "      <td>0.000000</td>\n",
       "      <td>0.000000</td>\n",
       "      <td>40.000000</td>\n",
       "    </tr>\n",
       "    <tr>\n",
       "      <th>75%</th>\n",
       "      <td>48.000000</td>\n",
       "      <td>2.370510e+05</td>\n",
       "      <td>12.000000</td>\n",
       "      <td>0.000000</td>\n",
       "      <td>0.000000</td>\n",
       "      <td>45.000000</td>\n",
       "    </tr>\n",
       "    <tr>\n",
       "      <th>max</th>\n",
       "      <td>90.000000</td>\n",
       "      <td>1.484705e+06</td>\n",
       "      <td>16.000000</td>\n",
       "      <td>99999.000000</td>\n",
       "      <td>4356.000000</td>\n",
       "      <td>99.000000</td>\n",
       "    </tr>\n",
       "  </tbody>\n",
       "</table>\n",
       "</div>\n",
       "      <button class=\"colab-df-convert\" onclick=\"convertToInteractive('df-7ff9d4e8-729a-48f4-b261-4604f02c0122')\"\n",
       "              title=\"Convert this dataframe to an interactive table.\"\n",
       "              style=\"display:none;\">\n",
       "        \n",
       "  <svg xmlns=\"http://www.w3.org/2000/svg\" height=\"24px\"viewBox=\"0 0 24 24\"\n",
       "       width=\"24px\">\n",
       "    <path d=\"M0 0h24v24H0V0z\" fill=\"none\"/>\n",
       "    <path d=\"M18.56 5.44l.94 2.06.94-2.06 2.06-.94-2.06-.94-.94-2.06-.94 2.06-2.06.94zm-11 1L8.5 8.5l.94-2.06 2.06-.94-2.06-.94L8.5 2.5l-.94 2.06-2.06.94zm10 10l.94 2.06.94-2.06 2.06-.94-2.06-.94-.94-2.06-.94 2.06-2.06.94z\"/><path d=\"M17.41 7.96l-1.37-1.37c-.4-.4-.92-.59-1.43-.59-.52 0-1.04.2-1.43.59L10.3 9.45l-7.72 7.72c-.78.78-.78 2.05 0 2.83L4 21.41c.39.39.9.59 1.41.59.51 0 1.02-.2 1.41-.59l7.78-7.78 2.81-2.81c.8-.78.8-2.07 0-2.86zM5.41 20L4 18.59l7.72-7.72 1.47 1.35L5.41 20z\"/>\n",
       "  </svg>\n",
       "      </button>\n",
       "      \n",
       "  <style>\n",
       "    .colab-df-container {\n",
       "      display:flex;\n",
       "      flex-wrap:wrap;\n",
       "      gap: 12px;\n",
       "    }\n",
       "\n",
       "    .colab-df-convert {\n",
       "      background-color: #E8F0FE;\n",
       "      border: none;\n",
       "      border-radius: 50%;\n",
       "      cursor: pointer;\n",
       "      display: none;\n",
       "      fill: #1967D2;\n",
       "      height: 32px;\n",
       "      padding: 0 0 0 0;\n",
       "      width: 32px;\n",
       "    }\n",
       "\n",
       "    .colab-df-convert:hover {\n",
       "      background-color: #E2EBFA;\n",
       "      box-shadow: 0px 1px 2px rgba(60, 64, 67, 0.3), 0px 1px 3px 1px rgba(60, 64, 67, 0.15);\n",
       "      fill: #174EA6;\n",
       "    }\n",
       "\n",
       "    [theme=dark] .colab-df-convert {\n",
       "      background-color: #3B4455;\n",
       "      fill: #D2E3FC;\n",
       "    }\n",
       "\n",
       "    [theme=dark] .colab-df-convert:hover {\n",
       "      background-color: #434B5C;\n",
       "      box-shadow: 0px 1px 3px 1px rgba(0, 0, 0, 0.15);\n",
       "      filter: drop-shadow(0px 1px 2px rgba(0, 0, 0, 0.3));\n",
       "      fill: #FFFFFF;\n",
       "    }\n",
       "  </style>\n",
       "\n",
       "      <script>\n",
       "        const buttonEl =\n",
       "          document.querySelector('#df-7ff9d4e8-729a-48f4-b261-4604f02c0122 button.colab-df-convert');\n",
       "        buttonEl.style.display =\n",
       "          google.colab.kernel.accessAllowed ? 'block' : 'none';\n",
       "\n",
       "        async function convertToInteractive(key) {\n",
       "          const element = document.querySelector('#df-7ff9d4e8-729a-48f4-b261-4604f02c0122');\n",
       "          const dataTable =\n",
       "            await google.colab.kernel.invokeFunction('convertToInteractive',\n",
       "                                                     [key], {});\n",
       "          if (!dataTable) return;\n",
       "\n",
       "          const docLinkHtml = 'Like what you see? Visit the ' +\n",
       "            '<a target=\"_blank\" href=https://colab.research.google.com/notebooks/data_table.ipynb>data table notebook</a>'\n",
       "            + ' to learn more about interactive tables.';\n",
       "          element.innerHTML = '';\n",
       "          dataTable['output_type'] = 'display_data';\n",
       "          await google.colab.output.renderOutput(dataTable, element);\n",
       "          const docLink = document.createElement('div');\n",
       "          docLink.innerHTML = docLinkHtml;\n",
       "          element.appendChild(docLink);\n",
       "        }\n",
       "      </script>\n",
       "    </div>\n",
       "  </div>\n",
       "  "
      ],
      "text/plain": [
       "                age        fnlwgt  ...  capital-loss  hours-per-week\n",
       "count  32561.000000  3.256100e+04  ...  32561.000000    32561.000000\n",
       "mean      38.581647  1.897784e+05  ...     87.303830       40.437456\n",
       "std       13.640433  1.055500e+05  ...    402.960219       12.347429\n",
       "min       17.000000  1.228500e+04  ...      0.000000        1.000000\n",
       "25%       28.000000  1.178270e+05  ...      0.000000       40.000000\n",
       "50%       37.000000  1.783560e+05  ...      0.000000       40.000000\n",
       "75%       48.000000  2.370510e+05  ...      0.000000       45.000000\n",
       "max       90.000000  1.484705e+06  ...   4356.000000       99.000000\n",
       "\n",
       "[8 rows x 6 columns]"
      ]
     },
     "execution_count": 6,
     "metadata": {},
     "output_type": "execute_result"
    }
   ],
   "source": [
    "# Task 6\n",
    "\n",
    "# YOUR CODE HERE\n",
    "adult.describe()"
   ]
  },
  {
   "cell_type": "code",
   "execution_count": null,
   "metadata": {
    "colab": {
     "base_uri": "https://localhost:8080/"
    },
    "id": "cnhO8GyXlOwt",
    "outputId": "8208d59c-1bae-43e2-c01f-1352398ed36d"
   },
   "outputs": [
    {
     "name": "stdout",
     "output_type": "stream",
     "text": [
      "mean_age: 38.58,\n",
      "std_hpw: 12.35\n"
     ]
    }
   ],
   "source": [
    "mean_age = round(adult['age'].mean(), 2)\n",
    "mean_age\n",
    "\n",
    "std_hpw = round(adult['hours-per-week'].std(), 2)\n",
    "std_hpw\n",
    "\n",
    "print(f'mean_age: {mean_age},\\nstd_hpw: {std_hpw}')"
   ]
  },
  {
   "cell_type": "markdown",
   "metadata": {
    "id": "tanljwt8LZi1"
   },
   "source": [
    "**Task 6 Test**"
   ]
  },
  {
   "cell_type": "code",
   "execution_count": null,
   "metadata": {
    "deletable": false,
    "editable": false,
    "id": "vrQt_sUYLZi1",
    "nbgrader": {
     "cell_type": "code",
     "checksum": "53e593b3d00981adf5f754fe663e8ca1",
     "grade": true,
     "grade_id": "cell-26b21a59dd35ddb1",
     "locked": true,
     "points": 1,
     "schema_version": 3,
     "solution": false,
     "task": false
    }
   },
   "outputs": [],
   "source": [
    "# Task 6 - Test\n",
    "\n",
    "# Hidden tests - you will see the results when you submit to Canvas"
   ]
  },
  {
   "cell_type": "markdown",
   "metadata": {
    "id": "n_rcgbaqcleU"
   },
   "source": [
    "**Task 7** - Summary statistics for non-numeric columns\n",
    "\n",
    "We have some columns in this dataset that are non-numeric or object columns. This is usually a string object. Let's use the `describe()` function again but include the argument `exclude='number'` to exclude the numeric columns.\n",
    "\n",
    "Using the results of `describe(exclude='number')`, complete the following two tasks:\n",
    "\n",
    "* Find the number of unique `education` values and assign it to `unique_edu` (your value should be an integer)\n",
    "* Find the number of times the most frequent observation for `income` occurs and assign it to `freq_income` (your value should be an integer) *(Note: this is not the income value itself, just how many times it occurs)*"
   ]
  },
  {
   "cell_type": "code",
   "execution_count": null,
   "metadata": {
    "colab": {
     "base_uri": "https://localhost:8080/"
    },
    "deletable": false,
    "id": "7r5vSLiFLZi1",
    "nbgrader": {
     "cell_type": "code",
     "checksum": "32f8baa85099a4a3a83d7764f0fc759a",
     "grade": false,
     "grade_id": "cell-11915c7656419ee3",
     "locked": false,
     "schema_version": 3,
     "solution": true,
     "task": false
    },
    "outputId": "4844acc8-98c8-4655-d0cd-fde7a7fb236a"
   },
   "outputs": [
    {
     "data": {
      "text/plain": [
       "16"
      ]
     },
     "execution_count": 9,
     "metadata": {},
     "output_type": "execute_result"
    }
   ],
   "source": [
    "# Task 7\n",
    "\n",
    "# YOUR CODE HERE\n",
    "adult.describe(exclude='number')\n",
    "\n",
    "unique_edu = adult['education'].nunique()\n",
    "unique_edu\n"
   ]
  },
  {
   "cell_type": "code",
   "execution_count": null,
   "metadata": {
    "colab": {
     "base_uri": "https://localhost:8080/"
    },
    "id": "3jpwj3OXLZi1",
    "outputId": "0f400c24-2514-4778-a8af-bfb4d55f815c"
   },
   "outputs": [
    {
     "data": {
      "text/plain": [
       " <=50K    24720\n",
       " >50K      7841\n",
       "Name: income, dtype: int64"
      ]
     },
     "execution_count": 10,
     "metadata": {},
     "output_type": "execute_result"
    }
   ],
   "source": [
    "#adult.describe(exclude='number')\n",
    "freq_income = adult['income'].value_counts()\n",
    "freq_income"
   ]
  },
  {
   "cell_type": "markdown",
   "metadata": {
    "id": "NjgWfu1LLZi2"
   },
   "source": [
    "**Task 7 Test**"
   ]
  },
  {
   "cell_type": "code",
   "execution_count": null,
   "metadata": {
    "deletable": false,
    "editable": false,
    "id": "-NIhI-yzLZi2",
    "nbgrader": {
     "cell_type": "code",
     "checksum": "0e5f56f06249a66c475f8c46f0b07a7d",
     "grade": true,
     "grade_id": "cell-00ef7970684097e5",
     "locked": true,
     "points": 1,
     "schema_version": 3,
     "solution": false,
     "task": false
    }
   },
   "outputs": [],
   "source": [
    "# Task 7 - Test\n",
    "\n",
    "# Hidden tests - you will see the results when you submit to Canvas"
   ]
  },
  {
   "cell_type": "markdown",
   "metadata": {
    "id": "o_E_rvFUdP8O"
   },
   "source": [
    "**Task 8** - Finding value counts\n",
    "\n",
    "Let's look more specifically at the `relationship` column and perform a count of the number of observations for each category. We can see how many categories we have by using the `.unique()` method on the column. Then, we can use `.value_counts()` to count the number of observations in each category.\n",
    "\n",
    "* View the unique values in the `relationship` column with `.unique()`\n",
    "* View the number of observations for each value with `.value_counts()`\n",
    "* Find the counts for `Other-relative` and assign to the variable `adult_other_rel`"
   ]
  },
  {
   "cell_type": "code",
   "execution_count": null,
   "metadata": {
    "colab": {
     "base_uri": "https://localhost:8080/"
    },
    "deletable": false,
    "id": "dpz5fUqJdTE_",
    "nbgrader": {
     "cell_type": "code",
     "checksum": "3b0477bc8586b6d06b246aa34c18b907",
     "grade": false,
     "grade_id": "cell-2498319aac6c6e38",
     "locked": false,
     "schema_version": 3,
     "solution": true,
     "task": false
    },
    "outputId": "73be16db-4c48-4c11-d1e8-fb5c55c576cd"
   },
   "outputs": [
    {
     "data": {
      "text/plain": [
       "15"
      ]
     },
     "execution_count": 11,
     "metadata": {},
     "output_type": "execute_result"
    }
   ],
   "source": [
    "# Task 8\n",
    "\n",
    "# YOUR CODE HERE\n",
    "adult['relationship'].unique()\n",
    "abc = adult['relationship'].value_counts()\n",
    "\n",
    "\n",
    "adult_other_rel = adult[adult.relationship == 'Other-relative'].shape[1]  #Request to please guide me I know its the wrong output have done lots of googling and tried various methods still could not get the proper  answer\n",
    "adult_other_rel\n",
    "#adult.query('relationship == \"other-relative\"').relationship.count()\n"
   ]
  },
  {
   "cell_type": "markdown",
   "metadata": {
    "id": "UIJlTYx3LZi2"
   },
   "source": [
    "**Task 8 Test**"
   ]
  },
  {
   "cell_type": "code",
   "execution_count": null,
   "metadata": {
    "deletable": false,
    "editable": false,
    "id": "QLrTwSEGLZi2",
    "nbgrader": {
     "cell_type": "code",
     "checksum": "b37410acc6d088ec026cdf4a726d72ad",
     "grade": true,
     "grade_id": "cell-ee00a51b05f5cc8e",
     "locked": true,
     "points": 1,
     "schema_version": 3,
     "solution": false,
     "task": false
    }
   },
   "outputs": [],
   "source": [
    "# Task 8 - Test\n",
    "\n",
    "# Hidden tests - you will see the results when you submit to Canvas"
   ]
  },
  {
   "cell_type": "markdown",
   "metadata": {
    "id": "ZEs60bkrdnsU"
   },
   "source": [
    "**Task 9** - Create a Series\n",
    "\n",
    "A column of a DataFrame is a pandas Series. Using the `adult` DataFrame, create a Series from the `occupation` column.\n",
    "\n",
    "* Create a Series from the `occupation` column and name it `adult_occup`"
   ]
  },
  {
   "cell_type": "code",
   "execution_count": null,
   "metadata": {
    "colab": {
     "base_uri": "https://localhost:8080/"
    },
    "deletable": false,
    "id": "ydjVZQA3du6l",
    "nbgrader": {
     "cell_type": "code",
     "checksum": "174f626dd82f9e92eb19f1c21e5087fc",
     "grade": false,
     "grade_id": "cell-d1bb196ab00c4bd3",
     "locked": false,
     "schema_version": 3,
     "solution": true,
     "task": false
    },
    "outputId": "8be053b4-01a8-4bab-a516-cb59e8d6c799"
   },
   "outputs": [
    {
     "data": {
      "text/plain": [
       "0              Adm-clerical\n",
       "1           Exec-managerial\n",
       "2         Handlers-cleaners\n",
       "3         Handlers-cleaners\n",
       "4            Prof-specialty\n",
       "                ...        \n",
       "32556          Tech-support\n",
       "32557     Machine-op-inspct\n",
       "32558          Adm-clerical\n",
       "32559          Adm-clerical\n",
       "32560       Exec-managerial\n",
       "Name: occupation, Length: 32561, dtype: object"
      ]
     },
     "execution_count": 12,
     "metadata": {},
     "output_type": "execute_result"
    }
   ],
   "source": [
    "# Task 9\n",
    "\n",
    "# YOUR CODE HERE\n",
    "\n",
    "adult_occup = pd.Series(adult['occupation'].values, name='occupation')\n",
    "adult_occup"
   ]
  },
  {
   "cell_type": "markdown",
   "metadata": {
    "id": "ecKFLU6tLZi3"
   },
   "source": [
    "**Task 9 Test**"
   ]
  },
  {
   "cell_type": "code",
   "execution_count": null,
   "metadata": {
    "deletable": false,
    "editable": false,
    "id": "2RVMSI26LZi3",
    "nbgrader": {
     "cell_type": "code",
     "checksum": "e393fefb046b14831077242eff640471",
     "grade": true,
     "grade_id": "cell-e43fc22d03a71561",
     "locked": true,
     "points": 1,
     "schema_version": 3,
     "solution": false,
     "task": false
    }
   },
   "outputs": [],
   "source": [
    "# Task 9 - Test\n",
    "\n",
    "# These tests are for you to check your work before submitting\n",
    "assert isinstance(adult_occup, pd.Series), 'Have you created the correct Series?'\n",
    "\n",
    "# Hidden tests - you will see the results when you submit to Canvas"
   ]
  },
  {
   "cell_type": "markdown",
   "metadata": {
    "id": "FnOWk3zMOuqz"
   },
   "source": [
    "**Task 10** - Practice with a new dataset\n",
    "\n",
    "Let's use some of what we've learned so far to load in a new dataset and answer some questions. For now, we're going to read in the data from the website where it is stored. But, at the end of this project, you can review the instructions for uploading a file to Google Colab,\n",
    "\n",
    "* Use [this link (right click to copy)](https://raw.githubusercontent.com/LambdaSchool/data-science-practice-datasets/main/unit_1/NASCAR/nascard.csv) as the URL and assign it to the variable `data_url2`\n",
    "* Read in the data into a DataFrame called `nascar`; the CSV already includes a header\n",
    "\n",
    "More information about this data can be found [here](https://github.com/LambdaSchool/data-science-practice-datasets/tree/main/unit_1/NASCAR)."
   ]
  },
  {
   "cell_type": "code",
   "execution_count": null,
   "metadata": {
    "deletable": false,
    "id": "LHYkMOD3LZi3",
    "nbgrader": {
     "cell_type": "code",
     "checksum": "d240cb09504b19a2e7dd6a5d7a37fbb7",
     "grade": false,
     "grade_id": "cell-04b98cad3de4cab4",
     "locked": false,
     "schema_version": 3,
     "solution": true,
     "task": false
    },
    "outputId": "7d323cc6-1ebd-4077-a625-8c157a5217de"
   },
   "outputs": [
    {
     "data": {
      "text/html": [
       "<div>\n",
       "<style scoped>\n",
       "    .dataframe tbody tr th:only-of-type {\n",
       "        vertical-align: middle;\n",
       "    }\n",
       "\n",
       "    .dataframe tbody tr th {\n",
       "        vertical-align: top;\n",
       "    }\n",
       "\n",
       "    .dataframe thead th {\n",
       "        text-align: right;\n",
       "    }\n",
       "</style>\n",
       "<table border=\"1\" class=\"dataframe\">\n",
       "  <thead>\n",
       "    <tr style=\"text-align: right;\">\n",
       "      <th></th>\n",
       "      <th>serRace</th>\n",
       "      <th>year</th>\n",
       "      <th>yearRace</th>\n",
       "      <th>finish</th>\n",
       "      <th>start</th>\n",
       "      <th>laps</th>\n",
       "      <th>prize</th>\n",
       "      <th>carsRace</th>\n",
       "      <th>carMake</th>\n",
       "      <th>driver</th>\n",
       "    </tr>\n",
       "  </thead>\n",
       "  <tbody>\n",
       "    <tr>\n",
       "      <th>0</th>\n",
       "      <td>1</td>\n",
       "      <td>1975</td>\n",
       "      <td>1</td>\n",
       "      <td>1</td>\n",
       "      <td>1</td>\n",
       "      <td>191</td>\n",
       "      <td>12035</td>\n",
       "      <td>35</td>\n",
       "      <td>Matador</td>\n",
       "      <td>BobbyAllison</td>\n",
       "    </tr>\n",
       "    <tr>\n",
       "      <th>1</th>\n",
       "      <td>1</td>\n",
       "      <td>1975</td>\n",
       "      <td>1</td>\n",
       "      <td>2</td>\n",
       "      <td>2</td>\n",
       "      <td>191</td>\n",
       "      <td>8135</td>\n",
       "      <td>35</td>\n",
       "      <td>Mercury</td>\n",
       "      <td>DavidPearson</td>\n",
       "    </tr>\n",
       "    <tr>\n",
       "      <th>2</th>\n",
       "      <td>1</td>\n",
       "      <td>1975</td>\n",
       "      <td>1</td>\n",
       "      <td>3</td>\n",
       "      <td>25</td>\n",
       "      <td>184</td>\n",
       "      <td>6535</td>\n",
       "      <td>35</td>\n",
       "      <td>Chevrolet</td>\n",
       "      <td>CecilGordon</td>\n",
       "    </tr>\n",
       "    <tr>\n",
       "      <th>3</th>\n",
       "      <td>1</td>\n",
       "      <td>1975</td>\n",
       "      <td>1</td>\n",
       "      <td>4</td>\n",
       "      <td>27</td>\n",
       "      <td>183</td>\n",
       "      <td>5035</td>\n",
       "      <td>35</td>\n",
       "      <td>Dodge</td>\n",
       "      <td>DaveMarcis</td>\n",
       "    </tr>\n",
       "    <tr>\n",
       "      <th>4</th>\n",
       "      <td>1</td>\n",
       "      <td>1975</td>\n",
       "      <td>1</td>\n",
       "      <td>5</td>\n",
       "      <td>22</td>\n",
       "      <td>178</td>\n",
       "      <td>3835</td>\n",
       "      <td>35</td>\n",
       "      <td>Ford</td>\n",
       "      <td>ElmoLangley</td>\n",
       "    </tr>\n",
       "    <tr>\n",
       "      <th>...</th>\n",
       "      <td>...</td>\n",
       "      <td>...</td>\n",
       "      <td>...</td>\n",
       "      <td>...</td>\n",
       "      <td>...</td>\n",
       "      <td>...</td>\n",
       "      <td>...</td>\n",
       "      <td>...</td>\n",
       "      <td>...</td>\n",
       "      <td>...</td>\n",
       "    </tr>\n",
       "    <tr>\n",
       "      <th>34879</th>\n",
       "      <td>898</td>\n",
       "      <td>2003</td>\n",
       "      <td>36</td>\n",
       "      <td>39</td>\n",
       "      <td>17</td>\n",
       "      <td>89</td>\n",
       "      <td>43150</td>\n",
       "      <td>43</td>\n",
       "      <td>Chevrolet</td>\n",
       "      <td>MikeSkinner</td>\n",
       "    </tr>\n",
       "    <tr>\n",
       "      <th>34880</th>\n",
       "      <td>898</td>\n",
       "      <td>2003</td>\n",
       "      <td>36</td>\n",
       "      <td>40</td>\n",
       "      <td>26</td>\n",
       "      <td>81</td>\n",
       "      <td>78703</td>\n",
       "      <td>43</td>\n",
       "      <td>Dodge</td>\n",
       "      <td>JeffGreen</td>\n",
       "    </tr>\n",
       "    <tr>\n",
       "      <th>34881</th>\n",
       "      <td>898</td>\n",
       "      <td>2003</td>\n",
       "      <td>36</td>\n",
       "      <td>41</td>\n",
       "      <td>23</td>\n",
       "      <td>72</td>\n",
       "      <td>60735</td>\n",
       "      <td>43</td>\n",
       "      <td>Chevrolet</td>\n",
       "      <td>MichaelWaltrip</td>\n",
       "    </tr>\n",
       "    <tr>\n",
       "      <th>34882</th>\n",
       "      <td>898</td>\n",
       "      <td>2003</td>\n",
       "      <td>36</td>\n",
       "      <td>42</td>\n",
       "      <td>22</td>\n",
       "      <td>57</td>\n",
       "      <td>67612</td>\n",
       "      <td>43</td>\n",
       "      <td>Chevrolet</td>\n",
       "      <td>JohnAndretti</td>\n",
       "    </tr>\n",
       "    <tr>\n",
       "      <th>34883</th>\n",
       "      <td>898</td>\n",
       "      <td>2003</td>\n",
       "      <td>36</td>\n",
       "      <td>43</td>\n",
       "      <td>37</td>\n",
       "      <td>28</td>\n",
       "      <td>62665</td>\n",
       "      <td>43</td>\n",
       "      <td>Ford</td>\n",
       "      <td>MattKenseth</td>\n",
       "    </tr>\n",
       "  </tbody>\n",
       "</table>\n",
       "<p>34884 rows × 10 columns</p>\n",
       "</div>"
      ],
      "text/plain": [
       "       serRace  year  yearRace  finish  start  laps  prize  carsRace  \\\n",
       "0            1  1975         1       1      1   191  12035        35   \n",
       "1            1  1975         1       2      2   191   8135        35   \n",
       "2            1  1975         1       3     25   184   6535        35   \n",
       "3            1  1975         1       4     27   183   5035        35   \n",
       "4            1  1975         1       5     22   178   3835        35   \n",
       "...        ...   ...       ...     ...    ...   ...    ...       ...   \n",
       "34879      898  2003        36      39     17    89  43150        43   \n",
       "34880      898  2003        36      40     26    81  78703        43   \n",
       "34881      898  2003        36      41     23    72  60735        43   \n",
       "34882      898  2003        36      42     22    57  67612        43   \n",
       "34883      898  2003        36      43     37    28  62665        43   \n",
       "\n",
       "         carMake          driver  \n",
       "0        Matador    BobbyAllison  \n",
       "1        Mercury    DavidPearson  \n",
       "2      Chevrolet     CecilGordon  \n",
       "3          Dodge      DaveMarcis  \n",
       "4           Ford     ElmoLangley  \n",
       "...          ...             ...  \n",
       "34879  Chevrolet     MikeSkinner  \n",
       "34880      Dodge       JeffGreen  \n",
       "34881  Chevrolet  MichaelWaltrip  \n",
       "34882  Chevrolet    JohnAndretti  \n",
       "34883       Ford     MattKenseth  \n",
       "\n",
       "[34884 rows x 10 columns]"
      ]
     },
     "execution_count": 244,
     "metadata": {},
     "output_type": "execute_result"
    }
   ],
   "source": [
    "# Task 10\n",
    "\n",
    "# YOUR CODE HERE\n",
    "data_url2 = 'https://raw.githubusercontent.com/LambdaSchool/data-science-practice-datasets/main/unit_1/NASCAR/nascard.csv'\n",
    "nascar = pd.read_csv('https://raw.githubusercontent.com/LambdaSchool/data-science-practice-datasets/main/unit_1/NASCAR/nascard.csv')\n",
    "nascar"
   ]
  },
  {
   "cell_type": "markdown",
   "metadata": {
    "id": "ZI65V5uELZi3"
   },
   "source": [
    "**Task 10 Test**"
   ]
  },
  {
   "cell_type": "code",
   "execution_count": null,
   "metadata": {
    "deletable": false,
    "editable": false,
    "id": "idkyA3OtLZi3",
    "nbgrader": {
     "cell_type": "code",
     "checksum": "3315b366b48374f265a3935c4c2d0ff2",
     "grade": true,
     "grade_id": "cell-8b7550f8a360559b",
     "locked": true,
     "points": 1,
     "schema_version": 3,
     "solution": false,
     "task": false
    }
   },
   "outputs": [],
   "source": [
    "# Task 10 - Test\n",
    "\n",
    "# These tests are for you to check your work before submitting\n",
    "assert isinstance(nascar, pd.DataFrame), 'Have you created the nascar DataFrame?'\n",
    "\n",
    "# Hidden tests - you will see the results when you submit to Canvas"
   ]
  },
  {
   "cell_type": "markdown",
   "metadata": {
    "id": "UzIUMnonLZi4"
   },
   "source": [
    "**Task 11** - Look at the header\n",
    "\n",
    "Now, let's look at the data. We'll use the `.head()` method to view the first rows of the DataFrame\n",
    "\n",
    "* Assign the output from `.head()` to a DataFrame called `nascar_head` (use the default values of the method)"
   ]
  },
  {
   "cell_type": "code",
   "execution_count": null,
   "metadata": {
    "deletable": false,
    "id": "femoM2VsLZi4",
    "nbgrader": {
     "cell_type": "code",
     "checksum": "339061ac9982b3fd4a659548499dee2b",
     "grade": false,
     "grade_id": "cell-01b2cebe2cab129a",
     "locked": false,
     "schema_version": 3,
     "solution": true,
     "task": false
    },
    "outputId": "63f038d3-01f4-48d0-91f4-8d065be19c51"
   },
   "outputs": [
    {
     "data": {
      "text/html": [
       "<div>\n",
       "<style scoped>\n",
       "    .dataframe tbody tr th:only-of-type {\n",
       "        vertical-align: middle;\n",
       "    }\n",
       "\n",
       "    .dataframe tbody tr th {\n",
       "        vertical-align: top;\n",
       "    }\n",
       "\n",
       "    .dataframe thead th {\n",
       "        text-align: right;\n",
       "    }\n",
       "</style>\n",
       "<table border=\"1\" class=\"dataframe\">\n",
       "  <thead>\n",
       "    <tr style=\"text-align: right;\">\n",
       "      <th></th>\n",
       "      <th>serRace</th>\n",
       "      <th>year</th>\n",
       "      <th>yearRace</th>\n",
       "      <th>finish</th>\n",
       "      <th>start</th>\n",
       "      <th>laps</th>\n",
       "      <th>prize</th>\n",
       "      <th>carsRace</th>\n",
       "      <th>carMake</th>\n",
       "      <th>driver</th>\n",
       "    </tr>\n",
       "  </thead>\n",
       "  <tbody>\n",
       "    <tr>\n",
       "      <th>0</th>\n",
       "      <td>1</td>\n",
       "      <td>1975</td>\n",
       "      <td>1</td>\n",
       "      <td>1</td>\n",
       "      <td>1</td>\n",
       "      <td>191</td>\n",
       "      <td>12035</td>\n",
       "      <td>35</td>\n",
       "      <td>Matador</td>\n",
       "      <td>BobbyAllison</td>\n",
       "    </tr>\n",
       "    <tr>\n",
       "      <th>1</th>\n",
       "      <td>1</td>\n",
       "      <td>1975</td>\n",
       "      <td>1</td>\n",
       "      <td>2</td>\n",
       "      <td>2</td>\n",
       "      <td>191</td>\n",
       "      <td>8135</td>\n",
       "      <td>35</td>\n",
       "      <td>Mercury</td>\n",
       "      <td>DavidPearson</td>\n",
       "    </tr>\n",
       "    <tr>\n",
       "      <th>2</th>\n",
       "      <td>1</td>\n",
       "      <td>1975</td>\n",
       "      <td>1</td>\n",
       "      <td>3</td>\n",
       "      <td>25</td>\n",
       "      <td>184</td>\n",
       "      <td>6535</td>\n",
       "      <td>35</td>\n",
       "      <td>Chevrolet</td>\n",
       "      <td>CecilGordon</td>\n",
       "    </tr>\n",
       "    <tr>\n",
       "      <th>3</th>\n",
       "      <td>1</td>\n",
       "      <td>1975</td>\n",
       "      <td>1</td>\n",
       "      <td>4</td>\n",
       "      <td>27</td>\n",
       "      <td>183</td>\n",
       "      <td>5035</td>\n",
       "      <td>35</td>\n",
       "      <td>Dodge</td>\n",
       "      <td>DaveMarcis</td>\n",
       "    </tr>\n",
       "    <tr>\n",
       "      <th>4</th>\n",
       "      <td>1</td>\n",
       "      <td>1975</td>\n",
       "      <td>1</td>\n",
       "      <td>5</td>\n",
       "      <td>22</td>\n",
       "      <td>178</td>\n",
       "      <td>3835</td>\n",
       "      <td>35</td>\n",
       "      <td>Ford</td>\n",
       "      <td>ElmoLangley</td>\n",
       "    </tr>\n",
       "  </tbody>\n",
       "</table>\n",
       "</div>"
      ],
      "text/plain": [
       "   serRace  year  yearRace  finish  start  laps  prize  carsRace    carMake  \\\n",
       "0        1  1975         1       1      1   191  12035        35    Matador   \n",
       "1        1  1975         1       2      2   191   8135        35    Mercury   \n",
       "2        1  1975         1       3     25   184   6535        35  Chevrolet   \n",
       "3        1  1975         1       4     27   183   5035        35      Dodge   \n",
       "4        1  1975         1       5     22   178   3835        35       Ford   \n",
       "\n",
       "         driver  \n",
       "0  BobbyAllison  \n",
       "1  DavidPearson  \n",
       "2   CecilGordon  \n",
       "3    DaveMarcis  \n",
       "4   ElmoLangley  "
      ]
     },
     "execution_count": 245,
     "metadata": {},
     "output_type": "execute_result"
    }
   ],
   "source": [
    "# Task 11\n",
    "\n",
    "# YOUR CODE HERE\n",
    "nascar_head = nascar.head()\n",
    "nascar_head"
   ]
  },
  {
   "cell_type": "markdown",
   "metadata": {
    "id": "H18GnJtALZi4"
   },
   "source": [
    "**Task 11 Test**"
   ]
  },
  {
   "cell_type": "code",
   "execution_count": null,
   "metadata": {
    "deletable": false,
    "editable": false,
    "id": "rcV84fUALZi4",
    "nbgrader": {
     "cell_type": "code",
     "checksum": "1c8790f27229d0afe3489d42aba50984",
     "grade": true,
     "grade_id": "cell-4abee0d24322116e",
     "locked": true,
     "points": 1,
     "schema_version": 3,
     "solution": false,
     "task": false
    }
   },
   "outputs": [],
   "source": [
    "# Task 11 - Test\n",
    "\n",
    "# These tests are for you to check your work before submitting\n",
    "assert isinstance(nascar_head, pd.DataFrame), 'Have you created the nascar_head DataFrame?'\n",
    "\n",
    "# Hidden tests - you will see the results when you submit to Canvas"
   ]
  },
  {
   "cell_type": "markdown",
   "metadata": {
    "id": "2U8Jb7BjgVFF"
   },
   "source": [
    "**Task 12** - Dataset description and variable types\n",
    "\n",
    "Using your `nascar` DataFrame, answer the following questions. Remember - you can use methods like `describe()` and `info()` to print out information about the variable types in your DataFrame. Remember, you can use `describe(exclude='number')` to view non-numeric variable types.\n",
    "\n",
    "You can view more information about the data [here](http://users.stat.ufl.edu/~winner/data/nascard.txt).\n",
    "\n",
    "Select the letter indicating which one of the following statements about the features in `nascar` is incorrect?  For example, if statement B is incorrect, you'll type your answer in the code block as `answer = 'B'`\n",
    "\n",
    "\n",
    "A: Each entry for `driver` is a text string\n",
    "\n",
    "B: `carMake` is an identifer variable\n",
    "\n",
    "\n",
    "C: `carsRace` is a quantitative, discrete variable\n",
    "\n",
    "\n",
    "D: `prize` is a quantitative, continuous variable"
   ]
  },
  {
   "cell_type": "code",
   "execution_count": null,
   "metadata": {
    "deletable": false,
    "id": "W18oyOFCVau_",
    "nbgrader": {
     "cell_type": "code",
     "checksum": "0b41e05c9dd201ebb5eea984d55a8bf7",
     "grade": false,
     "grade_id": "cell-4452c94a7f85fa40",
     "locked": false,
     "schema_version": 3,
     "solution": true,
     "task": false
    },
    "outputId": "080b3822-432c-4b1b-8849-4c46803c90e0"
   },
   "outputs": [
    {
     "name": "stdout",
     "output_type": "stream",
     "text": [
      "<class 'pandas.core.frame.DataFrame'>\n",
      "RangeIndex: 34884 entries, 0 to 34883\n",
      "Data columns (total 10 columns):\n",
      " #   Column    Non-Null Count  Dtype \n",
      "---  ------    --------------  ----- \n",
      " 0   serRace   34884 non-null  int64 \n",
      " 1   year      34884 non-null  int64 \n",
      " 2   yearRace  34884 non-null  int64 \n",
      " 3   finish    34884 non-null  int64 \n",
      " 4   start     34884 non-null  int64 \n",
      " 5   laps      34884 non-null  int64 \n",
      " 6   prize     34884 non-null  int64 \n",
      " 7   carsRace  34884 non-null  int64 \n",
      " 8   carMake   34884 non-null  object\n",
      " 9   driver    34884 non-null  object\n",
      "dtypes: int64(8), object(2)\n",
      "memory usage: 2.7+ MB\n"
     ]
    }
   ],
   "source": [
    "# Task 12\n",
    "\n",
    "#     answer = 'B' (CarMake is qualitative, Nominal variable and not a identifier variable)\n",
    "\n",
    "# Ignore the YOUR CODE HERE for this cell\n",
    "# YOUR CODE HERE\n",
    "#raise NotImplementedError()\n",
    "nascar.describe(exclude='number')\n",
    "nascar.info()"
   ]
  },
  {
   "cell_type": "code",
   "execution_count": null,
   "metadata": {
    "deletable": false,
    "editable": false,
    "id": "dONGEFWTVau_",
    "nbgrader": {
     "cell_type": "code",
     "checksum": "ccdbd0723fb3e776f088f34d430924b3",
     "grade": true,
     "grade_id": "cell-2673e645b1df248f",
     "locked": true,
     "points": 1,
     "schema_version": 3,
     "solution": false,
     "task": false
    }
   },
   "outputs": [],
   "source": [
    "# Task 12 - Test\n",
    "\n",
    "# Hidden tests - you will see the results when you submit to Canvas"
   ]
  },
  {
   "cell_type": "markdown",
   "metadata": {
    "id": "wxjsuRUOLZi4"
   },
   "source": [
    "**Extra Practice!!**\n",
    "\n",
    "Now we're going to practice loading a dataset that you have saved on your computer. Since we're working in a notebook on Google Colab, you'll need to upload your file to the notebook runtime in order to read in the data.\n",
    "\n",
    "* Use [this link](https://raw.githubusercontent.com/LambdaSchool/data-science-practice-datasets/main/unit_1/NASCAR/nascard.csv) to download your dataset as a csv file to your computer. \n",
    "* Upload to Google Colab one of two ways:\n",
    "    * using `from google.colab import files` then `uploaded = files.upload()`; read in the file with pd.read_csv(filename)\n",
    "    * using the file upload feature in the left side panel of the Colab notebook; read in the file with pd.read_csv(filename)\n",
    "\n",
    "More information about this data can be found [here](https://github.com/LambdaSchool/data-science-practice-datasets/tree/main/unit_1/NASCAR).\n",
    "\n",
    "**DELETE or COMMENT OUT your Colab code**"
   ]
  },
  {
   "cell_type": "code",
   "execution_count": 23,
   "metadata": {
    "id": "wE_RCi0AfTrz"
   },
   "outputs": [],
   "source": [
    "# Extra Practice\n",
    "\n",
    "## DELETE OR COMMENT OUT YOUR COLAB CODE BEFORE SUBMITTING THE NOTEBOOK\n",
    "\n",
    "#from google.colab import files\n",
    "#uploaded = files.upload()"
   ]
  },
  {
   "cell_type": "code",
   "execution_count": 28,
   "metadata": {
    "id": "9Egv3Hv6oyOl"
   },
   "outputs": [],
   "source": [
    "#from google.colab import drive\n",
    "#drive.mount('/content/gdrive')\n"
   ]
  },
  {
   "cell_type": "code",
   "execution_count": 27,
   "metadata": {
    "colab": {
     "base_uri": "https://localhost:8080/",
     "height": 424
    },
    "id": "NmZqbl43p2tC",
    "outputId": "d9adb581-7b28-4c1f-9e7b-6d9791f446ea"
   },
   "outputs": [
    {
     "data": {
      "text/html": [
       "\n",
       "  <div id=\"df-ae16faf5-84d6-4549-a9b0-61d0e70fcf85\">\n",
       "    <div class=\"colab-df-container\">\n",
       "      <div>\n",
       "<style scoped>\n",
       "    .dataframe tbody tr th:only-of-type {\n",
       "        vertical-align: middle;\n",
       "    }\n",
       "\n",
       "    .dataframe tbody tr th {\n",
       "        vertical-align: top;\n",
       "    }\n",
       "\n",
       "    .dataframe thead th {\n",
       "        text-align: right;\n",
       "    }\n",
       "</style>\n",
       "<table border=\"1\" class=\"dataframe\">\n",
       "  <thead>\n",
       "    <tr style=\"text-align: right;\">\n",
       "      <th></th>\n",
       "      <th>serRace</th>\n",
       "      <th>year</th>\n",
       "      <th>yearRace</th>\n",
       "      <th>finish</th>\n",
       "      <th>start</th>\n",
       "      <th>laps</th>\n",
       "      <th>prize</th>\n",
       "      <th>carsRace</th>\n",
       "      <th>carMake</th>\n",
       "      <th>driver</th>\n",
       "    </tr>\n",
       "  </thead>\n",
       "  <tbody>\n",
       "    <tr>\n",
       "      <th>0</th>\n",
       "      <td>1</td>\n",
       "      <td>1975</td>\n",
       "      <td>1</td>\n",
       "      <td>1</td>\n",
       "      <td>1</td>\n",
       "      <td>191</td>\n",
       "      <td>12035</td>\n",
       "      <td>35</td>\n",
       "      <td>Matador</td>\n",
       "      <td>BobbyAllison</td>\n",
       "    </tr>\n",
       "    <tr>\n",
       "      <th>1</th>\n",
       "      <td>1</td>\n",
       "      <td>1975</td>\n",
       "      <td>1</td>\n",
       "      <td>2</td>\n",
       "      <td>2</td>\n",
       "      <td>191</td>\n",
       "      <td>8135</td>\n",
       "      <td>35</td>\n",
       "      <td>Mercury</td>\n",
       "      <td>DavidPearson</td>\n",
       "    </tr>\n",
       "    <tr>\n",
       "      <th>2</th>\n",
       "      <td>1</td>\n",
       "      <td>1975</td>\n",
       "      <td>1</td>\n",
       "      <td>3</td>\n",
       "      <td>25</td>\n",
       "      <td>184</td>\n",
       "      <td>6535</td>\n",
       "      <td>35</td>\n",
       "      <td>Chevrolet</td>\n",
       "      <td>CecilGordon</td>\n",
       "    </tr>\n",
       "    <tr>\n",
       "      <th>3</th>\n",
       "      <td>1</td>\n",
       "      <td>1975</td>\n",
       "      <td>1</td>\n",
       "      <td>4</td>\n",
       "      <td>27</td>\n",
       "      <td>183</td>\n",
       "      <td>5035</td>\n",
       "      <td>35</td>\n",
       "      <td>Dodge</td>\n",
       "      <td>DaveMarcis</td>\n",
       "    </tr>\n",
       "    <tr>\n",
       "      <th>4</th>\n",
       "      <td>1</td>\n",
       "      <td>1975</td>\n",
       "      <td>1</td>\n",
       "      <td>5</td>\n",
       "      <td>22</td>\n",
       "      <td>178</td>\n",
       "      <td>3835</td>\n",
       "      <td>35</td>\n",
       "      <td>Ford</td>\n",
       "      <td>ElmoLangley</td>\n",
       "    </tr>\n",
       "    <tr>\n",
       "      <th>...</th>\n",
       "      <td>...</td>\n",
       "      <td>...</td>\n",
       "      <td>...</td>\n",
       "      <td>...</td>\n",
       "      <td>...</td>\n",
       "      <td>...</td>\n",
       "      <td>...</td>\n",
       "      <td>...</td>\n",
       "      <td>...</td>\n",
       "      <td>...</td>\n",
       "    </tr>\n",
       "    <tr>\n",
       "      <th>34879</th>\n",
       "      <td>898</td>\n",
       "      <td>2003</td>\n",
       "      <td>36</td>\n",
       "      <td>39</td>\n",
       "      <td>17</td>\n",
       "      <td>89</td>\n",
       "      <td>43150</td>\n",
       "      <td>43</td>\n",
       "      <td>Chevrolet</td>\n",
       "      <td>MikeSkinner</td>\n",
       "    </tr>\n",
       "    <tr>\n",
       "      <th>34880</th>\n",
       "      <td>898</td>\n",
       "      <td>2003</td>\n",
       "      <td>36</td>\n",
       "      <td>40</td>\n",
       "      <td>26</td>\n",
       "      <td>81</td>\n",
       "      <td>78703</td>\n",
       "      <td>43</td>\n",
       "      <td>Dodge</td>\n",
       "      <td>JeffGreen</td>\n",
       "    </tr>\n",
       "    <tr>\n",
       "      <th>34881</th>\n",
       "      <td>898</td>\n",
       "      <td>2003</td>\n",
       "      <td>36</td>\n",
       "      <td>41</td>\n",
       "      <td>23</td>\n",
       "      <td>72</td>\n",
       "      <td>60735</td>\n",
       "      <td>43</td>\n",
       "      <td>Chevrolet</td>\n",
       "      <td>MichaelWaltrip</td>\n",
       "    </tr>\n",
       "    <tr>\n",
       "      <th>34882</th>\n",
       "      <td>898</td>\n",
       "      <td>2003</td>\n",
       "      <td>36</td>\n",
       "      <td>42</td>\n",
       "      <td>22</td>\n",
       "      <td>57</td>\n",
       "      <td>67612</td>\n",
       "      <td>43</td>\n",
       "      <td>Chevrolet</td>\n",
       "      <td>JohnAndretti</td>\n",
       "    </tr>\n",
       "    <tr>\n",
       "      <th>34883</th>\n",
       "      <td>898</td>\n",
       "      <td>2003</td>\n",
       "      <td>36</td>\n",
       "      <td>43</td>\n",
       "      <td>37</td>\n",
       "      <td>28</td>\n",
       "      <td>62665</td>\n",
       "      <td>43</td>\n",
       "      <td>Ford</td>\n",
       "      <td>MattKenseth</td>\n",
       "    </tr>\n",
       "  </tbody>\n",
       "</table>\n",
       "<p>34884 rows × 10 columns</p>\n",
       "</div>\n",
       "      <button class=\"colab-df-convert\" onclick=\"convertToInteractive('df-ae16faf5-84d6-4549-a9b0-61d0e70fcf85')\"\n",
       "              title=\"Convert this dataframe to an interactive table.\"\n",
       "              style=\"display:none;\">\n",
       "        \n",
       "  <svg xmlns=\"http://www.w3.org/2000/svg\" height=\"24px\"viewBox=\"0 0 24 24\"\n",
       "       width=\"24px\">\n",
       "    <path d=\"M0 0h24v24H0V0z\" fill=\"none\"/>\n",
       "    <path d=\"M18.56 5.44l.94 2.06.94-2.06 2.06-.94-2.06-.94-.94-2.06-.94 2.06-2.06.94zm-11 1L8.5 8.5l.94-2.06 2.06-.94-2.06-.94L8.5 2.5l-.94 2.06-2.06.94zm10 10l.94 2.06.94-2.06 2.06-.94-2.06-.94-.94-2.06-.94 2.06-2.06.94z\"/><path d=\"M17.41 7.96l-1.37-1.37c-.4-.4-.92-.59-1.43-.59-.52 0-1.04.2-1.43.59L10.3 9.45l-7.72 7.72c-.78.78-.78 2.05 0 2.83L4 21.41c.39.39.9.59 1.41.59.51 0 1.02-.2 1.41-.59l7.78-7.78 2.81-2.81c.8-.78.8-2.07 0-2.86zM5.41 20L4 18.59l7.72-7.72 1.47 1.35L5.41 20z\"/>\n",
       "  </svg>\n",
       "      </button>\n",
       "      \n",
       "  <style>\n",
       "    .colab-df-container {\n",
       "      display:flex;\n",
       "      flex-wrap:wrap;\n",
       "      gap: 12px;\n",
       "    }\n",
       "\n",
       "    .colab-df-convert {\n",
       "      background-color: #E8F0FE;\n",
       "      border: none;\n",
       "      border-radius: 50%;\n",
       "      cursor: pointer;\n",
       "      display: none;\n",
       "      fill: #1967D2;\n",
       "      height: 32px;\n",
       "      padding: 0 0 0 0;\n",
       "      width: 32px;\n",
       "    }\n",
       "\n",
       "    .colab-df-convert:hover {\n",
       "      background-color: #E2EBFA;\n",
       "      box-shadow: 0px 1px 2px rgba(60, 64, 67, 0.3), 0px 1px 3px 1px rgba(60, 64, 67, 0.15);\n",
       "      fill: #174EA6;\n",
       "    }\n",
       "\n",
       "    [theme=dark] .colab-df-convert {\n",
       "      background-color: #3B4455;\n",
       "      fill: #D2E3FC;\n",
       "    }\n",
       "\n",
       "    [theme=dark] .colab-df-convert:hover {\n",
       "      background-color: #434B5C;\n",
       "      box-shadow: 0px 1px 3px 1px rgba(0, 0, 0, 0.15);\n",
       "      filter: drop-shadow(0px 1px 2px rgba(0, 0, 0, 0.3));\n",
       "      fill: #FFFFFF;\n",
       "    }\n",
       "  </style>\n",
       "\n",
       "      <script>\n",
       "        const buttonEl =\n",
       "          document.querySelector('#df-ae16faf5-84d6-4549-a9b0-61d0e70fcf85 button.colab-df-convert');\n",
       "        buttonEl.style.display =\n",
       "          google.colab.kernel.accessAllowed ? 'block' : 'none';\n",
       "\n",
       "        async function convertToInteractive(key) {\n",
       "          const element = document.querySelector('#df-ae16faf5-84d6-4549-a9b0-61d0e70fcf85');\n",
       "          const dataTable =\n",
       "            await google.colab.kernel.invokeFunction('convertToInteractive',\n",
       "                                                     [key], {});\n",
       "          if (!dataTable) return;\n",
       "\n",
       "          const docLinkHtml = 'Like what you see? Visit the ' +\n",
       "            '<a target=\"_blank\" href=https://colab.research.google.com/notebooks/data_table.ipynb>data table notebook</a>'\n",
       "            + ' to learn more about interactive tables.';\n",
       "          element.innerHTML = '';\n",
       "          dataTable['output_type'] = 'display_data';\n",
       "          await google.colab.output.renderOutput(dataTable, element);\n",
       "          const docLink = document.createElement('div');\n",
       "          docLink.innerHTML = docLinkHtml;\n",
       "          element.appendChild(docLink);\n",
       "        }\n",
       "      </script>\n",
       "    </div>\n",
       "  </div>\n",
       "  "
      ],
      "text/plain": [
       "       serRace  year  yearRace  ...  carsRace    carMake          driver\n",
       "0            1  1975         1  ...        35    Matador    BobbyAllison\n",
       "1            1  1975         1  ...        35    Mercury    DavidPearson\n",
       "2            1  1975         1  ...        35  Chevrolet     CecilGordon\n",
       "3            1  1975         1  ...        35      Dodge      DaveMarcis\n",
       "4            1  1975         1  ...        35       Ford     ElmoLangley\n",
       "...        ...   ...       ...  ...       ...        ...             ...\n",
       "34879      898  2003        36  ...        43  Chevrolet     MikeSkinner\n",
       "34880      898  2003        36  ...        43      Dodge       JeffGreen\n",
       "34881      898  2003        36  ...        43  Chevrolet  MichaelWaltrip\n",
       "34882      898  2003        36  ...        43  Chevrolet    JohnAndretti\n",
       "34883      898  2003        36  ...        43       Ford     MattKenseth\n",
       "\n",
       "[34884 rows x 10 columns]"
      ]
     },
     "execution_count": 27,
     "metadata": {},
     "output_type": "execute_result"
    }
   ],
   "source": [
    "#import pandas as pd\n",
    "#nascard = pd.read_csv(\"nascard.csv\")\n",
    "#nascard"
   ]
  },
  {
   "cell_type": "code",
   "execution_count": null,
   "metadata": {
    "id": "infKHoFAqj0N"
   },
   "outputs": [],
   "source": []
  }
 ],
 "metadata": {
  "colab": {
   "collapsed_sections": [],
   "name": "Copy of PT_DS11_EDA_Assignment_MG-1.ipynb",
   "provenance": []
  },
  "kernelspec": {
   "display_name": "Python 3 (ipykernel)",
   "language": "python",
   "name": "python3"
  },
  "language_info": {
   "codemirror_mode": {
    "name": "ipython",
    "version": 3
   },
   "file_extension": ".py",
   "mimetype": "text/x-python",
   "name": "python",
   "nbconvert_exporter": "python",
   "pygments_lexer": "ipython3",
   "version": "3.9.7"
  }
 },
 "nbformat": 4,
 "nbformat_minor": 1
}
