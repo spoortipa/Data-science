{
 "cells": [
  {
   "cell_type": "markdown",
   "metadata": {
    "id": "Y8ZT8cy_BqFy"
   },
   "source": [
    "## Autograded Notebook (Canvas & CodeGrade)\n",
    "\n",
    "This notebook will be automatically graded. It is designed to test your answers and award points for the correct answers. Following the instructions for each Task carefully.\n",
    "\n",
    "### Instructions\n",
    "\n",
    "* **Download this notebook** as you would any other ipynb file\n",
    "* **Upload** to Google Colab or work locally (if you have that set-up)\n",
    "* **Delete `raise NotImplementedError()`**\n",
    "* Write your code in the `# YOUR CODE HERE` space\n",
    "* **Execute** the Test cells that contain `assert` statements - these help you check your work (others contain hidden tests that will be checked when you submit through Canvas)\n",
    "* **Save** your notebook when you are finished\n",
    "* **Download** as a `ipynb` file (if working in Colab)\n",
    "* **Upload** your complete notebook to Canvas (there will be additional instructions in Slack and/or Canvas)"
   ]
  },
  {
   "cell_type": "markdown",
   "metadata": {
    "id": "j4EFYnn4MixR"
   },
   "source": [
    "# Pixeltests Data Science - Unit 1 Sprint 1\n",
    "\n",
    "## Sprint Challenge: Data Wrangling and Storytelling\n"
   ]
  },
  {
   "cell_type": "markdown",
   "metadata": {
    "id": "qSvL3CeTFk9F"
   },
   "source": [
    "## Use the following information to complete Tasks 1 - 12\n",
    "\n",
    "### Notebook points total: 12\n",
    "\n",
    "In this Sprint Challenge you will first \"wrangle\" some data from [Gapminder](https://www.gapminder.org/about-gapminder/), a Swedish non-profit co-founded by Hans Rosling. \"Gapminder produces free teaching resources making the world understandable based on reliable statistics.\"\n",
    "- [Cell phones (total), by country and year](https://raw.githubusercontent.com/open-numbers/ddf--gapminder--systema_globalis/master/countries-etc-datapoints/ddf--datapoints--cell_phones_total--by--geo--time.csv)\n",
    "- [Population (total), by country and year](https://raw.githubusercontent.com/open-numbers/ddf--gapminder--systema_globalis/master/countries-etc-datapoints/ddf--datapoints--population_total--by--geo--time.csv)\n",
    "- [Geo country codes](https://github.com/open-numbers/ddf--gapminder--systema_globalis/blob/master/ddf--entities--geo--country.csv)\n",
    "\n",
    "These two links have everything you need to successfully complete the first part of this sprint challenge.\n",
    "- [Pandas documentation: Working with Text Data](https://pandas.pydata.org/pandas-docs/stable/text.html) (one question)\n",
    "- [Pandas Cheat Sheet](https://github.com/pandas-dev/pandas/blob/master/doc/cheatsheet/Pandas_Cheat_Sheet.pdf) (everything else)\n"
   ]
  },
  {
   "cell_type": "markdown",
   "metadata": {
    "id": "0ZklksziMixS"
   },
   "source": [
    "**Task 1** - Load and print the cell phone data.  Pandas and numpy import statements have been included for you.\n",
    "\n",
    "* load your CSV file found at `cell_phones_url` into a DataFrame named `cell_phones`\n",
    "* print the top 5 records of `cell_phones`\n"
   ]
  },
  {
   "cell_type": "code",
   "execution_count": 9,
   "metadata": {
    "colab": {
     "base_uri": "https://localhost:8080/",
     "height": 197
    },
    "deletable": false,
    "id": "FFO8QNJ7MixS",
    "nbgrader": {
     "cell_type": "code",
     "checksum": "1632d7e0d10fad859c18f7a2fd31b76d",
     "grade": false,
     "grade_id": "cell-6f16afb9d271f949",
     "locked": false,
     "schema_version": 3,
     "solution": true,
     "task": false
    },
    "outputId": "0a5fc474-0278-4868-e839-34615ea72d3b"
   },
   "outputs": [
    {
     "data": {
      "text/html": [
       "<div>\n",
       "<style scoped>\n",
       "    .dataframe tbody tr th:only-of-type {\n",
       "        vertical-align: middle;\n",
       "    }\n",
       "\n",
       "    .dataframe tbody tr th {\n",
       "        vertical-align: top;\n",
       "    }\n",
       "\n",
       "    .dataframe thead th {\n",
       "        text-align: right;\n",
       "    }\n",
       "</style>\n",
       "<table border=\"1\" class=\"dataframe\">\n",
       "  <thead>\n",
       "    <tr style=\"text-align: right;\">\n",
       "      <th></th>\n",
       "      <th>geo</th>\n",
       "      <th>time</th>\n",
       "      <th>cell_phones_total</th>\n",
       "    </tr>\n",
       "  </thead>\n",
       "  <tbody>\n",
       "    <tr>\n",
       "      <th>0</th>\n",
       "      <td>abw</td>\n",
       "      <td>1960</td>\n",
       "      <td>0.0</td>\n",
       "    </tr>\n",
       "    <tr>\n",
       "      <th>1</th>\n",
       "      <td>abw</td>\n",
       "      <td>1965</td>\n",
       "      <td>0.0</td>\n",
       "    </tr>\n",
       "    <tr>\n",
       "      <th>2</th>\n",
       "      <td>abw</td>\n",
       "      <td>1970</td>\n",
       "      <td>0.0</td>\n",
       "    </tr>\n",
       "    <tr>\n",
       "      <th>3</th>\n",
       "      <td>abw</td>\n",
       "      <td>1975</td>\n",
       "      <td>0.0</td>\n",
       "    </tr>\n",
       "    <tr>\n",
       "      <th>4</th>\n",
       "      <td>abw</td>\n",
       "      <td>1976</td>\n",
       "      <td>0.0</td>\n",
       "    </tr>\n",
       "  </tbody>\n",
       "</table>\n",
       "</div>"
      ],
      "text/plain": [
       "   geo  time  cell_phones_total\n",
       "0  abw  1960                0.0\n",
       "1  abw  1965                0.0\n",
       "2  abw  1970                0.0\n",
       "3  abw  1975                0.0\n",
       "4  abw  1976                0.0"
      ]
     },
     "execution_count": 9,
     "metadata": {},
     "output_type": "execute_result"
    }
   ],
   "source": [
    "# Task 1\n",
    "\n",
    "# Imports \n",
    "import pandas as pd\n",
    "import numpy as np\n",
    "\n",
    "cell_phones_url = 'https://raw.githubusercontent.com/pixeltests/datasets/main/cell_phones.csv'\n",
    "\n",
    "# Load the dataframe and print the top 5 rows\n",
    "\n",
    "# YOUR CODE HERE\n",
    "cell_phones = pd.read_csv(cell_phones_url)\n",
    "cell_phones.head()\n"
   ]
  },
  {
   "cell_type": "markdown",
   "metadata": {
    "id": "ymCLkZMJMixT"
   },
   "source": [
    "**Task 1 Test**"
   ]
  },
  {
   "cell_type": "code",
   "execution_count": 10,
   "metadata": {
    "deletable": false,
    "editable": false,
    "id": "btcEJXxCMixT",
    "nbgrader": {
     "cell_type": "code",
     "checksum": "cd3795c084d4d631eeff1d62b4cf1580",
     "grade": true,
     "grade_id": "cell-226f7bf8e9ea24f9",
     "locked": true,
     "points": 1,
     "schema_version": 3,
     "solution": false,
     "task": false
    }
   },
   "outputs": [],
   "source": [
    "# Task 1 - Test\n",
    "\n",
    "assert isinstance(cell_phones, pd.DataFrame), 'Have you created a DataFrame named `cell_phones`?'\n",
    "assert len(cell_phones) == 9574"
   ]
  },
  {
   "cell_type": "markdown",
   "metadata": {
    "id": "9YPW16tmT2J_"
   },
   "source": [
    "**Task 2** - Load and print the population data.  \n",
    "\n",
    "* load the CSV file found at `population_url` into a DataFrame named `population`\n",
    "* print the top 5 records of `population`\n"
   ]
  },
  {
   "cell_type": "code",
   "execution_count": 11,
   "metadata": {
    "deletable": false,
    "id": "SNWpDAvyUYa2",
    "nbgrader": {
     "cell_type": "code",
     "checksum": "2eab1821adf0220c706ecf2382fcab3e",
     "grade": false,
     "grade_id": "cell-561c2d59728188a9",
     "locked": false,
     "schema_version": 3,
     "solution": true,
     "task": false
    }
   },
   "outputs": [
    {
     "data": {
      "text/html": [
       "<div>\n",
       "<style scoped>\n",
       "    .dataframe tbody tr th:only-of-type {\n",
       "        vertical-align: middle;\n",
       "    }\n",
       "\n",
       "    .dataframe tbody tr th {\n",
       "        vertical-align: top;\n",
       "    }\n",
       "\n",
       "    .dataframe thead th {\n",
       "        text-align: right;\n",
       "    }\n",
       "</style>\n",
       "<table border=\"1\" class=\"dataframe\">\n",
       "  <thead>\n",
       "    <tr style=\"text-align: right;\">\n",
       "      <th></th>\n",
       "      <th>geo</th>\n",
       "      <th>time</th>\n",
       "      <th>population_total</th>\n",
       "    </tr>\n",
       "  </thead>\n",
       "  <tbody>\n",
       "    <tr>\n",
       "      <th>0</th>\n",
       "      <td>afg</td>\n",
       "      <td>1800</td>\n",
       "      <td>3280000</td>\n",
       "    </tr>\n",
       "    <tr>\n",
       "      <th>1</th>\n",
       "      <td>afg</td>\n",
       "      <td>1801</td>\n",
       "      <td>3280000</td>\n",
       "    </tr>\n",
       "    <tr>\n",
       "      <th>2</th>\n",
       "      <td>afg</td>\n",
       "      <td>1802</td>\n",
       "      <td>3280000</td>\n",
       "    </tr>\n",
       "    <tr>\n",
       "      <th>3</th>\n",
       "      <td>afg</td>\n",
       "      <td>1803</td>\n",
       "      <td>3280000</td>\n",
       "    </tr>\n",
       "    <tr>\n",
       "      <th>4</th>\n",
       "      <td>afg</td>\n",
       "      <td>1804</td>\n",
       "      <td>3280000</td>\n",
       "    </tr>\n",
       "  </tbody>\n",
       "</table>\n",
       "</div>"
      ],
      "text/plain": [
       "   geo  time  population_total\n",
       "0  afg  1800           3280000\n",
       "1  afg  1801           3280000\n",
       "2  afg  1802           3280000\n",
       "3  afg  1803           3280000\n",
       "4  afg  1804           3280000"
      ]
     },
     "execution_count": 11,
     "metadata": {},
     "output_type": "execute_result"
    }
   ],
   "source": [
    "# Task 2\n",
    "\n",
    "population_url = 'https://raw.githubusercontent.com/pixeltests/datasets/main/population.csv'\n",
    "\n",
    "# Load the dataframe and print the first 5 records\n",
    "\n",
    "# YOUR CODE HERE\n",
    "population = pd.read_csv(population_url)\n",
    "population.head()"
   ]
  },
  {
   "cell_type": "markdown",
   "metadata": {
    "id": "RDOcC0FdVjIz"
   },
   "source": [
    "**Task 2 Test**"
   ]
  },
  {
   "cell_type": "code",
   "execution_count": 12,
   "metadata": {
    "deletable": false,
    "editable": false,
    "id": "jcaZ5W5cVjI_",
    "nbgrader": {
     "cell_type": "code",
     "checksum": "2858e90cb4132ad3e6063660a7e38469",
     "grade": true,
     "grade_id": "cell-59d01cd695becd74",
     "locked": true,
     "points": 1,
     "schema_version": 3,
     "solution": false,
     "task": false
    }
   },
   "outputs": [],
   "source": [
    "# Task 2 - Test\n",
    "\n",
    "assert isinstance(population, pd.DataFrame), 'Have you created a DataFrame named `population`?'\n",
    "assert len(population) == 59297\n"
   ]
  },
  {
   "cell_type": "markdown",
   "metadata": {
    "id": "9acXXTiEV5uJ"
   },
   "source": [
    "**Task 3** - Load and print the geo country codes data.  \n",
    "\n",
    "* load the CSV file found at `geo_codes_url` into a DataFrame named `geo_codes`\n",
    "* print the top 5 records of `geo_codes`\n"
   ]
  },
  {
   "cell_type": "code",
   "execution_count": 13,
   "metadata": {
    "deletable": false,
    "id": "Obm4p8WXV5uJ",
    "nbgrader": {
     "cell_type": "code",
     "checksum": "c6d583bee0966dc2f01f62c6086f3ed3",
     "grade": false,
     "grade_id": "cell-eb4d290384535503",
     "locked": false,
     "schema_version": 3,
     "solution": true,
     "task": false
    }
   },
   "outputs": [
    {
     "data": {
      "text/html": [
       "<div>\n",
       "<style scoped>\n",
       "    .dataframe tbody tr th:only-of-type {\n",
       "        vertical-align: middle;\n",
       "    }\n",
       "\n",
       "    .dataframe tbody tr th {\n",
       "        vertical-align: top;\n",
       "    }\n",
       "\n",
       "    .dataframe thead th {\n",
       "        text-align: right;\n",
       "    }\n",
       "</style>\n",
       "<table border=\"1\" class=\"dataframe\">\n",
       "  <thead>\n",
       "    <tr style=\"text-align: right;\">\n",
       "      <th></th>\n",
       "      <th>geo</th>\n",
       "      <th>g77_and_oecd_countries</th>\n",
       "      <th>income_3groups</th>\n",
       "      <th>income_groups</th>\n",
       "      <th>is--country</th>\n",
       "      <th>iso3166_1_alpha2</th>\n",
       "      <th>iso3166_1_alpha3</th>\n",
       "      <th>iso3166_1_numeric</th>\n",
       "      <th>iso3166_2</th>\n",
       "      <th>landlocked</th>\n",
       "      <th>...</th>\n",
       "      <th>longitude</th>\n",
       "      <th>main_religion_2008</th>\n",
       "      <th>country</th>\n",
       "      <th>un_sdg_ldc</th>\n",
       "      <th>un_sdg_region</th>\n",
       "      <th>un_state</th>\n",
       "      <th>unicef_region</th>\n",
       "      <th>unicode_region_subtag</th>\n",
       "      <th>world_4region</th>\n",
       "      <th>world_6region</th>\n",
       "    </tr>\n",
       "  </thead>\n",
       "  <tbody>\n",
       "    <tr>\n",
       "      <th>0</th>\n",
       "      <td>abkh</td>\n",
       "      <td>others</td>\n",
       "      <td>NaN</td>\n",
       "      <td>NaN</td>\n",
       "      <td>True</td>\n",
       "      <td>NaN</td>\n",
       "      <td>NaN</td>\n",
       "      <td>NaN</td>\n",
       "      <td>NaN</td>\n",
       "      <td>NaN</td>\n",
       "      <td>...</td>\n",
       "      <td>NaN</td>\n",
       "      <td>NaN</td>\n",
       "      <td>Abkhazia</td>\n",
       "      <td>NaN</td>\n",
       "      <td>NaN</td>\n",
       "      <td>False</td>\n",
       "      <td>NaN</td>\n",
       "      <td>NaN</td>\n",
       "      <td>europe</td>\n",
       "      <td>europe_central_asia</td>\n",
       "    </tr>\n",
       "    <tr>\n",
       "      <th>1</th>\n",
       "      <td>abw</td>\n",
       "      <td>others</td>\n",
       "      <td>high_income</td>\n",
       "      <td>high_income</td>\n",
       "      <td>True</td>\n",
       "      <td>AW</td>\n",
       "      <td>ABW</td>\n",
       "      <td>533.0</td>\n",
       "      <td>NaN</td>\n",
       "      <td>coastline</td>\n",
       "      <td>...</td>\n",
       "      <td>-69.96667</td>\n",
       "      <td>christian</td>\n",
       "      <td>Aruba</td>\n",
       "      <td>un_not_least_developed</td>\n",
       "      <td>un_latin_america_and_the_caribbean</td>\n",
       "      <td>False</td>\n",
       "      <td>NaN</td>\n",
       "      <td>AW</td>\n",
       "      <td>americas</td>\n",
       "      <td>america</td>\n",
       "    </tr>\n",
       "    <tr>\n",
       "      <th>2</th>\n",
       "      <td>afg</td>\n",
       "      <td>g77</td>\n",
       "      <td>low_income</td>\n",
       "      <td>low_income</td>\n",
       "      <td>True</td>\n",
       "      <td>AF</td>\n",
       "      <td>AFG</td>\n",
       "      <td>4.0</td>\n",
       "      <td>NaN</td>\n",
       "      <td>landlocked</td>\n",
       "      <td>...</td>\n",
       "      <td>66.00000</td>\n",
       "      <td>muslim</td>\n",
       "      <td>Afghanistan</td>\n",
       "      <td>un_least_developed</td>\n",
       "      <td>un_central_and_southern_asia</td>\n",
       "      <td>True</td>\n",
       "      <td>sa</td>\n",
       "      <td>AF</td>\n",
       "      <td>asia</td>\n",
       "      <td>south_asia</td>\n",
       "    </tr>\n",
       "    <tr>\n",
       "      <th>3</th>\n",
       "      <td>ago</td>\n",
       "      <td>g77</td>\n",
       "      <td>middle_income</td>\n",
       "      <td>lower_middle_income</td>\n",
       "      <td>True</td>\n",
       "      <td>AO</td>\n",
       "      <td>AGO</td>\n",
       "      <td>24.0</td>\n",
       "      <td>NaN</td>\n",
       "      <td>coastline</td>\n",
       "      <td>...</td>\n",
       "      <td>18.50000</td>\n",
       "      <td>christian</td>\n",
       "      <td>Angola</td>\n",
       "      <td>un_least_developed</td>\n",
       "      <td>un_sub_saharan_africa</td>\n",
       "      <td>True</td>\n",
       "      <td>ssa</td>\n",
       "      <td>AO</td>\n",
       "      <td>africa</td>\n",
       "      <td>sub_saharan_africa</td>\n",
       "    </tr>\n",
       "    <tr>\n",
       "      <th>4</th>\n",
       "      <td>aia</td>\n",
       "      <td>others</td>\n",
       "      <td>NaN</td>\n",
       "      <td>NaN</td>\n",
       "      <td>True</td>\n",
       "      <td>AI</td>\n",
       "      <td>AIA</td>\n",
       "      <td>660.0</td>\n",
       "      <td>NaN</td>\n",
       "      <td>coastline</td>\n",
       "      <td>...</td>\n",
       "      <td>-63.05000</td>\n",
       "      <td>christian</td>\n",
       "      <td>Anguilla</td>\n",
       "      <td>un_not_least_developed</td>\n",
       "      <td>un_latin_america_and_the_caribbean</td>\n",
       "      <td>False</td>\n",
       "      <td>NaN</td>\n",
       "      <td>AI</td>\n",
       "      <td>americas</td>\n",
       "      <td>america</td>\n",
       "    </tr>\n",
       "  </tbody>\n",
       "</table>\n",
       "<p>5 rows × 21 columns</p>\n",
       "</div>"
      ],
      "text/plain": [
       "    geo g77_and_oecd_countries income_3groups        income_groups  \\\n",
       "0  abkh                 others            NaN                  NaN   \n",
       "1   abw                 others    high_income          high_income   \n",
       "2   afg                    g77     low_income           low_income   \n",
       "3   ago                    g77  middle_income  lower_middle_income   \n",
       "4   aia                 others            NaN                  NaN   \n",
       "\n",
       "   is--country iso3166_1_alpha2 iso3166_1_alpha3  iso3166_1_numeric iso3166_2  \\\n",
       "0         True              NaN              NaN                NaN       NaN   \n",
       "1         True               AW              ABW              533.0       NaN   \n",
       "2         True               AF              AFG                4.0       NaN   \n",
       "3         True               AO              AGO               24.0       NaN   \n",
       "4         True               AI              AIA              660.0       NaN   \n",
       "\n",
       "   landlocked  ...  longitude  main_religion_2008      country  \\\n",
       "0         NaN  ...        NaN                 NaN     Abkhazia   \n",
       "1   coastline  ...  -69.96667           christian        Aruba   \n",
       "2  landlocked  ...   66.00000              muslim  Afghanistan   \n",
       "3   coastline  ...   18.50000           christian       Angola   \n",
       "4   coastline  ...  -63.05000           christian     Anguilla   \n",
       "\n",
       "               un_sdg_ldc                       un_sdg_region un_state  \\\n",
       "0                     NaN                                 NaN    False   \n",
       "1  un_not_least_developed  un_latin_america_and_the_caribbean    False   \n",
       "2      un_least_developed        un_central_and_southern_asia     True   \n",
       "3      un_least_developed               un_sub_saharan_africa     True   \n",
       "4  un_not_least_developed  un_latin_america_and_the_caribbean    False   \n",
       "\n",
       "   unicef_region unicode_region_subtag world_4region        world_6region  \n",
       "0            NaN                   NaN        europe  europe_central_asia  \n",
       "1            NaN                    AW      americas              america  \n",
       "2             sa                    AF          asia           south_asia  \n",
       "3            ssa                    AO        africa   sub_saharan_africa  \n",
       "4            NaN                    AI      americas              america  \n",
       "\n",
       "[5 rows x 21 columns]"
      ]
     },
     "execution_count": 13,
     "metadata": {},
     "output_type": "execute_result"
    }
   ],
   "source": [
    "# Task 3\n",
    "\n",
    "geo_codes_url = 'https://raw.githubusercontent.com/pixeltests/datasets/main/geo_country_codes.csv'\n",
    "\n",
    "# Load the dataframe and print out the first 5 records\n",
    "\n",
    "# YOUR CODE HERE\n",
    "geo_codes = pd.read_csv(geo_codes_url)\n",
    "geo_codes.head()"
   ]
  },
  {
   "cell_type": "markdown",
   "metadata": {
    "id": "_WR-4MbmV5uK"
   },
   "source": [
    "**Task 3 Test**"
   ]
  },
  {
   "cell_type": "code",
   "execution_count": 14,
   "metadata": {
    "deletable": false,
    "editable": false,
    "id": "Z3Tza5NWV5uK",
    "nbgrader": {
     "cell_type": "code",
     "checksum": "78137b984fce2d85c696c65078dfd05d",
     "grade": true,
     "grade_id": "cell-39240405659c0c19",
     "locked": true,
     "points": 1,
     "schema_version": 3,
     "solution": false,
     "task": false
    }
   },
   "outputs": [],
   "source": [
    "# Task 3 - Test\n",
    "\n",
    "assert geo_codes is not None, 'Have you created a DataFrame named `geo_codes`?'\n",
    "assert len(geo_codes) == 273\n"
   ]
  },
  {
   "cell_type": "markdown",
   "metadata": {
    "id": "5DbACESjYxpV"
   },
   "source": [
    "**Task 4** - Check for missing values\n",
    "\n",
    "Let's check for missing values in each of these DataFrames: `cell_phones`, `population` and `geo_codes`\n",
    "\n",
    "* Check for missing values in the following DataFrames:\n",
    "    * assign the total number of missing values in `cell_phones` to the variable `cell_phones_missing`\n",
    "    * assign the total number of missing values in `population` to the variable `population_missing`\n",
    "    * assign the total number of missing values in `geo_codes` to the variable `geo_codes_missing` (Hint: you will need to do a sum of a sum here - `.sum().sum()`)"
   ]
  },
  {
   "cell_type": "code",
   "execution_count": 26,
   "metadata": {
    "deletable": false,
    "id": "SwmSvUySJjXc",
    "nbgrader": {
     "cell_type": "code",
     "checksum": "b4ea8f9b909a45099743efb4879697c7",
     "grade": false,
     "grade_id": "cell-9426cd5765574e07",
     "locked": false,
     "schema_version": 3,
     "solution": true,
     "task": false
    }
   },
   "outputs": [
    {
     "data": {
      "text/plain": [
       "781"
      ]
     },
     "execution_count": 26,
     "metadata": {},
     "output_type": "execute_result"
    }
   ],
   "source": [
    "# Task 4\n",
    "\n",
    "# Check for missing data in each of the DataFrames\n",
    "\n",
    "# YOUR CODE HERE\n",
    "cell_phones_missing = cell_phones.isnull().sum().sum()\n",
    "population_missing = population.isnull().sum().sum()\n",
    "geo_codes_missing = geo_codes.isnull().sum().sum()\n",
    "geo_codes_missing\n"
   ]
  },
  {
   "cell_type": "markdown",
   "metadata": {
    "id": "cREZV7g0aLGC"
   },
   "source": [
    "**Task 4 Test**"
   ]
  },
  {
   "cell_type": "code",
   "execution_count": 27,
   "metadata": {
    "deletable": false,
    "editable": false,
    "id": "eaQwM15IaLGD",
    "nbgrader": {
     "cell_type": "code",
     "checksum": "e03a86fcc6bfd5f48fa501f9d29870e7",
     "grade": true,
     "grade_id": "cell-cf6ab3b4b1e8afc1",
     "locked": true,
     "points": 1,
     "schema_version": 3,
     "solution": false,
     "task": false
    }
   },
   "outputs": [],
   "source": [
    "# Task 4 - Test\n",
    "\n",
    "if geo_codes_missing == 21: print('ERROR: Make sure to use a sum of a sum for the missing geo codes!')  \n",
    "\n",
    "# Hidden tests - you will see the results when you submit to Canvas"
   ]
  },
  {
   "cell_type": "markdown",
   "metadata": {
    "id": "P54itLGveF5p"
   },
   "source": [
    "**Task 5** - Merge the `cell_phones` and `population` DataFrames.\n",
    "\n",
    "* Merge the `cell_phones` and `population` dataframes with an **inner** merge on `geo` and `time`\n",
    "* Call the resulting dataframe `cell_phone_population`"
   ]
  },
  {
   "cell_type": "code",
   "execution_count": 31,
   "metadata": {
    "deletable": false,
    "id": "KL_NCL7heF51",
    "nbgrader": {
     "cell_type": "code",
     "checksum": "01f359418133f448ed26182a8d16205f",
     "grade": false,
     "grade_id": "cell-decaebaa844aa3a5",
     "locked": false,
     "schema_version": 3,
     "solution": true,
     "task": false
    }
   },
   "outputs": [
    {
     "data": {
      "text/html": [
       "<div>\n",
       "<style scoped>\n",
       "    .dataframe tbody tr th:only-of-type {\n",
       "        vertical-align: middle;\n",
       "    }\n",
       "\n",
       "    .dataframe tbody tr th {\n",
       "        vertical-align: top;\n",
       "    }\n",
       "\n",
       "    .dataframe thead th {\n",
       "        text-align: right;\n",
       "    }\n",
       "</style>\n",
       "<table border=\"1\" class=\"dataframe\">\n",
       "  <thead>\n",
       "    <tr style=\"text-align: right;\">\n",
       "      <th></th>\n",
       "      <th>geo</th>\n",
       "      <th>time</th>\n",
       "      <th>cell_phones_total</th>\n",
       "      <th>population_total</th>\n",
       "    </tr>\n",
       "  </thead>\n",
       "  <tbody>\n",
       "    <tr>\n",
       "      <th>0</th>\n",
       "      <td>afg</td>\n",
       "      <td>1960</td>\n",
       "      <td>0.0</td>\n",
       "      <td>8996967</td>\n",
       "    </tr>\n",
       "    <tr>\n",
       "      <th>1</th>\n",
       "      <td>afg</td>\n",
       "      <td>1965</td>\n",
       "      <td>0.0</td>\n",
       "      <td>9956318</td>\n",
       "    </tr>\n",
       "    <tr>\n",
       "      <th>2</th>\n",
       "      <td>afg</td>\n",
       "      <td>1970</td>\n",
       "      <td>0.0</td>\n",
       "      <td>11173654</td>\n",
       "    </tr>\n",
       "    <tr>\n",
       "      <th>3</th>\n",
       "      <td>afg</td>\n",
       "      <td>1975</td>\n",
       "      <td>0.0</td>\n",
       "      <td>12689164</td>\n",
       "    </tr>\n",
       "    <tr>\n",
       "      <th>4</th>\n",
       "      <td>afg</td>\n",
       "      <td>1976</td>\n",
       "      <td>0.0</td>\n",
       "      <td>12943093</td>\n",
       "    </tr>\n",
       "    <tr>\n",
       "      <th>...</th>\n",
       "      <td>...</td>\n",
       "      <td>...</td>\n",
       "      <td>...</td>\n",
       "      <td>...</td>\n",
       "    </tr>\n",
       "    <tr>\n",
       "      <th>8925</th>\n",
       "      <td>zwe</td>\n",
       "      <td>2015</td>\n",
       "      <td>12757410.0</td>\n",
       "      <td>13814642</td>\n",
       "    </tr>\n",
       "    <tr>\n",
       "      <th>8926</th>\n",
       "      <td>zwe</td>\n",
       "      <td>2016</td>\n",
       "      <td>12878926.0</td>\n",
       "      <td>14030338</td>\n",
       "    </tr>\n",
       "    <tr>\n",
       "      <th>8927</th>\n",
       "      <td>zwe</td>\n",
       "      <td>2017</td>\n",
       "      <td>14092104.0</td>\n",
       "      <td>14236599</td>\n",
       "    </tr>\n",
       "    <tr>\n",
       "      <th>8928</th>\n",
       "      <td>zwe</td>\n",
       "      <td>2018</td>\n",
       "      <td>12908992.0</td>\n",
       "      <td>14438812</td>\n",
       "    </tr>\n",
       "    <tr>\n",
       "      <th>8929</th>\n",
       "      <td>zwe</td>\n",
       "      <td>2019</td>\n",
       "      <td>13195902.0</td>\n",
       "      <td>14645473</td>\n",
       "    </tr>\n",
       "  </tbody>\n",
       "</table>\n",
       "<p>8930 rows × 4 columns</p>\n",
       "</div>"
      ],
      "text/plain": [
       "      geo  time  cell_phones_total  population_total\n",
       "0     afg  1960                0.0           8996967\n",
       "1     afg  1965                0.0           9956318\n",
       "2     afg  1970                0.0          11173654\n",
       "3     afg  1975                0.0          12689164\n",
       "4     afg  1976                0.0          12943093\n",
       "...   ...   ...                ...               ...\n",
       "8925  zwe  2015         12757410.0          13814642\n",
       "8926  zwe  2016         12878926.0          14030338\n",
       "8927  zwe  2017         14092104.0          14236599\n",
       "8928  zwe  2018         12908992.0          14438812\n",
       "8929  zwe  2019         13195902.0          14645473\n",
       "\n",
       "[8930 rows x 4 columns]"
      ]
     },
     "execution_count": 31,
     "metadata": {},
     "output_type": "execute_result"
    }
   ],
   "source": [
    "# Task 5\n",
    "\n",
    "# Merge the cell_phones and population dataframes\n",
    "\n",
    "# YOUR CODE HERE\n",
    "cell_phone_population = pd.merge(cell_phones, population, how='inner', on=['geo','time'])\n",
    "cell_phone_population"
   ]
  },
  {
   "cell_type": "markdown",
   "metadata": {
    "id": "9vFSumbkfqr_"
   },
   "source": [
    "**Task 5 Test**"
   ]
  },
  {
   "cell_type": "code",
   "execution_count": 32,
   "metadata": {
    "deletable": false,
    "editable": false,
    "id": "85-p_0UGfkZJ",
    "nbgrader": {
     "cell_type": "code",
     "checksum": "7a6362a6a1f740d69ce8dd46909a8f60",
     "grade": true,
     "grade_id": "cell-dd2473ea91f15f30",
     "locked": true,
     "points": 1,
     "schema_version": 3,
     "solution": false,
     "task": false
    }
   },
   "outputs": [],
   "source": [
    "# Task 5 - Test\n",
    "\n",
    "assert cell_phone_population is not None, 'Have you merged created a DataFrame named cell_phone_population?'\n",
    "assert len(cell_phone_population) == 8930\n"
   ]
  },
  {
   "cell_type": "markdown",
   "metadata": {
    "id": "oByYSkC7hB05"
   },
   "source": [
    "**Task 6** - Merge the `cell_phone_population` and `geo_codes` DataFrames\n",
    "\n",
    "* Merge the `cell_phone_population` and `geo_codes` DataFrames with an inner merge on `geo`\n",
    "* **Only merge in the `country` and `geo` columns from `geo_codes`**\n",
    "* Call the resulting DataFrame `geo_cell_phone_population`\n"
   ]
  },
  {
   "cell_type": "code",
   "execution_count": 54,
   "metadata": {
    "deletable": false,
    "id": "NcO8-JpQhB1F",
    "nbgrader": {
     "cell_type": "code",
     "checksum": "2ab46a540b8b1d7861195ae9d24c5c20",
     "grade": false,
     "grade_id": "cell-1ce5a2360ee6fd20",
     "locked": false,
     "schema_version": 3,
     "solution": true,
     "task": false
    }
   },
   "outputs": [],
   "source": [
    "# Task 6\n",
    "\n",
    "# Merge the cell_phone_population and geo_codes dataframes\n",
    "# Only include the country and geo columns from geo_codes\n",
    "\n",
    "# YOUR CODE HERE\n",
    "geo_cell_phone_population = pd.merge(cell_phone_population, geo_codes[['geo','country']], how='inner', on=['geo'])\n"
   ]
  },
  {
   "cell_type": "code",
   "execution_count": 58,
   "metadata": {
    "id": "qYY65XKkBqF3"
   },
   "outputs": [
    {
     "data": {
      "text/html": [
       "<div>\n",
       "<style scoped>\n",
       "    .dataframe tbody tr th:only-of-type {\n",
       "        vertical-align: middle;\n",
       "    }\n",
       "\n",
       "    .dataframe tbody tr th {\n",
       "        vertical-align: top;\n",
       "    }\n",
       "\n",
       "    .dataframe thead th {\n",
       "        text-align: right;\n",
       "    }\n",
       "</style>\n",
       "<table border=\"1\" class=\"dataframe\">\n",
       "  <thead>\n",
       "    <tr style=\"text-align: right;\">\n",
       "      <th></th>\n",
       "      <th>geo</th>\n",
       "      <th>time</th>\n",
       "      <th>cell_phones_total</th>\n",
       "      <th>population_total</th>\n",
       "      <th>country</th>\n",
       "    </tr>\n",
       "  </thead>\n",
       "  <tbody>\n",
       "    <tr>\n",
       "      <th>0</th>\n",
       "      <td>afg</td>\n",
       "      <td>1960</td>\n",
       "      <td>0.0</td>\n",
       "      <td>8996967</td>\n",
       "      <td>Afghanistan</td>\n",
       "    </tr>\n",
       "    <tr>\n",
       "      <th>1</th>\n",
       "      <td>afg</td>\n",
       "      <td>1965</td>\n",
       "      <td>0.0</td>\n",
       "      <td>9956318</td>\n",
       "      <td>Afghanistan</td>\n",
       "    </tr>\n",
       "    <tr>\n",
       "      <th>2</th>\n",
       "      <td>afg</td>\n",
       "      <td>1970</td>\n",
       "      <td>0.0</td>\n",
       "      <td>11173654</td>\n",
       "      <td>Afghanistan</td>\n",
       "    </tr>\n",
       "    <tr>\n",
       "      <th>3</th>\n",
       "      <td>afg</td>\n",
       "      <td>1975</td>\n",
       "      <td>0.0</td>\n",
       "      <td>12689164</td>\n",
       "      <td>Afghanistan</td>\n",
       "    </tr>\n",
       "    <tr>\n",
       "      <th>4</th>\n",
       "      <td>afg</td>\n",
       "      <td>1976</td>\n",
       "      <td>0.0</td>\n",
       "      <td>12943093</td>\n",
       "      <td>Afghanistan</td>\n",
       "    </tr>\n",
       "  </tbody>\n",
       "</table>\n",
       "</div>"
      ],
      "text/plain": [
       "   geo  time  cell_phones_total  population_total      country\n",
       "0  afg  1960                0.0           8996967  Afghanistan\n",
       "1  afg  1965                0.0           9956318  Afghanistan\n",
       "2  afg  1970                0.0          11173654  Afghanistan\n",
       "3  afg  1975                0.0          12689164  Afghanistan\n",
       "4  afg  1976                0.0          12943093  Afghanistan"
      ]
     },
     "execution_count": 58,
     "metadata": {},
     "output_type": "execute_result"
    }
   ],
   "source": [
    "geo_cell_phone_population.head()"
   ]
  },
  {
   "cell_type": "markdown",
   "metadata": {
    "id": "zAKDLSV-hB1G"
   },
   "source": [
    "**Task 6 Test**"
   ]
  },
  {
   "cell_type": "code",
   "execution_count": 153,
   "metadata": {
    "deletable": false,
    "editable": false,
    "id": "eQgHSsLihB1G",
    "nbgrader": {
     "cell_type": "code",
     "checksum": "adeec7312d967b89937e1487322747a5",
     "grade": true,
     "grade_id": "cell-764d5b72ae382339",
     "locked": true,
     "points": 1,
     "schema_version": 3,
     "solution": false,
     "task": false
    }
   },
   "outputs": [],
   "source": [
    "# Task 6 - Test\n",
    "\n",
    "assert geo_cell_phone_population is not None, 'Have you created a DataFrame named geo_cell_phone_population?\n",
    "assert len(geo_cell_phone_population) == 8930"
   ]
  },
  {
   "cell_type": "markdown",
   "metadata": {
    "id": "-CZF39BWivc2"
   },
   "source": [
    "**Task 7** - Calculate the number of cell phones per person.\n",
    "\n",
    "* Use the `cell_phones_total` and `population_total` columns to calculate the number of cell phones per person for each country and year.\n",
    "* Call this new feature (column) `phones_per_person` and add it to the `geo_cell_phone_population` DataFrame (you'll be adding the column to the DataFrame).\n"
   ]
  },
  {
   "cell_type": "code",
   "execution_count": 60,
   "metadata": {
    "deletable": false,
    "id": "vBeXa3LTivdC",
    "nbgrader": {
     "cell_type": "code",
     "checksum": "196f7d476b4d811188e62e70b4d5a219",
     "grade": false,
     "grade_id": "cell-bd0bce2920604643",
     "locked": false,
     "schema_version": 3,
     "solution": true,
     "task": false
    }
   },
   "outputs": [
    {
     "data": {
      "text/html": [
       "<div>\n",
       "<style scoped>\n",
       "    .dataframe tbody tr th:only-of-type {\n",
       "        vertical-align: middle;\n",
       "    }\n",
       "\n",
       "    .dataframe tbody tr th {\n",
       "        vertical-align: top;\n",
       "    }\n",
       "\n",
       "    .dataframe thead th {\n",
       "        text-align: right;\n",
       "    }\n",
       "</style>\n",
       "<table border=\"1\" class=\"dataframe\">\n",
       "  <thead>\n",
       "    <tr style=\"text-align: right;\">\n",
       "      <th></th>\n",
       "      <th>geo</th>\n",
       "      <th>time</th>\n",
       "      <th>cell_phones_total</th>\n",
       "      <th>population_total</th>\n",
       "      <th>country</th>\n",
       "      <th>phones_per_person</th>\n",
       "    </tr>\n",
       "  </thead>\n",
       "  <tbody>\n",
       "    <tr>\n",
       "      <th>0</th>\n",
       "      <td>afg</td>\n",
       "      <td>1960</td>\n",
       "      <td>0.0</td>\n",
       "      <td>8996967</td>\n",
       "      <td>Afghanistan</td>\n",
       "      <td>0.000000</td>\n",
       "    </tr>\n",
       "    <tr>\n",
       "      <th>1</th>\n",
       "      <td>afg</td>\n",
       "      <td>1965</td>\n",
       "      <td>0.0</td>\n",
       "      <td>9956318</td>\n",
       "      <td>Afghanistan</td>\n",
       "      <td>0.000000</td>\n",
       "    </tr>\n",
       "    <tr>\n",
       "      <th>2</th>\n",
       "      <td>afg</td>\n",
       "      <td>1970</td>\n",
       "      <td>0.0</td>\n",
       "      <td>11173654</td>\n",
       "      <td>Afghanistan</td>\n",
       "      <td>0.000000</td>\n",
       "    </tr>\n",
       "    <tr>\n",
       "      <th>3</th>\n",
       "      <td>afg</td>\n",
       "      <td>1975</td>\n",
       "      <td>0.0</td>\n",
       "      <td>12689164</td>\n",
       "      <td>Afghanistan</td>\n",
       "      <td>0.000000</td>\n",
       "    </tr>\n",
       "    <tr>\n",
       "      <th>4</th>\n",
       "      <td>afg</td>\n",
       "      <td>1976</td>\n",
       "      <td>0.0</td>\n",
       "      <td>12943093</td>\n",
       "      <td>Afghanistan</td>\n",
       "      <td>0.000000</td>\n",
       "    </tr>\n",
       "    <tr>\n",
       "      <th>...</th>\n",
       "      <td>...</td>\n",
       "      <td>...</td>\n",
       "      <td>...</td>\n",
       "      <td>...</td>\n",
       "      <td>...</td>\n",
       "      <td>...</td>\n",
       "    </tr>\n",
       "    <tr>\n",
       "      <th>8925</th>\n",
       "      <td>zwe</td>\n",
       "      <td>2015</td>\n",
       "      <td>12757410.0</td>\n",
       "      <td>13814642</td>\n",
       "      <td>Zimbabwe</td>\n",
       "      <td>0.923470</td>\n",
       "    </tr>\n",
       "    <tr>\n",
       "      <th>8926</th>\n",
       "      <td>zwe</td>\n",
       "      <td>2016</td>\n",
       "      <td>12878926.0</td>\n",
       "      <td>14030338</td>\n",
       "      <td>Zimbabwe</td>\n",
       "      <td>0.917934</td>\n",
       "    </tr>\n",
       "    <tr>\n",
       "      <th>8927</th>\n",
       "      <td>zwe</td>\n",
       "      <td>2017</td>\n",
       "      <td>14092104.0</td>\n",
       "      <td>14236599</td>\n",
       "      <td>Zimbabwe</td>\n",
       "      <td>0.989850</td>\n",
       "    </tr>\n",
       "    <tr>\n",
       "      <th>8928</th>\n",
       "      <td>zwe</td>\n",
       "      <td>2018</td>\n",
       "      <td>12908992.0</td>\n",
       "      <td>14438812</td>\n",
       "      <td>Zimbabwe</td>\n",
       "      <td>0.894048</td>\n",
       "    </tr>\n",
       "    <tr>\n",
       "      <th>8929</th>\n",
       "      <td>zwe</td>\n",
       "      <td>2019</td>\n",
       "      <td>13195902.0</td>\n",
       "      <td>14645473</td>\n",
       "      <td>Zimbabwe</td>\n",
       "      <td>0.901023</td>\n",
       "    </tr>\n",
       "  </tbody>\n",
       "</table>\n",
       "<p>8930 rows × 6 columns</p>\n",
       "</div>"
      ],
      "text/plain": [
       "      geo  time  cell_phones_total  population_total      country  \\\n",
       "0     afg  1960                0.0           8996967  Afghanistan   \n",
       "1     afg  1965                0.0           9956318  Afghanistan   \n",
       "2     afg  1970                0.0          11173654  Afghanistan   \n",
       "3     afg  1975                0.0          12689164  Afghanistan   \n",
       "4     afg  1976                0.0          12943093  Afghanistan   \n",
       "...   ...   ...                ...               ...          ...   \n",
       "8925  zwe  2015         12757410.0          13814642     Zimbabwe   \n",
       "8926  zwe  2016         12878926.0          14030338     Zimbabwe   \n",
       "8927  zwe  2017         14092104.0          14236599     Zimbabwe   \n",
       "8928  zwe  2018         12908992.0          14438812     Zimbabwe   \n",
       "8929  zwe  2019         13195902.0          14645473     Zimbabwe   \n",
       "\n",
       "      phones_per_person  \n",
       "0              0.000000  \n",
       "1              0.000000  \n",
       "2              0.000000  \n",
       "3              0.000000  \n",
       "4              0.000000  \n",
       "...                 ...  \n",
       "8925           0.923470  \n",
       "8926           0.917934  \n",
       "8927           0.989850  \n",
       "8928           0.894048  \n",
       "8929           0.901023  \n",
       "\n",
       "[8930 rows x 6 columns]"
      ]
     },
     "execution_count": 60,
     "metadata": {},
     "output_type": "execute_result"
    }
   ],
   "source": [
    "# Task 7\n",
    "\n",
    "# Calculate the number of cell phones per person for each country and year.\n",
    "\n",
    "# YOUR CODE HERE\n",
    "geo_cell_phone_population['phones_per_person']= geo_cell_phone_population['cell_phones_total']/geo_cell_phone_population['population_total']\n",
    "geo_cell_phone_population"
   ]
  },
  {
   "cell_type": "markdown",
   "metadata": {
    "id": "4IiDB6f6ivdD"
   },
   "source": [
    "**Task 7 Test**"
   ]
  },
  {
   "cell_type": "code",
   "execution_count": null,
   "metadata": {
    "deletable": false,
    "editable": false,
    "id": "L3UgjCfFivdD",
    "nbgrader": {
     "cell_type": "code",
     "checksum": "69eda2b0addf7a8ecc742810ad988bc4",
     "grade": true,
     "grade_id": "cell-45c955c43e471400",
     "locked": true,
     "points": 1,
     "schema_version": 3,
     "solution": false,
     "task": false
    }
   },
   "outputs": [],
   "source": [
    "# Task 7 - Test\n",
    "\n",
    "# Hidden tests - you will see the results when you submit to Canvas"
   ]
  },
  {
   "cell_type": "markdown",
   "metadata": {
    "id": "b_CZNPZAlw71"
   },
   "source": [
    "**Task 8** - Identify the number of cell phones per person in the US in 2017\n",
    "\n",
    "* Write a line of code that will create a one-row subset of `geo_cell_phone_population` with data on cell phone ownership in the USA for the year 2017.\n",
    "* Call this subset DataFrame `US_2017`.\n",
    "* Print `US_2017`."
   ]
  },
  {
   "cell_type": "code",
   "execution_count": 82,
   "metadata": {
    "deletable": false,
    "id": "Y0hRRvc1lw8B",
    "nbgrader": {
     "cell_type": "code",
     "checksum": "06541bfb6f35fd09043f837647a57085",
     "grade": false,
     "grade_id": "cell-665e83d11e594d90",
     "locked": false,
     "schema_version": 3,
     "solution": true,
     "task": false
    }
   },
   "outputs": [
    {
     "data": {
      "text/html": [
       "<div>\n",
       "<style scoped>\n",
       "    .dataframe tbody tr th:only-of-type {\n",
       "        vertical-align: middle;\n",
       "    }\n",
       "\n",
       "    .dataframe tbody tr th {\n",
       "        vertical-align: top;\n",
       "    }\n",
       "\n",
       "    .dataframe thead th {\n",
       "        text-align: right;\n",
       "    }\n",
       "</style>\n",
       "<table border=\"1\" class=\"dataframe\">\n",
       "  <thead>\n",
       "    <tr style=\"text-align: right;\">\n",
       "      <th></th>\n",
       "      <th>geo</th>\n",
       "      <th>time</th>\n",
       "      <th>cell_phones_total</th>\n",
       "      <th>population_total</th>\n",
       "      <th>country</th>\n",
       "      <th>phones_per_person</th>\n",
       "    </tr>\n",
       "  </thead>\n",
       "  <tbody>\n",
       "    <tr>\n",
       "      <th>8455</th>\n",
       "      <td>usa</td>\n",
       "      <td>2017</td>\n",
       "      <td>400000000.0</td>\n",
       "      <td>325084758</td>\n",
       "      <td>United States</td>\n",
       "      <td>1.230448</td>\n",
       "    </tr>\n",
       "  </tbody>\n",
       "</table>\n",
       "</div>"
      ],
      "text/plain": [
       "      geo  time  cell_phones_total  population_total        country  \\\n",
       "8455  usa  2017        400000000.0         325084758  United States   \n",
       "\n",
       "      phones_per_person  \n",
       "8455           1.230448  "
      ]
     },
     "execution_count": 82,
     "metadata": {},
     "output_type": "execute_result"
    }
   ],
   "source": [
    "# Task 8\n",
    "\n",
    "# Determine the number of cell phones per person in the US in 2017\n",
    "\n",
    "# YOUR CODE HERE\n",
    "US_2017 = geo_cell_phone_population.loc[(geo_cell_phone_population['geo']=='usa') & (geo_cell_phone_population['time'] == 2017)]\n",
    "# View the DataFrame\n",
    "US_2017"
   ]
  },
  {
   "cell_type": "markdown",
   "metadata": {
    "id": "mIDryQfKlw8C"
   },
   "source": [
    "**Task 8 Test**"
   ]
  },
  {
   "cell_type": "code",
   "execution_count": 83,
   "metadata": {
    "deletable": false,
    "editable": false,
    "id": "wL0MypzFlw8C",
    "nbgrader": {
     "cell_type": "code",
     "checksum": "85364b4d30569406247e2c40cbd3b5ba",
     "grade": true,
     "grade_id": "cell-ea08fdda80cf9731",
     "locked": true,
     "points": 1,
     "schema_version": 3,
     "solution": false,
     "task": false
    }
   },
   "outputs": [],
   "source": [
    "# Task 8 - Test\n",
    "\n",
    "# Hidden tests - you will see the results when you submit to Canvas"
   ]
  },
  {
   "cell_type": "markdown",
   "metadata": {
    "id": "HTl_zamAtfJa"
   },
   "source": [
    "**Task 9** - Describe the numeric variables in `geo_cell_phone_population`\n",
    "\n",
    "* Calculate the summary statistics for the quantitative variables in `geo_cell_phone_population` using `.describe()`.\n",
    "* Find the mean value for `phones_per_person` and assign it to the variable `mean_phones`. Define your value out to two decimal points.\n"
   ]
  },
  {
   "cell_type": "code",
   "execution_count": 89,
   "metadata": {
    "deletable": false,
    "id": "HGKKIqAktfJn",
    "nbgrader": {
     "cell_type": "code",
     "checksum": "b96997337122d55fdcad18d453ee61fe",
     "grade": false,
     "grade_id": "cell-181c9805c52dfda8",
     "locked": false,
     "schema_version": 3,
     "solution": true,
     "task": false
    }
   },
   "outputs": [
    {
     "data": {
      "text/plain": [
       "0.31"
      ]
     },
     "execution_count": 89,
     "metadata": {},
     "output_type": "execute_result"
    }
   ],
   "source": [
    "# Task 9\n",
    "\n",
    "# Calculate the summary statistics for the quantitative variables in geo_cell_phone_population using .describe()\n",
    "\n",
    "# YOUR CODE HERE\n",
    "geo_cell_phone_population.describe()\n",
    "mean_phones = round(geo_cell_phone_population['phones_per_person'].mean(),2)\n",
    "mean_phones"
   ]
  },
  {
   "cell_type": "markdown",
   "metadata": {
    "id": "4Nh0qP1ptfJn"
   },
   "source": [
    "**Task 9 Test**"
   ]
  },
  {
   "cell_type": "code",
   "execution_count": 90,
   "metadata": {
    "deletable": false,
    "editable": false,
    "id": "cBZg6p1VtfJo",
    "nbgrader": {
     "cell_type": "code",
     "checksum": "a3b4089cf090bbb63a13a6ec44e93cf4",
     "grade": true,
     "grade_id": "cell-0a0cfb1ac7acc279",
     "locked": true,
     "points": 1,
     "schema_version": 3,
     "solution": false,
     "task": false
    }
   },
   "outputs": [],
   "source": [
    "# Task 9 - Test\n",
    "\n",
    "# Hidden tests - you will see the results when you submit to Canvas"
   ]
  },
  {
   "cell_type": "markdown",
   "metadata": {
    "id": "fD4X6uNlvI6-"
   },
   "source": [
    "**Task 10** - Describe the categorical variables in `geo_cell_phone_population`\n",
    "\n",
    "* Calculate the summary statistics for the categorical variables in `geo_cell_phone_population` using `.describe(exclude='number')`.\n",
    "* Using these results, find the number of unique countries and assign it to the variable `unique_country`. Your value should be an integer."
   ]
  },
  {
   "cell_type": "code",
   "execution_count": 116,
   "metadata": {
    "deletable": false,
    "id": "b52UT_HnvI7B",
    "nbgrader": {
     "cell_type": "code",
     "checksum": "2cd375c31946ee834750d93dfc49f568",
     "grade": false,
     "grade_id": "cell-07de5adb6a8b43bf",
     "locked": false,
     "schema_version": 3,
     "solution": true,
     "task": false
    }
   },
   "outputs": [
    {
     "data": {
      "text/plain": [
       "195"
      ]
     },
     "execution_count": 116,
     "metadata": {},
     "output_type": "execute_result"
    }
   ],
   "source": [
    "# Task 10\n",
    "\n",
    "# Calculate the summary statistics in geo_cell_phone_population using .describe(exclude='number')\n",
    "\n",
    "# YOUR CODE HERE\n",
    "geo_cell_phone_population.describe(exclude='number')\n",
    "unique_country = geo_cell_phone_population['country'].nunique()\n",
    "unique_country"
   ]
  },
  {
   "cell_type": "markdown",
   "metadata": {
    "id": "OYqdBExNvI7C"
   },
   "source": [
    "**Task 10 Test**"
   ]
  },
  {
   "cell_type": "code",
   "execution_count": null,
   "metadata": {
    "deletable": false,
    "editable": false,
    "id": "Ul1sia9IvI7C",
    "nbgrader": {
     "cell_type": "code",
     "checksum": "b93a82914cb93f4cd174af721883200e",
     "grade": true,
     "grade_id": "cell-7672dd0b5f927ce7",
     "locked": true,
     "points": 1,
     "schema_version": 3,
     "solution": false,
     "task": false
    }
   },
   "outputs": [],
   "source": [
    "# Task 10 - Test\n",
    "\n",
    "# Hidden tests - you will see the results when you submit to Canvas"
   ]
  },
  {
   "cell_type": "markdown",
   "metadata": {
    "id": "wBQCMGrkw69w"
   },
   "source": [
    "**Task 11** - Subset the DataFrame for 2017\n",
    "\n",
    "* Create a new dataframe called `df2017` that includes **only** records from `geo_cell_phone_population` that ocurred in 2017."
   ]
  },
  {
   "cell_type": "code",
   "execution_count": 124,
   "metadata": {
    "deletable": false,
    "id": "_EKPYqW-w698",
    "nbgrader": {
     "cell_type": "code",
     "checksum": "0dbed80e18dc222395c342df229fb3ac",
     "grade": false,
     "grade_id": "cell-f3fa17e15b5174ac",
     "locked": false,
     "schema_version": 3,
     "solution": true,
     "task": false
    }
   },
   "outputs": [
    {
     "data": {
      "text/html": [
       "<div>\n",
       "<style scoped>\n",
       "    .dataframe tbody tr th:only-of-type {\n",
       "        vertical-align: middle;\n",
       "    }\n",
       "\n",
       "    .dataframe tbody tr th {\n",
       "        vertical-align: top;\n",
       "    }\n",
       "\n",
       "    .dataframe thead th {\n",
       "        text-align: right;\n",
       "    }\n",
       "</style>\n",
       "<table border=\"1\" class=\"dataframe\">\n",
       "  <thead>\n",
       "    <tr style=\"text-align: right;\">\n",
       "      <th></th>\n",
       "      <th>geo</th>\n",
       "      <th>time</th>\n",
       "      <th>cell_phones_total</th>\n",
       "      <th>population_total</th>\n",
       "      <th>country</th>\n",
       "      <th>phones_per_person</th>\n",
       "    </tr>\n",
       "  </thead>\n",
       "  <tbody>\n",
       "    <tr>\n",
       "      <th>45</th>\n",
       "      <td>afg</td>\n",
       "      <td>2017</td>\n",
       "      <td>23929713.0</td>\n",
       "      <td>36296111</td>\n",
       "      <td>Afghanistan</td>\n",
       "      <td>0.659291</td>\n",
       "    </tr>\n",
       "    <tr>\n",
       "      <th>93</th>\n",
       "      <td>ago</td>\n",
       "      <td>2017</td>\n",
       "      <td>13323952.0</td>\n",
       "      <td>29816769</td>\n",
       "      <td>Angola</td>\n",
       "      <td>0.446861</td>\n",
       "    </tr>\n",
       "    <tr>\n",
       "      <th>141</th>\n",
       "      <td>alb</td>\n",
       "      <td>2017</td>\n",
       "      <td>3625699.0</td>\n",
       "      <td>2884169</td>\n",
       "      <td>Albania</td>\n",
       "      <td>1.257104</td>\n",
       "    </tr>\n",
       "    <tr>\n",
       "      <th>189</th>\n",
       "      <td>and</td>\n",
       "      <td>2017</td>\n",
       "      <td>80337.0</td>\n",
       "      <td>76997</td>\n",
       "      <td>Andorra</td>\n",
       "      <td>1.043378</td>\n",
       "    </tr>\n",
       "    <tr>\n",
       "      <th>227</th>\n",
       "      <td>are</td>\n",
       "      <td>2017</td>\n",
       "      <td>19826224.0</td>\n",
       "      <td>9487206</td>\n",
       "      <td>United Arab Emirates</td>\n",
       "      <td>2.089785</td>\n",
       "    </tr>\n",
       "    <tr>\n",
       "      <th>...</th>\n",
       "      <td>...</td>\n",
       "      <td>...</td>\n",
       "      <td>...</td>\n",
       "      <td>...</td>\n",
       "      <td>...</td>\n",
       "      <td>...</td>\n",
       "    </tr>\n",
       "    <tr>\n",
       "      <th>8738</th>\n",
       "      <td>wsm</td>\n",
       "      <td>2017</td>\n",
       "      <td>124211.0</td>\n",
       "      <td>195358</td>\n",
       "      <td>Samoa</td>\n",
       "      <td>0.635812</td>\n",
       "    </tr>\n",
       "    <tr>\n",
       "      <th>8784</th>\n",
       "      <td>yem</td>\n",
       "      <td>2017</td>\n",
       "      <td>15357868.0</td>\n",
       "      <td>27834811</td>\n",
       "      <td>Yemen</td>\n",
       "      <td>0.551750</td>\n",
       "    </tr>\n",
       "    <tr>\n",
       "      <th>8831</th>\n",
       "      <td>zaf</td>\n",
       "      <td>2017</td>\n",
       "      <td>88497610.0</td>\n",
       "      <td>57009751</td>\n",
       "      <td>South Africa</td>\n",
       "      <td>1.552324</td>\n",
       "    </tr>\n",
       "    <tr>\n",
       "      <th>8879</th>\n",
       "      <td>zmb</td>\n",
       "      <td>2017</td>\n",
       "      <td>13438539.0</td>\n",
       "      <td>16853608</td>\n",
       "      <td>Zambia</td>\n",
       "      <td>0.797369</td>\n",
       "    </tr>\n",
       "    <tr>\n",
       "      <th>8927</th>\n",
       "      <td>zwe</td>\n",
       "      <td>2017</td>\n",
       "      <td>14092104.0</td>\n",
       "      <td>14236599</td>\n",
       "      <td>Zimbabwe</td>\n",
       "      <td>0.989850</td>\n",
       "    </tr>\n",
       "  </tbody>\n",
       "</table>\n",
       "<p>194 rows × 6 columns</p>\n",
       "</div>"
      ],
      "text/plain": [
       "      geo  time  cell_phones_total  population_total               country  \\\n",
       "45    afg  2017         23929713.0          36296111           Afghanistan   \n",
       "93    ago  2017         13323952.0          29816769                Angola   \n",
       "141   alb  2017          3625699.0           2884169               Albania   \n",
       "189   and  2017            80337.0             76997               Andorra   \n",
       "227   are  2017         19826224.0           9487206  United Arab Emirates   \n",
       "...   ...   ...                ...               ...                   ...   \n",
       "8738  wsm  2017           124211.0            195358                 Samoa   \n",
       "8784  yem  2017         15357868.0          27834811                 Yemen   \n",
       "8831  zaf  2017         88497610.0          57009751          South Africa   \n",
       "8879  zmb  2017         13438539.0          16853608                Zambia   \n",
       "8927  zwe  2017         14092104.0          14236599              Zimbabwe   \n",
       "\n",
       "      phones_per_person  \n",
       "45             0.659291  \n",
       "93             0.446861  \n",
       "141            1.257104  \n",
       "189            1.043378  \n",
       "227            2.089785  \n",
       "...                 ...  \n",
       "8738           0.635812  \n",
       "8784           0.551750  \n",
       "8831           1.552324  \n",
       "8879           0.797369  \n",
       "8927           0.989850  \n",
       "\n",
       "[194 rows x 6 columns]"
      ]
     },
     "execution_count": 124,
     "metadata": {},
     "output_type": "execute_result"
    }
   ],
   "source": [
    "# Task 11\n",
    "\n",
    "# Create a new dataframe called df2017 that includes only records from geo_cell_phone_population that ocurred in 2017.\n",
    "\n",
    "# YOUR CODE HERE\n",
    "df2017 = geo_cell_phone_population.loc[geo_cell_phone_population['time'] == 2017]\n",
    "df2017\n"
   ]
  },
  {
   "cell_type": "markdown",
   "metadata": {
    "id": "QuLy4qwrw698"
   },
   "source": [
    "**Task 11 Test**"
   ]
  },
  {
   "cell_type": "code",
   "execution_count": null,
   "metadata": {
    "deletable": false,
    "editable": false,
    "id": "S0rU2pGWw698",
    "nbgrader": {
     "cell_type": "code",
     "checksum": "ef103ab0c8b09e083e94acbbb82229f6",
     "grade": true,
     "grade_id": "cell-b19a6956b5dddadb",
     "locked": true,
     "points": 1,
     "schema_version": 3,
     "solution": false,
     "task": false
    }
   },
   "outputs": [],
   "source": [
    "# Task 11 - Test\n",
    "\n",
    "# Hidden tests - you will see the results when you submit to Canvas"
   ]
  },
  {
   "cell_type": "markdown",
   "metadata": {
    "id": "Rww_2EpHyd4K"
   },
   "source": [
    "**Task 12** - Identify the five countries with the most cell phones per person in 2017\n",
    "\n",
    "* Sort the `df2017` DataFrame by `phones_per_person` in descending order and assign the result to `df2017_top`. Your new DataFrame should only have **five** rows (Hint: use `.head()` to return only five rows).\n",
    "* Print the first 5 records of `df2017_top`."
   ]
  },
  {
   "cell_type": "code",
   "execution_count": 158,
   "metadata": {
    "deletable": false,
    "id": "h6ym9Dwhyd4V",
    "nbgrader": {
     "cell_type": "code",
     "checksum": "e6a3dfe114beb003bf29f8bfb6aadbb7",
     "grade": false,
     "grade_id": "cell-c9b701bfe897edf5",
     "locked": false,
     "schema_version": 3,
     "solution": true,
     "task": false
    }
   },
   "outputs": [
    {
     "data": {
      "text/html": [
       "<div>\n",
       "<style scoped>\n",
       "    .dataframe tbody tr th:only-of-type {\n",
       "        vertical-align: middle;\n",
       "    }\n",
       "\n",
       "    .dataframe tbody tr th {\n",
       "        vertical-align: top;\n",
       "    }\n",
       "\n",
       "    .dataframe thead th {\n",
       "        text-align: right;\n",
       "    }\n",
       "</style>\n",
       "<table border=\"1\" class=\"dataframe\">\n",
       "  <thead>\n",
       "    <tr style=\"text-align: right;\">\n",
       "      <th></th>\n",
       "      <th>geo</th>\n",
       "      <th>time</th>\n",
       "      <th>cell_phones_total</th>\n",
       "      <th>population_total</th>\n",
       "      <th>country</th>\n",
       "      <th>phones_per_person</th>\n",
       "    </tr>\n",
       "  </thead>\n",
       "  <tbody>\n",
       "    <tr>\n",
       "      <th>3448</th>\n",
       "      <td>hkg</td>\n",
       "      <td>2017</td>\n",
       "      <td>18394762.0</td>\n",
       "      <td>7306315</td>\n",
       "      <td>Hong Kong, China</td>\n",
       "      <td>2.517652</td>\n",
       "    </tr>\n",
       "    <tr>\n",
       "      <th>227</th>\n",
       "      <td>are</td>\n",
       "      <td>2017</td>\n",
       "      <td>19826224.0</td>\n",
       "      <td>9487206</td>\n",
       "      <td>United Arab Emirates</td>\n",
       "      <td>2.089785</td>\n",
       "    </tr>\n",
       "    <tr>\n",
       "      <th>365</th>\n",
       "      <td>atg</td>\n",
       "      <td>2017</td>\n",
       "      <td>184000.0</td>\n",
       "      <td>95425</td>\n",
       "      <td>Antigua and Barbuda</td>\n",
       "      <td>1.928216</td>\n",
       "    </tr>\n",
       "    <tr>\n",
       "      <th>5253</th>\n",
       "      <td>mdv</td>\n",
       "      <td>2017</td>\n",
       "      <td>900120.0</td>\n",
       "      <td>496398</td>\n",
       "      <td>Maldives</td>\n",
       "      <td>1.813303</td>\n",
       "    </tr>\n",
       "    <tr>\n",
       "      <th>1937</th>\n",
       "      <td>cri</td>\n",
       "      <td>2017</td>\n",
       "      <td>8840342.0</td>\n",
       "      <td>4949955</td>\n",
       "      <td>Costa Rica</td>\n",
       "      <td>1.785944</td>\n",
       "    </tr>\n",
       "  </tbody>\n",
       "</table>\n",
       "</div>"
      ],
      "text/plain": [
       "      geo  time  cell_phones_total  population_total               country  \\\n",
       "3448  hkg  2017         18394762.0           7306315      Hong Kong, China   \n",
       "227   are  2017         19826224.0           9487206  United Arab Emirates   \n",
       "365   atg  2017           184000.0             95425   Antigua and Barbuda   \n",
       "5253  mdv  2017           900120.0            496398              Maldives   \n",
       "1937  cri  2017          8840342.0           4949955            Costa Rica   \n",
       "\n",
       "      phones_per_person  \n",
       "3448           2.517652  \n",
       "227            2.089785  \n",
       "365            1.928216  \n",
       "5253           1.813303  \n",
       "1937           1.785944  "
      ]
     },
     "execution_count": 158,
     "metadata": {},
     "output_type": "execute_result"
    }
   ],
   "source": [
    "# Task 12\n",
    "\n",
    "# Sort the df2017 dataframe by phones_per_person in descending order\n",
    "# Return only five (5) rows\n",
    "\n",
    "# YOUR CODE HERE\n",
    "df2017_top = df2017.sort_values(by=['phones_per_person'], ascending=False)\n",
    "\n",
    "# View the df2017_top DataFrame\n",
    "df2017_top.head()"
   ]
  },
  {
   "cell_type": "markdown",
   "metadata": {
    "id": "7WBox_Axyd4W"
   },
   "source": [
    "**Task 12 Test**"
   ]
  },
  {
   "cell_type": "code",
   "execution_count": 156,
   "metadata": {
    "deletable": false,
    "editable": false,
    "id": "ePj-a6rLyd4W",
    "nbgrader": {
     "cell_type": "code",
     "checksum": "09132f37bbdc979478f298515ecb055d",
     "grade": true,
     "grade_id": "cell-5f6fffc9db1b9492",
     "locked": true,
     "points": 1,
     "schema_version": 3,
     "solution": false,
     "task": false
    }
   },
   "outputs": [
    {
     "ename": "AssertionError",
     "evalue": "Make sure you return only five rows",
     "output_type": "error",
     "traceback": [
      "\u001b[1;31m---------------------------------------------------------------------------\u001b[0m",
      "\u001b[1;31mAssertionError\u001b[0m                            Traceback (most recent call last)",
      "\u001b[1;32mC:\\Users\\ADMINI~1\\AppData\\Local\\Temp/ipykernel_9880/1033408706.py\u001b[0m in \u001b[0;36m<module>\u001b[1;34m\u001b[0m\n\u001b[0;32m      1\u001b[0m \u001b[1;31m# Task 12 - Test\u001b[0m\u001b[1;33m\u001b[0m\u001b[1;33m\u001b[0m\u001b[0m\n\u001b[0;32m      2\u001b[0m \u001b[1;33m\u001b[0m\u001b[0m\n\u001b[1;32m----> 3\u001b[1;33m \u001b[1;32massert\u001b[0m \u001b[0mdf2017_top\u001b[0m\u001b[1;33m.\u001b[0m\u001b[0mshape\u001b[0m \u001b[1;33m==\u001b[0m \u001b[1;33m(\u001b[0m\u001b[1;36m5\u001b[0m\u001b[1;33m,\u001b[0m\u001b[1;36m6\u001b[0m\u001b[1;33m)\u001b[0m\u001b[1;33m,\u001b[0m \u001b[1;34m'Make sure you return only five rows'\u001b[0m\u001b[1;33m\u001b[0m\u001b[1;33m\u001b[0m\u001b[0m\n\u001b[0m",
      "\u001b[1;31mAssertionError\u001b[0m: Make sure you return only five rows"
     ]
    }
   ],
   "source": [
    "# Task 12 - Test\n",
    "\n",
    "assert df2017_top.shape == (5,6), 'Make sure you return only five rows'"
   ]
  },
  {
   "cell_type": "markdown",
   "metadata": {
    "id": "UthoeNABLwau"
   },
   "source": [
    "**Task 13** - Explain why the figure below **cannot** be graphed as a pie chart.\n"
   ]
  },
  {
   "cell_type": "code",
   "execution_count": 161,
   "metadata": {
    "id": "oy9dt9l6Lz18"
   },
   "outputs": [
    {
     "data": {
      "image/png": "[encoded data removed]",
      "text/plain": [
       "<IPython.core.display.Image object>"
      ]
     },
     "metadata": {
      "image/png": {
       "width": 500
      }
     },
     "output_type": "display_data"
    }
   ],
   "source": [
    "from IPython.display import display, Image\n",
    "png = 'https://fivethirtyeight.com/wp-content/uploads/2014/04/hickey-ross-tags-1.png'\n",
    "example = Image(png, width=500)\n",
    "display(example)"
   ]
  },
  {
   "cell_type": "markdown",
   "metadata": {
    "id": "SOlPMhhS1t_I"
   },
   "source": [
    "**Task 13 Question** - Explain why the figure cannot be graphed as a pie chart.\n",
    "\n",
    "*This task will not be autograded - but it is part of completing the challenge.*\n",
    "\n",
    "The above horizontal bar chart is used to represent how many percent of Bob Ross paintings does have each of these elements.This cannot be graphed as pie chart since these percents are not representing part of the whole instead they show how many percent of his paintings among all paintings have a particular element. Pie chart can be used when we want to present the portions of the whole data, where each portion is proportional to the fraction of the whole(pie chart always present a proper fraction) for example:\n",
    "1) what is the proportion of all elements in a single painting done by Bob Ross,   \n",
    "2) what is the time taken for each activity in a 24hr day schedule\n"
   ]
  },
  {
   "cell_type": "markdown",
   "metadata": {
    "id": "bTBRunPy26LB"
   },
   "source": [
    "**Task 14** - Titanic dataset\n",
    "\n",
    "Use the following Titanic DataFrame to complete Task 14 - execute the cell to load the dataset."
   ]
  },
  {
   "cell_type": "code",
   "execution_count": 171,
   "metadata": {
    "id": "ACKJZknZFG6y"
   },
   "outputs": [
    {
     "data": {
      "text/html": [
       "<div>\n",
       "<style scoped>\n",
       "    .dataframe tbody tr th:only-of-type {\n",
       "        vertical-align: middle;\n",
       "    }\n",
       "\n",
       "    .dataframe tbody tr th {\n",
       "        vertical-align: top;\n",
       "    }\n",
       "\n",
       "    .dataframe thead th {\n",
       "        text-align: right;\n",
       "    }\n",
       "</style>\n",
       "<table border=\"1\" class=\"dataframe\">\n",
       "  <thead>\n",
       "    <tr style=\"text-align: right;\">\n",
       "      <th></th>\n",
       "      <th>Survived</th>\n",
       "      <th>Pclass</th>\n",
       "      <th>Name</th>\n",
       "      <th>Sex</th>\n",
       "      <th>Age</th>\n",
       "      <th>Siblings/Spouses_Aboard</th>\n",
       "      <th>Parents/Children_Aboard</th>\n",
       "      <th>Fare</th>\n",
       "    </tr>\n",
       "  </thead>\n",
       "  <tbody>\n",
       "    <tr>\n",
       "      <th>0</th>\n",
       "      <td>0</td>\n",
       "      <td>3</td>\n",
       "      <td>Mr. Owen Harris Braund</td>\n",
       "      <td>male</td>\n",
       "      <td>22.0</td>\n",
       "      <td>1</td>\n",
       "      <td>0</td>\n",
       "      <td>7.2500</td>\n",
       "    </tr>\n",
       "    <tr>\n",
       "      <th>1</th>\n",
       "      <td>1</td>\n",
       "      <td>1</td>\n",
       "      <td>Mrs. John Bradley (Florence Briggs Thayer) Cum...</td>\n",
       "      <td>female</td>\n",
       "      <td>38.0</td>\n",
       "      <td>1</td>\n",
       "      <td>0</td>\n",
       "      <td>71.2833</td>\n",
       "    </tr>\n",
       "    <tr>\n",
       "      <th>2</th>\n",
       "      <td>1</td>\n",
       "      <td>3</td>\n",
       "      <td>Miss. Laina Heikkinen</td>\n",
       "      <td>female</td>\n",
       "      <td>26.0</td>\n",
       "      <td>0</td>\n",
       "      <td>0</td>\n",
       "      <td>7.9250</td>\n",
       "    </tr>\n",
       "    <tr>\n",
       "      <th>3</th>\n",
       "      <td>1</td>\n",
       "      <td>1</td>\n",
       "      <td>Mrs. Jacques Heath (Lily May Peel) Futrelle</td>\n",
       "      <td>female</td>\n",
       "      <td>35.0</td>\n",
       "      <td>1</td>\n",
       "      <td>0</td>\n",
       "      <td>53.1000</td>\n",
       "    </tr>\n",
       "    <tr>\n",
       "      <th>4</th>\n",
       "      <td>0</td>\n",
       "      <td>3</td>\n",
       "      <td>Mr. William Henry Allen</td>\n",
       "      <td>male</td>\n",
       "      <td>35.0</td>\n",
       "      <td>0</td>\n",
       "      <td>0</td>\n",
       "      <td>8.0500</td>\n",
       "    </tr>\n",
       "    <tr>\n",
       "      <th>...</th>\n",
       "      <td>...</td>\n",
       "      <td>...</td>\n",
       "      <td>...</td>\n",
       "      <td>...</td>\n",
       "      <td>...</td>\n",
       "      <td>...</td>\n",
       "      <td>...</td>\n",
       "      <td>...</td>\n",
       "    </tr>\n",
       "    <tr>\n",
       "      <th>882</th>\n",
       "      <td>0</td>\n",
       "      <td>2</td>\n",
       "      <td>Rev. Juozas Montvila</td>\n",
       "      <td>male</td>\n",
       "      <td>27.0</td>\n",
       "      <td>0</td>\n",
       "      <td>0</td>\n",
       "      <td>13.0000</td>\n",
       "    </tr>\n",
       "    <tr>\n",
       "      <th>883</th>\n",
       "      <td>1</td>\n",
       "      <td>1</td>\n",
       "      <td>Miss. Margaret Edith Graham</td>\n",
       "      <td>female</td>\n",
       "      <td>19.0</td>\n",
       "      <td>0</td>\n",
       "      <td>0</td>\n",
       "      <td>30.0000</td>\n",
       "    </tr>\n",
       "    <tr>\n",
       "      <th>884</th>\n",
       "      <td>0</td>\n",
       "      <td>3</td>\n",
       "      <td>Miss. Catherine Helen Johnston</td>\n",
       "      <td>female</td>\n",
       "      <td>7.0</td>\n",
       "      <td>1</td>\n",
       "      <td>2</td>\n",
       "      <td>23.4500</td>\n",
       "    </tr>\n",
       "    <tr>\n",
       "      <th>885</th>\n",
       "      <td>1</td>\n",
       "      <td>1</td>\n",
       "      <td>Mr. Karl Howell Behr</td>\n",
       "      <td>male</td>\n",
       "      <td>26.0</td>\n",
       "      <td>0</td>\n",
       "      <td>0</td>\n",
       "      <td>30.0000</td>\n",
       "    </tr>\n",
       "    <tr>\n",
       "      <th>886</th>\n",
       "      <td>0</td>\n",
       "      <td>3</td>\n",
       "      <td>Mr. Patrick Dooley</td>\n",
       "      <td>male</td>\n",
       "      <td>32.0</td>\n",
       "      <td>0</td>\n",
       "      <td>0</td>\n",
       "      <td>7.7500</td>\n",
       "    </tr>\n",
       "  </tbody>\n",
       "</table>\n",
       "<p>887 rows × 8 columns</p>\n",
       "</div>"
      ],
      "text/plain": [
       "     Survived  Pclass                                               Name  \\\n",
       "0           0       3                             Mr. Owen Harris Braund   \n",
       "1           1       1  Mrs. John Bradley (Florence Briggs Thayer) Cum...   \n",
       "2           1       3                              Miss. Laina Heikkinen   \n",
       "3           1       1        Mrs. Jacques Heath (Lily May Peel) Futrelle   \n",
       "4           0       3                            Mr. William Henry Allen   \n",
       "..        ...     ...                                                ...   \n",
       "882         0       2                               Rev. Juozas Montvila   \n",
       "883         1       1                        Miss. Margaret Edith Graham   \n",
       "884         0       3                     Miss. Catherine Helen Johnston   \n",
       "885         1       1                               Mr. Karl Howell Behr   \n",
       "886         0       3                                 Mr. Patrick Dooley   \n",
       "\n",
       "        Sex   Age  Siblings/Spouses_Aboard  Parents/Children_Aboard     Fare  \n",
       "0      male  22.0                        1                        0   7.2500  \n",
       "1    female  38.0                        1                        0  71.2833  \n",
       "2    female  26.0                        0                        0   7.9250  \n",
       "3    female  35.0                        1                        0  53.1000  \n",
       "4      male  35.0                        0                        0   8.0500  \n",
       "..      ...   ...                      ...                      ...      ...  \n",
       "882    male  27.0                        0                        0  13.0000  \n",
       "883  female  19.0                        0                        0  30.0000  \n",
       "884  female   7.0                        1                        2  23.4500  \n",
       "885    male  26.0                        0                        0  30.0000  \n",
       "886    male  32.0                        0                        0   7.7500  \n",
       "\n",
       "[887 rows x 8 columns]"
      ]
     },
     "execution_count": 171,
     "metadata": {},
     "output_type": "execute_result"
    }
   ],
   "source": [
    "# Load the Titanic dataset from its URL:\n",
    "Titanic = pd.read_csv('https://raw.githubusercontent.com/pixeltests/datasets/main/titanic.csv')\n",
    "\n",
    "Titanic.head()"
   ]
  },
  {
   "cell_type": "markdown",
   "metadata": {
    "id": "UeiVHDA3vAX5"
   },
   "source": [
    "**Task 14** - Create a visualization to show the distribution of **Parents/Children_Aboard**.\n",
    "\n",
    "*This task will not be autograded - but it is part of completing the challenge.*"
   ]
  },
  {
   "cell_type": "code",
   "execution_count": 214,
   "metadata": {
    "id": "jRvLPu2_vlZG"
   },
   "outputs": [
    {
     "data": {
      "text/plain": [
       "<function seaborn.rcmod.set(*args, **kwargs)>"
      ]
     },
     "execution_count": 214,
     "metadata": {},
     "output_type": "execute_result"
    }
   ],
   "source": [
    "import matplotlib.pyplot as plt\n",
    "import seaborn as sns\n",
    "sns.set\n",
    "\n"
   ]
  },
  {
   "cell_type": "code",
   "execution_count": 215,
   "metadata": {},
   "outputs": [
    {
     "data": {
      "text/html": [
       "<div>\n",
       "<style scoped>\n",
       "    .dataframe tbody tr th:only-of-type {\n",
       "        vertical-align: middle;\n",
       "    }\n",
       "\n",
       "    .dataframe tbody tr th {\n",
       "        vertical-align: top;\n",
       "    }\n",
       "\n",
       "    .dataframe thead th {\n",
       "        text-align: right;\n",
       "    }\n",
       "</style>\n",
       "<table border=\"1\" class=\"dataframe\">\n",
       "  <thead>\n",
       "    <tr style=\"text-align: right;\">\n",
       "      <th></th>\n",
       "      <th>Parents/Children_Aboard</th>\n",
       "    </tr>\n",
       "  </thead>\n",
       "  <tbody>\n",
       "    <tr>\n",
       "      <th>None</th>\n",
       "      <td>75.99</td>\n",
       "    </tr>\n",
       "    <tr>\n",
       "      <th>One</th>\n",
       "      <td>13.30</td>\n",
       "    </tr>\n",
       "    <tr>\n",
       "      <th>Two</th>\n",
       "      <td>9.02</td>\n",
       "    </tr>\n",
       "    <tr>\n",
       "      <th>Five</th>\n",
       "      <td>0.56</td>\n",
       "    </tr>\n",
       "    <tr>\n",
       "      <th>Three</th>\n",
       "      <td>0.56</td>\n",
       "    </tr>\n",
       "    <tr>\n",
       "      <th>Four</th>\n",
       "      <td>0.45</td>\n",
       "    </tr>\n",
       "    <tr>\n",
       "      <th>Six</th>\n",
       "      <td>0.11</td>\n",
       "    </tr>\n",
       "  </tbody>\n",
       "</table>\n",
       "</div>"
      ],
      "text/plain": [
       "       Parents/Children_Aboard\n",
       "None                     75.99\n",
       "One                      13.30\n",
       "Two                       9.02\n",
       "Five                      0.56\n",
       "Three                     0.56\n",
       "Four                      0.45\n",
       "Six                       0.11"
      ]
     },
     "execution_count": 215,
     "metadata": {},
     "output_type": "execute_result"
    }
   ],
   "source": [
    "Parent_child = pd.DataFrame(Titanic['Parents/Children_Aboard'].value_counts(normalize=True))\n",
    "Parent_child_Aboard = round(Parent_child * 100,2)\n",
    "Parent_child_Aboard = Parent_child_Aboard.rename(index={0:'None', 1:'One',2:'Two',3:'Three',4:'Four',5:'Five',6:'Six'})\n",
    "Parent_child_Aboard"
   ]
  },
  {
   "cell_type": "code",
   "execution_count": 216,
   "metadata": {},
   "outputs": [
    {
     "data": {
      "image/png": "[encoded data removed]",
      "text/plain": [
       "<Figure size 432x288 with 1 Axes>"
      ]
     },
     "metadata": {},
     "output_type": "display_data"
    }
   ],
   "source": [
    "fig, ax = plt.subplots()\n",
    "\n",
    "ax.pie(Parent_child_Aboard['Parents/Children_Aboard'],\n",
    "       labels=Parent_child_Aboard.index, \n",
    "       autopct='%1.1f%%', \n",
    "       startangle=30)\n",
    "\n",
    "\n",
    "ax.set_title('Number of Parents/Children of Passengers on the ship')\n",
    "\n",
    "plt.show()"
   ]
  },
  {
   "cell_type": "code",
   "execution_count": 219,
   "metadata": {},
   "outputs": [
    {
     "data": {
      "text/plain": [
       "Text(57.167500000000004, 0.5, 'Total Parents/Children_Aboard')"
      ]
     },
     "execution_count": 219,
     "metadata": {},
     "output_type": "execute_result"
    },
    {
     "data": {
      "image/png": "[encoded data removed]",
      "text/plain": [
       "<Figure size 360x360 with 1 Axes>"
      ]
     },
     "metadata": {
      "needs_background": "light"
     },
     "output_type": "display_data"
    }
   ],
   "source": [
    "sns.catplot(x='Parents/Children_Aboard', data=Titanic, kind='count')\n",
    "ax.set_xlabel('Parents/Children_Aboard') \n",
    "ax.set_ylabel('Total Parents/Children_Aboard') "
   ]
  },
  {
   "cell_type": "markdown",
   "metadata": {
    "id": "oOAPAy18vF9w"
   },
   "source": [
    "Describe the distribution of Parents/Children_Aboard."
   ]
  },
  {
   "cell_type": "markdown",
   "metadata": {
    "id": "uBVSewujjgpi"
   },
   "source": [
    "From Pie chart is the following observation: \n",
    "1)76% of passengers did not have Parent/Child boarded\n",
    "2)13% had 1 parent/child\n",
    "3)9% had 2 people from their family on the ship \n",
    "4)1.5% people had 3/4/5 people from their family on the ship \n",
    "5)Rest 0.11% had 6 people from their family on the ship "
   ]
  },
  {
   "cell_type": "markdown",
   "metadata": {},
   "source": [
    "From Bar Chart we have actually see the values like\n",
    "650 and odd passengers did not have parent/child \n",
    "100 and odd had 1 Parent/Child\n",
    "80 peopple had 2 Parent/child\n",
    "Remaining 13 passengers had either 3/4/5 people on board\n",
    "Rest had 6 people from their family\n"
   ]
  }
 ],
 "metadata": {
  "colab": {
   "collapsed_sections": [],
   "name": "Sprint1_MG.ipynb",
   "provenance": []
  },
  "kernelspec": {
   "display_name": "Python 3 (ipykernel)",
   "language": "python",
   "name": "python3"
  },
  "language_info": {
   "codemirror_mode": {
    "name": "ipython",
    "version": 3
   },
   "file_extension": ".py",
   "mimetype": "text/x-python",
   "name": "python",
   "nbconvert_exporter": "python",
   "pygments_lexer": "ipython3",
   "version": "3.9.7"
  }
 },
 "nbformat": 4,
 "nbformat_minor": 1
}
